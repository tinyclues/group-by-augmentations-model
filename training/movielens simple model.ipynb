{
 "cells": [
  {
   "cell_type": "markdown",
   "id": "edef15d4-49a3-40e3-82f1-2f1fd17c820d",
   "metadata": {},
   "source": [
    "# Training simple model and evalualing its predictions on different tasks"
   ]
  },
  {
   "cell_type": "markdown",
   "id": "9113fe5b-43bd-4872-b416-86ef0ee54a02",
   "metadata": {},
   "source": [
    "## Prepare dataset for training"
   ]
  },
  {
   "cell_type": "markdown",
   "id": "ac87ae1e-3893-4a7c-9bd7-5c84bbcc5259",
   "metadata": {},
   "source": [
    "First let's load splitted dataset generated in [another notebook](https://github.com/tinyclues/recsys-multi-atrribute-benchmark/blob/master/dataset_preprocessing/movielens%20with%20imdb.ipynb)"
   ]
  },
  {
   "cell_type": "code",
   "execution_count": 1,
   "id": "807a30be-3b5c-4ab5-9b83-877fadbc4528",
   "metadata": {},
   "outputs": [],
   "source": [
    "DATASET = 'movielens_imdb'"
   ]
  },
  {
   "cell_type": "code",
   "execution_count": 2,
   "id": "ffcb1cef-b1d7-4f13-8c07-68b7cfdc8bb8",
   "metadata": {},
   "outputs": [
    {
     "name": "stderr",
     "output_type": "stream",
     "text": [
      "2023-02-24 09:27:36.694840: I tensorflow/core/platform/cpu_feature_guard.cc:193] This TensorFlow binary is optimized with oneAPI Deep Neural Network Library (oneDNN) to use the following CPU instructions in performance-critical operations:  AVX2 FMA\n",
      "To enable them in other operations, rebuild TensorFlow with the appropriate compiler flags.\n",
      "2023-02-24 09:27:39.576068: W tensorflow/compiler/xla/stream_executor/platform/default/dso_loader.cc:64] Could not load dynamic library 'libcudart.so.11.0'; dlerror: libcudart.so.11.0: cannot open shared object file: No such file or directory; LD_LIBRARY_PATH: /usr/local/cuda/lib64:/usr/local/cuda/lib:/usr/local/lib/x86_64-linux-gnu:/usr/local/nvidia/lib:/usr/local/nvidia/lib64:\n",
      "2023-02-24 09:27:39.576140: I tensorflow/compiler/xla/stream_executor/cuda/cudart_stub.cc:29] Ignore above cudart dlerror if you do not have a GPU set up on your machine.\n",
      "2023-02-24 09:27:48.001812: W tensorflow/compiler/xla/stream_executor/platform/default/dso_loader.cc:64] Could not load dynamic library 'libnvinfer.so.7'; dlerror: libnvinfer.so.7: cannot open shared object file: No such file or directory; LD_LIBRARY_PATH: /usr/local/cuda/lib64:/usr/local/cuda/lib:/usr/local/lib/x86_64-linux-gnu:/usr/local/nvidia/lib:/usr/local/nvidia/lib64:\n",
      "2023-02-24 09:27:48.003334: W tensorflow/compiler/xla/stream_executor/platform/default/dso_loader.cc:64] Could not load dynamic library 'libnvinfer_plugin.so.7'; dlerror: libnvinfer_plugin.so.7: cannot open shared object file: No such file or directory; LD_LIBRARY_PATH: /usr/local/cuda/lib64:/usr/local/cuda/lib:/usr/local/lib/x86_64-linux-gnu:/usr/local/nvidia/lib:/usr/local/nvidia/lib64:\n",
      "2023-02-24 09:27:48.003366: W tensorflow/compiler/tf2tensorrt/utils/py_utils.cc:38] TF-TRT Warning: Cannot dlopen some TensorRT libraries. If you would like to use Nvidia GPU with TensorRT, please make sure the missing libraries mentioned above are installed properly.\n"
     ]
    },
    {
     "name": "stdout",
     "output_type": "stream",
     "text": [
      "WARNING:tensorflow:From /home/jupyter/recsys-multi-atrribute-benchmark/training/utils.py:23: load (from tensorflow.python.data.experimental.ops.io) is deprecated and will be removed in a future version.\n",
      "Instructions for updating:\n",
      "Use `tf.data.Dataset.load(...)` instead.\n"
     ]
    },
    {
     "name": "stderr",
     "output_type": "stream",
     "text": [
      "2023-02-24 09:27:54.721237: W tensorflow/compiler/xla/stream_executor/platform/default/dso_loader.cc:64] Could not load dynamic library 'libcuda.so.1'; dlerror: libcuda.so.1: cannot open shared object file: No such file or directory; LD_LIBRARY_PATH: /usr/local/cuda/lib64:/usr/local/cuda/lib:/usr/local/lib/x86_64-linux-gnu:/usr/local/nvidia/lib:/usr/local/nvidia/lib64:\n",
      "2023-02-24 09:27:54.721299: W tensorflow/compiler/xla/stream_executor/cuda/cuda_driver.cc:265] failed call to cuInit: UNKNOWN ERROR (303)\n",
      "2023-02-24 09:27:54.721355: I tensorflow/compiler/xla/stream_executor/cuda/cuda_diagnostics.cc:156] kernel driver does not appear to be running on this host (ca58cf121ac4): /proc/driver/nvidia/version does not exist\n",
      "2023-02-24 09:27:54.722815: I tensorflow/core/platform/cpu_feature_guard.cc:193] This TensorFlow binary is optimized with oneAPI Deep Neural Network Library (oneDNN) to use the following CPU instructions in performance-critical operations:  AVX2 FMA\n",
      "To enable them in other operations, rebuild TensorFlow with the appropriate compiler flags.\n"
     ]
    }
   ],
   "source": [
    "import tensorflow as tf\n",
    "\n",
    "from utils import load_dataset\n",
    "\n",
    "datasets = {}\n",
    "for split_name in ['train', 'val', 'test']:\n",
    "    datasets[split_name] = load_dataset(DATASET, split_name)"
   ]
  },
  {
   "cell_type": "markdown",
   "id": "529c9be2-9c71-4bfc-ba64-931c0b4294ec",
   "metadata": {},
   "source": [
    "We can parse features' names, they were chosen to easily distinguish between offer features (that will be used to modelize film) and user features (aggregated history up to chosen date)."
   ]
  },
  {
   "cell_type": "code",
   "execution_count": 3,
   "id": "4bacd6ec-088e-43f7-8741-f817389aeaf9",
   "metadata": {},
   "outputs": [],
   "source": [
    "from utils import AGG_PREFIX\n",
    "\n",
    "all_columns = list(datasets['train'].element_spec.keys())\n",
    "technical_columns = ['userId', 'date']\n",
    "user_features = list(filter(lambda x: x.startswith(AGG_PREFIX), all_columns))\n",
    "offer_features = list(filter(lambda x: x not in user_features + technical_columns, all_columns))"
   ]
  },
  {
   "cell_type": "code",
   "execution_count": 4,
   "id": "e749c7c8-ccce-4996-9dbb-ddd4b30535f3",
   "metadata": {},
   "outputs": [
    {
     "data": {
      "text/plain": [
       "['aggregated_ratings_startYearCluster',\n",
       " 'aggregated_ratings_titleType',\n",
       " 'aggregated_ratings_imdbId',\n",
       " 'aggregated_ratings_director',\n",
       " 'aggregated_ratings_genre',\n",
       " 'aggregated_ratings_runtimeMinutesCluster',\n",
       " 'aggregated_ratings_actor']"
      ]
     },
     "execution_count": 4,
     "metadata": {},
     "output_type": "execute_result"
    }
   ],
   "source": [
    "user_features"
   ]
  },
  {
   "cell_type": "code",
   "execution_count": 5,
   "id": "8fc16225-1bf0-42cd-96cc-dde804d0f8cf",
   "metadata": {},
   "outputs": [
    {
     "data": {
      "text/plain": [
       "['imdbId',\n",
       " 'runtimeMinutesCluster',\n",
       " 'director',\n",
       " 'actor',\n",
       " 'titleType',\n",
       " 'genre',\n",
       " 'startYearCluster']"
      ]
     },
     "execution_count": 5,
     "metadata": {},
     "output_type": "execute_result"
    }
   ],
   "source": [
    "offer_features"
   ]
  },
  {
   "cell_type": "markdown",
   "id": "9cb38696-3ad7-4edc-9331-663f031c11a9",
   "metadata": {},
   "source": [
    "### Rebatch dataset by events"
   ]
  },
  {
   "cell_type": "markdown",
   "id": "993d1d8c-60a7-4e91-8507-a4d63aafff4e",
   "metadata": {},
   "source": [
    "First we will unnest events for each user (stored in second dimension of saved tensors) and keep only limited number of them. This operation will be needed further to avoid collisions during generation of negative examples. Then we will rebatch results into smaller batches (`50400` events for validation and test sets and `10080` events for train set)."
   ]
  },
  {
   "cell_type": "code",
   "execution_count": 6,
   "id": "ea02c22b-3128-4312-ac7e-eba7ba312b41",
   "metadata": {},
   "outputs": [
    {
     "name": "stdout",
     "output_type": "stream",
     "text": [
      "WARNING:tensorflow:From /opt/conda/lib/python3.7/site-packages/tensorflow/python/autograph/pyct/static_analysis/liveness.py:83: Analyzer.lamba_check (from tensorflow.python.autograph.pyct.static_analysis.liveness) is deprecated and will be removed after 2023-09-23.\n",
      "Instructions for updating:\n",
      "Lambda fuctions will be no more assumed to be used in the statement where they are used, or at least in the same block. https://github.com/tensorflow/tensorflow/issues/56089\n",
      "CPU times: user 41.5 s, sys: 7.71 s, total: 49.2 s\n",
      "Wall time: 40 s\n"
     ]
    }
   ],
   "source": [
    "%%time\n",
    "\n",
    "from functools import partial\n",
    "from uuid import uuid4\n",
    "\n",
    "from utils import rebatch_by_events\n",
    "\n",
    "datasets['train'] = rebatch_by_events(datasets['train'], batch_size=10080, date_column='date', nb_events_by_user_by_day=8)\n",
    "for key in ['val', 'test']:\n",
    "    datasets[key] = rebatch_by_events(datasets[key], batch_size=50400, date_column='date', nb_events_by_user_by_day=8,\n",
    "                                      seed=1729).cache(f'/tmp/{uuid4()}.tf')"
   ]
  },
  {
   "cell_type": "code",
   "execution_count": 7,
   "id": "34f438dd-88d2-4149-ba09-9bc776344d2a",
   "metadata": {},
   "outputs": [
    {
     "data": {
      "text/plain": [
       "10080"
      ]
     },
     "execution_count": 7,
     "metadata": {},
     "output_type": "execute_result"
    }
   ],
   "source": [
    "train_batch, y = next(iter(datasets['train']))\n",
    "train_batch['imdbId'].shape[0]  # check batch size"
   ]
  },
  {
   "cell_type": "markdown",
   "id": "e6267056-b152-448e-a905-515cf6780d4f",
   "metadata": {},
   "source": [
    "## Define simple model"
   ]
  },
  {
   "cell_type": "markdown",
   "id": "c5585ad1-6f31-4bee-ba40-d1aac2f9a625",
   "metadata": {},
   "source": [
    "Let's now define a simple model we want to test. Independetly from model's choice we need to embed inputs in some vectorial space. To define such embeddings we need number of different modalities inputs can take, and we can get this information from saved vectorizers:"
   ]
  },
  {
   "cell_type": "code",
   "execution_count": 8,
   "id": "2d690110-f133-4702-8533-8eb10e41b686",
   "metadata": {},
   "outputs": [],
   "source": [
    "from utils import load_inverse_lookups\n",
    "inverse_lookups = load_inverse_lookups(DATASET)"
   ]
  },
  {
   "cell_type": "code",
   "execution_count": 9,
   "id": "488d715b-2447-4235-93ee-4297dc5954a9",
   "metadata": {},
   "outputs": [],
   "source": [
    "import re\n",
    "\n",
    "vocabulary_sizes = {}\n",
    "\n",
    "for feature in offer_features:\n",
    "    vocabulary_sizes[feature] = inverse_lookups[feature].vocabulary_size()\n",
    "\n",
    "for feature in user_features:\n",
    "    for key in inverse_lookups:\n",
    "        pattern = re.compile(r\"{}(\\w+)_{}\".format(AGG_PREFIX, key))\n",
    "        if pattern.match(feature):\n",
    "            vocabulary_sizes[feature] = vocabulary_sizes[key]"
   ]
  },
  {
   "cell_type": "markdown",
   "id": "b38ad366-26b9-4443-8a63-27008d154f79",
   "metadata": {},
   "source": [
    "Now `vocabulary_sizes` contains modality of each feature"
   ]
  },
  {
   "cell_type": "code",
   "execution_count": 10,
   "id": "4276ac0a-6e6c-4ccc-b65e-f24c24eaf170",
   "metadata": {},
   "outputs": [
    {
     "data": {
      "text/plain": [
       "{'imdbId': 7894,\n",
       " 'runtimeMinutesCluster': 35,\n",
       " 'director': 3104,\n",
       " 'actor': 2507,\n",
       " 'titleType': 20,\n",
       " 'genre': 36,\n",
       " 'startYearCluster': 40,\n",
       " 'aggregated_ratings_startYearCluster': 40,\n",
       " 'aggregated_ratings_titleType': 20,\n",
       " 'aggregated_ratings_imdbId': 7894,\n",
       " 'aggregated_ratings_director': 3104,\n",
       " 'aggregated_ratings_genre': 36,\n",
       " 'aggregated_ratings_runtimeMinutesCluster': 35,\n",
       " 'aggregated_ratings_actor': 2507}"
      ]
     },
     "execution_count": 10,
     "metadata": {},
     "output_type": "execute_result"
    }
   ],
   "source": [
    "vocabulary_sizes"
   ]
  },
  {
   "cell_type": "markdown",
   "id": "31a273a2-67d6-4bae-9c3b-282b64346329",
   "metadata": {},
   "source": [
    "### Model architecture"
   ]
  },
  {
   "cell_type": "markdown",
   "id": "6f744f91-e1df-4aac-b450-44a425a4ee8e",
   "metadata": {},
   "source": [
    "For the benchmarks we want to do, model's architecture doesn't play a crucial role, we saw the same problems in any model that averages embeddings of offer features in a naive way. So let's take some simple model's architecture, for example collaborative filtering using two towers neural network:"
   ]
  },
  {
   "cell_type": "markdown",
   "id": "692a7645-1ab1-441b-bb20-b4d2b0d42e20",
   "metadata": {},
   "source": [
    "<img src=\"resources/two_towers_model.png\" alt=\"two tower model\" width=\"800\" />"
   ]
  },
  {
   "cell_type": "markdown",
   "id": "f3f2bac6-852a-4c0a-ba11-e8984ae67ac9",
   "metadata": {},
   "source": [
    "### Model parameters"
   ]
  },
  {
   "cell_type": "markdown",
   "id": "028e0008-74ee-4c60-810c-39f4baa6c710",
   "metadata": {},
   "source": [
    "To choose model's parameters we did some manual tuning using validation set to maximize train and test AUC while keeping mismatch between them small."
   ]
  },
  {
   "cell_type": "code",
   "execution_count": 11,
   "id": "f01a2a62-06e6-4758-94a5-5ba3ec5d4452",
   "metadata": {},
   "outputs": [],
   "source": [
    "# model parameters\n",
    "EMBEDDING_DIM = 50\n",
    "L1_COEFF = 1e-8\n",
    "DROPOUT = 0.05\n",
    "\n",
    "\n",
    "def REGULARIZER():\n",
    "    return {'class_name': 'L1L2', 'config': {'l1': L1_COEFF, 'l2': 0.}}\n",
    "\n",
    "def USER_TOWER():\n",
    "    return tf.keras.Sequential([\n",
    "        tf.keras.layers.BatchNormalization(),\n",
    "        tf.keras.layers.Dense(70,\n",
    "                              kernel_regularizer=REGULARIZER(),\n",
    "                              bias_regularizer=REGULARIZER()),\n",
    "        tf.keras.layers.Dropout(DROPOUT),\n",
    "        tf.keras.layers.Activation('tanh'),\n",
    "    ], name='user_tower')\n",
    "\n",
    "def OFFER_TOWER():\n",
    "    return tf.keras.Sequential([\n",
    "        tf.keras.layers.BatchNormalization(),\n",
    "        tf.keras.layers.Dense(70,\n",
    "                              kernel_regularizer=REGULARIZER(),\n",
    "                              bias_regularizer=REGULARIZER()),\n",
    "        tf.keras.layers.Dropout(DROPOUT),\n",
    "        tf.keras.layers.Activation('tanh'),\n",
    "    ], name='offer_tower')\n",
    "\n",
    "EPOCHS = 3\n",
    "\n",
    "NUMBER_OF_NEGATIVES = 4\n",
    "LOSS = tf.keras.losses.BinaryCrossentropy(from_logits=True)\n",
    "AUC_METRIC = tf.keras.metrics.AUC(from_logits=True)\n",
    "\n",
    "import tensorflow_addons as tfa\n",
    "OPTIMIZER = tfa.optimizers.AdamW(weight_decay=1e-8, learning_rate=0.002)"
   ]
  },
  {
   "cell_type": "markdown",
   "id": "a2f825d2-88ca-41ad-8031-23a4e6fef17a",
   "metadata": {},
   "source": [
    "### Embeddings"
   ]
  },
  {
   "cell_type": "markdown",
   "id": "4d21f78f-2c0a-40b7-b356-6d6ebca614d0",
   "metadata": {},
   "source": [
    "Let's embed all available `user_features` and `offer_features` into vectorial space of dimension `EMBEDDING_DIM`. We use custom embeddings layer class `WeightedEmbeddings` that will automatically take a mean embedding vector when needed.\n",
    "\n",
    "In particular,\n",
    "* `user_features` are lists of attributes and we don't need to take into account any weights.\n",
    "* `offer_features` during the inference can contain lists of attributes because of aggregation. We will also pass weights explicitly during the inference\n",
    "* `offer_features` during training are lists with only one element, so we need to define dummy weights for training\n",
    "\n",
    "All three cases can be treated by the same layer, where we will define a sparse matrix of all attributes we want to embed and then multiply it by the dense matrix with embeddings, multiplying by weights at the same time (if needed)."
   ]
  },
  {
   "cell_type": "code",
   "execution_count": 12,
   "id": "167b3d95-81c0-4edf-b0b3-46c6cc95fcaa",
   "metadata": {},
   "outputs": [],
   "source": [
    "from utils import add_equal_weights\n",
    "\n",
    "for key in datasets:\n",
    "    datasets[key] = datasets[key].map(partial(add_equal_weights, features=offer_features))\n",
    "train_batch, y = next(iter(datasets['train']))"
   ]
  },
  {
   "cell_type": "code",
   "execution_count": 13,
   "id": "d82771e6-24d3-479f-8abe-c93dbdcad8cd",
   "metadata": {},
   "outputs": [
    {
     "data": {
      "text/plain": [
       "<tf.RaggedTensor [[1.0],\n",
       " [1.0],\n",
       " [1.0],\n",
       " [1.0],\n",
       " [1.0]]>"
      ]
     },
     "execution_count": 13,
     "metadata": {},
     "output_type": "execute_result"
    }
   ],
   "source": [
    "# dummy weights needed for training\n",
    "train_batch['genre_weight'][:5]"
   ]
  },
  {
   "cell_type": "code",
   "execution_count": 14,
   "id": "ef6e1b98-5b4d-41ec-8413-92425dd63898",
   "metadata": {},
   "outputs": [
    {
     "data": {
      "text/plain": [
       "<tf.Tensor: shape=(3, 5), dtype=float32, numpy=\n",
       "array([[-0.01020521, -0.00972197, -0.04212242, -0.014316  , -0.03859704],\n",
       "       [ 0.0074319 ,  0.04181221,  0.0189915 ,  0.03271946,  0.04210835],\n",
       "       [-0.00138665,  0.01604512, -0.01156546,  0.00920173,  0.00175565]],\n",
       "      dtype=float32)>"
      ]
     },
     "execution_count": 14,
     "metadata": {},
     "output_type": "execute_result"
    }
   ],
   "source": [
    "# embeddings layer example\n",
    "from layers import WeightedEmbeddings\n",
    "example_layer = WeightedEmbeddings(3, 5, name='test')\n",
    "example_layer(tf.ragged.constant([[0], [1], [0, 1]]))"
   ]
  },
  {
   "cell_type": "markdown",
   "id": "f5aa1e4c-0367-46c8-b85d-b7d5b1d302d5",
   "metadata": {},
   "source": [
    "Now we can define all embeddings layers:"
   ]
  },
  {
   "cell_type": "code",
   "execution_count": 15,
   "id": "07957c19-2b1b-457b-b17d-c9d21e37316f",
   "metadata": {},
   "outputs": [],
   "source": [
    "from layers import get_input_layer, WeightedEmbeddings\n",
    "from utils import WEIGHT_SUFFIX\n",
    "\n",
    "embeddings, inputs = {}, {}\n",
    "for feature in user_features + offer_features:\n",
    "    if feature in offer_features:\n",
    "        # for offer features we need weights:\n",
    "        # with dummy weights during training, and the ones used for a feature's averaging at inference time\n",
    "        inputs[f'{feature}{WEIGHT_SUFFIX}'] = get_input_layer(f'{feature}{WEIGHT_SUFFIX}', tf.float32)\n",
    "    inputs[feature] = get_input_layer(feature)\n",
    "    # here we use input feature modality from `vocabulary_sizes` to know embeddings matrix dimensions\n",
    "    emb_layer = WeightedEmbeddings(vocabulary_sizes[feature],\n",
    "                                   EMBEDDING_DIM, name=f'{feature}_embedding',\n",
    "                                   embeddings_regularizer=REGULARIZER())\n",
    "    embeddings[feature] = emb_layer(inputs[feature], inputs.get(f'{feature}{WEIGHT_SUFFIX}'))"
   ]
  },
  {
   "cell_type": "code",
   "execution_count": 16,
   "id": "13375747-17f8-42cd-ba11-172bc209878a",
   "metadata": {},
   "outputs": [
    {
     "data": {
      "text/plain": [
       "{'aggregated_ratings_startYearCluster': <KerasTensor: shape=(None, 50) dtype=float32 (created by layer 'aggregated_ratings_startYearCluster_embedding')>,\n",
       " 'aggregated_ratings_titleType': <KerasTensor: shape=(None, 50) dtype=float32 (created by layer 'aggregated_ratings_titleType_embedding')>,\n",
       " 'aggregated_ratings_imdbId': <KerasTensor: shape=(None, 50) dtype=float32 (created by layer 'aggregated_ratings_imdbId_embedding')>,\n",
       " 'aggregated_ratings_director': <KerasTensor: shape=(None, 50) dtype=float32 (created by layer 'aggregated_ratings_director_embedding')>,\n",
       " 'aggregated_ratings_genre': <KerasTensor: shape=(None, 50) dtype=float32 (created by layer 'aggregated_ratings_genre_embedding')>,\n",
       " 'aggregated_ratings_runtimeMinutesCluster': <KerasTensor: shape=(None, 50) dtype=float32 (created by layer 'aggregated_ratings_runtimeMinutesCluster_embedding')>,\n",
       " 'aggregated_ratings_actor': <KerasTensor: shape=(None, 50) dtype=float32 (created by layer 'aggregated_ratings_actor_embedding')>,\n",
       " 'imdbId': <KerasTensor: shape=(None, 50) dtype=float32 (created by layer 'imdbId_embedding')>,\n",
       " 'runtimeMinutesCluster': <KerasTensor: shape=(None, 50) dtype=float32 (created by layer 'runtimeMinutesCluster_embedding')>,\n",
       " 'director': <KerasTensor: shape=(None, 50) dtype=float32 (created by layer 'director_embedding')>,\n",
       " 'actor': <KerasTensor: shape=(None, 50) dtype=float32 (created by layer 'actor_embedding')>,\n",
       " 'titleType': <KerasTensor: shape=(None, 50) dtype=float32 (created by layer 'titleType_embedding')>,\n",
       " 'genre': <KerasTensor: shape=(None, 50) dtype=float32 (created by layer 'genre_embedding')>,\n",
       " 'startYearCluster': <KerasTensor: shape=(None, 50) dtype=float32 (created by layer 'startYearCluster_embedding')>}"
      ]
     },
     "execution_count": 16,
     "metadata": {},
     "output_type": "execute_result"
    }
   ],
   "source": [
    "embeddings"
   ]
  },
  {
   "cell_type": "markdown",
   "id": "5698ee88-50ff-4250-af07-c27eebe2a665",
   "metadata": {},
   "source": [
    "### Combining everything into model"
   ]
  },
  {
   "cell_type": "markdown",
   "id": "267636cc-9a2e-469f-9ea7-d259ec05361c",
   "metadata": {},
   "source": [
    "Now we can define described model architecture on the top of embeddings."
   ]
  },
  {
   "cell_type": "code",
   "execution_count": 17,
   "id": "69ab9aa4-9e45-4cbb-a659-7d6688546d6c",
   "metadata": {},
   "outputs": [],
   "source": [
    "embedded_user_features = [embeddings[feature] for feature in user_features]\n",
    "embedded_offer_features = [embeddings[feature] for feature in offer_features]\n",
    "user_tower = USER_TOWER()(tf.keras.layers.Concatenate(name='concat_user')(embedded_user_features))\n",
    "offer_tower = OFFER_TOWER()(tf.keras.layers.Concatenate(name='concat_offer')(embedded_offer_features))"
   ]
  },
  {
   "cell_type": "markdown",
   "id": "f3739f61-7e24-4d05-be34-18edec538267",
   "metadata": {},
   "source": [
    "### Negative generation in mini-batches"
   ]
  },
  {
   "cell_type": "markdown",
   "id": "cbfe350c-3fb8-4e39-901e-431214d10d60",
   "metadata": {},
   "source": [
    "As our dataset contains only positive examples, up to this point we used only them. We have different choices of how to choose negative examples, but we chose most optimal one for calculations (both in memory and time) - we will generate negatives at the same time as calculating interactions between user and offer embeddings, proceding in minibatches:\n",
    "* let's fix a number `N - 1` of how many negative examples we want to generate for each positive one\n",
    "* consider minibatches of size `N` with events done on the same (or close) date (this was ensured by batch construction above), so we will get negative example from the actions on the same date as the positive one, similar to [Contrastive Predictive Coding](https://arxiv.org/abs/1807.03748) method.\n",
    "* inside each minibatch we have users `u1, u2, ..., uN` who rated films `f1, f2, ..., fN` respectively on the same date `d`\n",
    "* let's consider all possible pairs `(u1, f1), (u1, f2), ..., (uN, fN)` (`N ** 2` pairs in total)\n",
    "* among those pairs there are `N` positive examples, all other `N(N - 1)` pairs are considered as negative ones\n",
    "* it gives us exactly `N - 1` negative examples for each from `N` positive ones"
   ]
  },
  {
   "cell_type": "markdown",
   "id": "73ecf1a5-e57e-408b-b30e-ad32d3b2356d",
   "metadata": {},
   "source": [
    "We pair this process with interaction calculation by calculating not only scalar products between positive pairs, but between all `N ** 2` pairs per minibatch. Such operation can be written as multiplication of tensors, keeping number of embeddings calculations fixed (`2 * N` for each minibatch)."
   ]
  },
  {
   "cell_type": "code",
   "execution_count": 18,
   "id": "82a36d9c-4e5a-4f61-afcc-610ecf4504e6",
   "metadata": {},
   "outputs": [],
   "source": [
    "class DotWithNegatives(tf.keras.layers.Layer):\n",
    "    def __init__(self, number_of_negatives, **kwargs):\n",
    "        super().__init__(**kwargs)\n",
    "        self.number_of_negatives = number_of_negatives\n",
    "        \n",
    "    def call(self, inputs, generate_negatives):\n",
    "        user_embeddings, offer_embeddings = inputs\n",
    "        if generate_negatives:\n",
    "            # here we will generate negative examples inside mini-batches\n",
    "            batch_size = tf.shape(user_embeddings)[0]\n",
    "            # we split original batch into mini-batches of size (number_of_negatives + 1)\n",
    "            minibatch_shape = (batch_size // (self.number_of_negatives + 1), (self.number_of_negatives + 1), -1)\n",
    "            user_embeddings = tf.reshape(user_embeddings, minibatch_shape)\n",
    "            offer_embeddings = tf.reshape(offer_embeddings, minibatch_shape)\n",
    "            # for each pair of lines i,j inside minibatch, we consider pairs user/offer\n",
    "            # * as positive examples when i==j\n",
    "            # * as negative examples otherwise\n",
    "            # at the end we flatten mini-batch dimension and obtain batch_size * (number_of_negatives + 1) predictions\n",
    "            res = tf.einsum('bid,bjd->bij', user_embeddings, offer_embeddings)\n",
    "        else:\n",
    "            # otherwise we do just scalar product, let's write it in einsum notation too to see a difference between two\n",
    "            res = tf.einsum('bd,bd->b', user_embeddings, offer_embeddings)\n",
    "        return tf.reshape(res, (-1, 1))"
   ]
  },
  {
   "cell_type": "code",
   "execution_count": 19,
   "id": "c5cee96b-5095-4635-863c-bb6be416a8d5",
   "metadata": {},
   "outputs": [],
   "source": [
    "# we don't apply sigmoid on the output and will have from_logits=True in both loss and metrics\n",
    "output = DotWithNegatives(NUMBER_OF_NEGATIVES, name='prediction')([user_tower, offer_tower], generate_negatives=True)"
   ]
  },
  {
   "cell_type": "code",
   "execution_count": 20,
   "id": "2e77d19f-e3df-4244-b689-feee5db9b6a6",
   "metadata": {},
   "outputs": [
    {
     "data": {
      "text/plain": [
       "<KerasTensor: shape=(None, 1) dtype=float32 (created by layer 'prediction')>"
      ]
     },
     "execution_count": 20,
     "metadata": {},
     "output_type": "execute_result"
    }
   ],
   "source": [
    "output"
   ]
  },
  {
   "cell_type": "markdown",
   "id": "c8d22722-8de8-4093-a46b-cd7fe4553af7",
   "metadata": {},
   "source": [
    "Now our labels from batch are not aligned with output we produce, to get positive/negative labels at needed positions we just need to find which index would correspond to which label when considering a minibatch. This logic is implemented in auxilary classes `BroadcastLoss` and `BroadcastMetric`."
   ]
  },
  {
   "cell_type": "code",
   "execution_count": 21,
   "id": "53c2d19a-acd9-4fd8-9bcf-a9865f65bace",
   "metadata": {},
   "outputs": [],
   "source": [
    "from utils import BroadcastLoss, BroadcastMetric\n",
    "\n",
    "model = tf.keras.Model(inputs, output, name='two_tower_model')\n",
    "model.compile(optimizer=OPTIMIZER,\n",
    "              loss=BroadcastLoss(LOSS, NUMBER_OF_NEGATIVES),\n",
    "              metrics=[BroadcastMetric(AUC_METRIC, NUMBER_OF_NEGATIVES)])"
   ]
  },
  {
   "cell_type": "code",
   "execution_count": 22,
   "id": "bc3fa47b-2ac2-40b1-aa26-e8cc56fab46b",
   "metadata": {
    "tags": []
   },
   "outputs": [
    {
     "data": {
      "image/png": "[encoded data removed]",
      "text/plain": [
       "<IPython.core.display.Image object>"
      ]
     },
     "execution_count": 22,
     "metadata": {},
     "output_type": "execute_result"
    }
   ],
   "source": [
    "tf.keras.utils.plot_model(model, show_shapes=True, show_layer_names=True, to_file=f'models/{DATASET}_simple_model.png')"
   ]
  },
  {
   "cell_type": "markdown",
   "id": "237702cb-fa87-45dc-8966-020cf9bf2515",
   "metadata": {},
   "source": [
    "### Training"
   ]
  },
  {
   "cell_type": "code",
   "execution_count": 23,
   "id": "dd296d8f-4ea9-4ed3-b235-7666ef49cc52",
   "metadata": {
    "tags": []
   },
   "outputs": [
    {
     "name": "stdout",
     "output_type": "stream",
     "text": [
      "Epoch 1/3\n"
     ]
    },
    {
     "name": "stderr",
     "output_type": "stream",
     "text": [
      "/opt/conda/lib/python3.7/site-packages/keras/engine/functional.py:638: UserWarning: Input dict contained keys ['userId', 'date'] which did not match any model input. They will be ignored by the model.\n",
      "  inputs = self._flatten_to_reference_inputs(inputs)\n"
     ]
    },
    {
     "name": "stdout",
     "output_type": "stream",
     "text": [
      "    231/Unknown - 105s 290ms/step - loss: 0.4994 - auc: 0.6138"
     ]
    },
    {
     "name": "stderr",
     "output_type": "stream",
     "text": [
      "2023-02-24 09:31:21.104731: W tensorflow/core/kernels/data/cache_dataset_ops.cc:296] The calling iterator did not fully read the dataset being cached. In order to avoid unexpected truncation of the dataset, the partially cached contents of the dataset  will be discarded. This can happen if you have an input pipeline similar to `dataset.cache().take(k).repeat()`. You should use `dataset.take(k).cache().repeat()` instead.\n"
     ]
    },
    {
     "name": "stdout",
     "output_type": "stream",
     "text": [
      "231/231 [==============================] - 128s 390ms/step - loss: 0.4994 - auc: 0.6138 - val_loss: 0.5233 - val_auc: 0.5356\n"
     ]
    },
    {
     "name": "stderr",
     "output_type": "stream",
     "text": [
      "2023-02-24 09:31:41.437469: W tensorflow/core/kernels/data/cache_dataset_ops.cc:296] The calling iterator did not fully read the dataset being cached. In order to avoid unexpected truncation of the dataset, the partially cached contents of the dataset  will be discarded. This can happen if you have an input pipeline similar to `dataset.cache().take(k).repeat()`. You should use `dataset.take(k).cache().repeat()` instead.\n"
     ]
    },
    {
     "name": "stdout",
     "output_type": "stream",
     "text": [
      "Epoch 2/3\n",
      "231/231 [==============================] - 76s 303ms/step - loss: 0.4721 - auc: 0.6639 - val_loss: 0.5044 - val_auc: 0.6085\n",
      "Epoch 3/3\n",
      "231/231 [==============================] - 77s 299ms/step - loss: 0.4689 - auc: 0.6722 - val_loss: 0.4816 - val_auc: 0.6403\n"
     ]
    },
    {
     "data": {
      "text/plain": [
       "<keras.callbacks.History at 0x7f67cd705f50>"
      ]
     },
     "execution_count": 23,
     "metadata": {},
     "output_type": "execute_result"
    }
   ],
   "source": [
    "# TODO something wrong AUC stays at 0.5\n",
    "model.fit(datasets['train'], epochs=EPOCHS, validation_data=datasets['val'])"
   ]
  },
  {
   "cell_type": "markdown",
   "id": "b7595399-bced-44ae-bbf6-05f2534141fd",
   "metadata": {},
   "source": [
    "## Single task models benchmark (In progress)"
   ]
  },
  {
   "cell_type": "markdown",
   "id": "910110b3-f9b1-4663-80b9-d303ebc97359",
   "metadata": {},
   "source": [
    "As described in (TODO link to article) we can consider predictions on one chosen offer column as a single task and the whole setup as a multi-task problem. Let's now evaluate performance of a common model on a subset of tasks. We will compare its results against single task models sharing the same architecture, but using only one offer feature at time."
   ]
  },
  {
   "cell_type": "code",
   "execution_count": 66,
   "id": "6669fc5c-fa01-4e50-95e9-c4bbd66eb10b",
   "metadata": {},
   "outputs": [],
   "source": [
    "# offer columns we want to evaluate, specific to dataset we test\n",
    "TASKS = ['imdbId', 'director', 'genre']"
   ]
  },
  {
   "cell_type": "markdown",
   "id": "e05482dc-6ce3-47f0-8c5f-d9d25a0ecb3c",
   "metadata": {},
   "source": [
    "For simplicity of further code, let's wrap whole model definition into a function:"
   ]
  },
  {
   "cell_type": "code",
   "execution_count": 25,
   "id": "9a45e96a-b5fe-4ad2-a20b-a3aad3773571",
   "metadata": {},
   "outputs": [],
   "source": [
    "def two_tower_model(offer_features, name='two_tower_model'):\n",
    "    # user_features, vocabulary_sizes, EMBEDDING_DIM, REGULARIZER, USER_TOWER, OFFER_TOWER,\n",
    "    # OPTIMIZER, LOSS, NUMBER_OF_NEGATIVES\n",
    "    # come from global scope, but can be passed as params instead\n",
    "    embeddings, inputs = {}, {}\n",
    "    for feature in user_features + offer_features:\n",
    "        if feature in offer_features:\n",
    "            # for offer features we need weights:\n",
    "            # with dummy weights during training, and the ones used for a feature's averaging at inference time\n",
    "            inputs[f'{feature}{WEIGHT_SUFFIX}'] = get_input_layer(f'{feature}{WEIGHT_SUFFIX}', tf.float32)\n",
    "        inputs[feature] = get_input_layer(feature)\n",
    "        # here we use input feature modality from `vocabulary_sizes` to know embeddings matrix dimensions\n",
    "        emb_layer = WeightedEmbeddings(vocabulary_sizes[feature],\n",
    "                                       EMBEDDING_DIM, name=f'{feature}_embedding',\n",
    "                                       embeddings_regularizer=REGULARIZER())\n",
    "        embeddings[feature] = emb_layer(inputs[feature], inputs.get(f'{feature}{WEIGHT_SUFFIX}'))\n",
    "    \n",
    "    embedded_user_features = [embeddings[feature] for feature in user_features]\n",
    "    embedded_offer_features = [embeddings[feature] for feature in offer_features]\n",
    "    user_tower = USER_TOWER()(tf.keras.layers.Concatenate(name='concat_user')(embedded_user_features))\n",
    "    offer_tower = OFFER_TOWER()(tf.keras.layers.Concatenate(name='concat_offer')(embedded_offer_features))\n",
    "    \n",
    "    output = DotWithNegatives(NUMBER_OF_NEGATIVES, name='prediction')([user_tower, offer_tower], generate_negatives=True)\n",
    "    model = tf.keras.Model(inputs, output, name=name)\n",
    "    model.compile(optimizer=OPTIMIZER,\n",
    "                  loss=BroadcastLoss(LOSS, NUMBER_OF_NEGATIVES),\n",
    "                  metrics=[BroadcastMetric(AUC_METRIC, NUMBER_OF_NEGATIVES)])\n",
    "    \n",
    "    return model"
   ]
  },
  {
   "cell_type": "markdown",
   "id": "191a9dca-20e1-4bda-9f32-0fe31f1cca5b",
   "metadata": {},
   "source": [
    "We train models that use only one offer feature with same hyperparameters as the initial model."
   ]
  },
  {
   "cell_type": "code",
   "execution_count": 26,
   "id": "984349ef-6d9a-4e99-9711-5c0a33bc3a7e",
   "metadata": {},
   "outputs": [
    {
     "name": "stdout",
     "output_type": "stream",
     "text": [
      "Epoch 1/3\n"
     ]
    },
    {
     "name": "stderr",
     "output_type": "stream",
     "text": [
      "/opt/conda/lib/python3.7/site-packages/keras/engine/functional.py:638: UserWarning: Input dict contained keys ['runtimeMinutesCluster', 'userId', 'director', 'actor', 'date', 'titleType', 'genre', 'startYearCluster', 'runtimeMinutesCluster_weight', 'director_weight', 'actor_weight', 'titleType_weight', 'genre_weight', 'startYearCluster_weight'] which did not match any model input. They will be ignored by the model.\n",
      "  inputs = self._flatten_to_reference_inputs(inputs)\n"
     ]
    },
    {
     "name": "stdout",
     "output_type": "stream",
     "text": [
      "231/231 [==============================] - 96s 315ms/step - loss: 0.4972 - auc: 0.6126 - val_loss: 0.5098 - val_auc: 0.5445\n",
      "Epoch 2/3\n",
      "231/231 [==============================] - 72s 277ms/step - loss: 0.4726 - auc: 0.6622 - val_loss: 0.5010 - val_auc: 0.6154\n",
      "Epoch 3/3\n",
      "231/231 [==============================] - 70s 278ms/step - loss: 0.4694 - auc: 0.6703 - val_loss: 0.4810 - val_auc: 0.6420\n",
      "Epoch 1/3\n"
     ]
    },
    {
     "name": "stderr",
     "output_type": "stream",
     "text": [
      "/opt/conda/lib/python3.7/site-packages/keras/engine/functional.py:638: UserWarning: Input dict contained keys ['imdbId', 'runtimeMinutesCluster', 'userId', 'actor', 'date', 'titleType', 'genre', 'startYearCluster', 'imdbId_weight', 'runtimeMinutesCluster_weight', 'actor_weight', 'titleType_weight', 'genre_weight', 'startYearCluster_weight'] which did not match any model input. They will be ignored by the model.\n",
      "  inputs = self._flatten_to_reference_inputs(inputs)\n"
     ]
    },
    {
     "name": "stdout",
     "output_type": "stream",
     "text": [
      "231/231 [==============================] - 95s 315ms/step - loss: 0.5018 - auc: 0.5977 - val_loss: 0.5083 - val_auc: 0.5325\n",
      "Epoch 2/3\n",
      "231/231 [==============================] - 71s 276ms/step - loss: 0.4805 - auc: 0.6351 - val_loss: 0.4991 - val_auc: 0.5946\n",
      "Epoch 3/3\n",
      "231/231 [==============================] - 69s 275ms/step - loss: 0.4783 - auc: 0.6417 - val_loss: 0.4865 - val_auc: 0.6178\n",
      "Epoch 1/3\n"
     ]
    },
    {
     "name": "stderr",
     "output_type": "stream",
     "text": [
      "/opt/conda/lib/python3.7/site-packages/keras/engine/functional.py:638: UserWarning: Input dict contained keys ['imdbId', 'runtimeMinutesCluster', 'userId', 'director', 'actor', 'date', 'titleType', 'startYearCluster', 'imdbId_weight', 'runtimeMinutesCluster_weight', 'director_weight', 'actor_weight', 'titleType_weight', 'startYearCluster_weight'] which did not match any model input. They will be ignored by the model.\n",
      "  inputs = self._flatten_to_reference_inputs(inputs)\n"
     ]
    },
    {
     "name": "stdout",
     "output_type": "stream",
     "text": [
      "231/231 [==============================] - 98s 331ms/step - loss: 0.5251 - auc: 0.5396 - val_loss: 0.5027 - val_auc: 0.5075\n",
      "Epoch 2/3\n",
      "231/231 [==============================] - 73s 290ms/step - loss: 0.4978 - auc: 0.5530 - val_loss: 0.5010 - val_auc: 0.5273\n",
      "Epoch 3/3\n",
      "231/231 [==============================] - 73s 289ms/step - loss: 0.4969 - auc: 0.5574 - val_loss: 0.4984 - val_auc: 0.5471\n"
     ]
    }
   ],
   "source": [
    "mono_feature_models = {}\n",
    "for task_offer_feature in TASKS:\n",
    "    mono_feature_models[task_offer_feature] = two_tower_model([task_offer_feature],\n",
    "                                                              name=f'{task_offer_feature}_model')\n",
    "    mono_feature_models[task_offer_feature].fit(datasets['train'],\n",
    "                                                epochs=EPOCHS,\n",
    "                                                validation_data=datasets['val'])"
   ]
  },
  {
   "cell_type": "markdown",
   "id": "e416a20a-7564-44a1-812d-6c9b1ca29b02",
   "metadata": {},
   "source": [
    "## Evaluation"
   ]
  },
  {
   "cell_type": "markdown",
   "id": "95506c1c-1d7e-41b2-b4d9-7e46d9c59e79",
   "metadata": {},
   "source": [
    "Now let's load test dataset and transform it for each task: TODO"
   ]
  },
  {
   "cell_type": "code",
   "execution_count": 27,
   "id": "64cf7c3c-cb90-486e-b321-7240451ea392",
   "metadata": {},
   "outputs": [],
   "source": [
    "raw_test_ds = load_dataset(DATASET, 'test')"
   ]
  },
  {
   "cell_type": "code",
   "execution_count": 70,
   "id": "1aa2ddd9-efcc-4d32-9ff7-81eb033a9faf",
   "metadata": {},
   "outputs": [
    {
     "name": "stdout",
     "output_type": "stream",
     "text": [
      "CPU times: user 2min 40s, sys: 15.5 s, total: 2min 55s\n",
      "Wall time: 2min 33s\n"
     ]
    }
   ],
   "source": [
    "%%time\n",
    "from utils import prepare_single_task_dataset\n",
    "test_datasets = {}\n",
    "for task_offer_feature in TASKS:\n",
    "    test_datasets[task_offer_feature] = \\\n",
    "        prepare_single_task_dataset(raw_test_ds, 50400, task_offer_feature, offer_features, 'date')"
   ]
  },
  {
   "cell_type": "markdown",
   "id": "4e37e8cc-2b65-4654-afdc-7da7ee11fbf7",
   "metadata": {},
   "source": [
    "Test dataset for a given task keeps a column used for group by as is, but other offer columns become lists (to encode bag of values) and we need to average embeddings for them:"
   ]
  },
  {
   "cell_type": "code",
   "execution_count": 71,
   "id": "c9e5e18d-fde0-4684-80ba-6cf637a81e57",
   "metadata": {},
   "outputs": [],
   "source": [
    "test_batch, y = next(iter(test_datasets['genre']))"
   ]
  },
  {
   "cell_type": "code",
   "execution_count": 72,
   "id": "d84f438f-4526-4132-aa9f-9c15dca33bea",
   "metadata": {},
   "outputs": [
    {
     "data": {
      "text/plain": [
       "<tf.RaggedTensor [[15],\n",
       " [17],\n",
       " [12],\n",
       " [15],\n",
       " [18]]>"
      ]
     },
     "execution_count": 72,
     "metadata": {},
     "output_type": "execute_result"
    }
   ],
   "source": [
    "test_batch['genre'][:5]"
   ]
  },
  {
   "cell_type": "code",
   "execution_count": 73,
   "id": "de9c840f-fb0d-4dad-b50e-6359ee31f947",
   "metadata": {},
   "outputs": [
    {
     "data": {
      "text/plain": [
       "<tf.RaggedTensor [[1.0],\n",
       " [1.0],\n",
       " [1.0],\n",
       " [1.0],\n",
       " [1.0]]>"
      ]
     },
     "execution_count": 73,
     "metadata": {},
     "output_type": "execute_result"
    }
   ],
   "source": [
    "test_batch['genre_weight'][:5]"
   ]
  },
  {
   "cell_type": "code",
   "execution_count": 74,
   "id": "232acc42-8751-449a-894f-7f8c4c1a7447",
   "metadata": {},
   "outputs": [
    {
     "data": {
      "text/plain": [
       "<tf.RaggedTensor [[105, 135, 32, 126, 43, 127, 13, 55, 62, 88, 151, 94, 233, 36, 11, 72,\n",
       "  20, 60, 160, 89, 149, 113, 85, 16, 165, 173, 277, 248, 370, 220, 111,\n",
       "  156, 59, 184, 319, 425, 441, 239, 80, 463, 477, 294, 415, 107, 430, 311,\n",
       "  25, 206, 561, 565, 118, 386, 17, 475, 284, 42, 593, 388]]>"
      ]
     },
     "execution_count": 74,
     "metadata": {},
     "output_type": "execute_result"
    }
   ],
   "source": [
    "test_batch['director'][:1]"
   ]
  },
  {
   "cell_type": "code",
   "execution_count": 75,
   "id": "9bb8c63b-a6fb-42a1-af9c-8e937ce70ab4",
   "metadata": {},
   "outputs": [
    {
     "data": {
      "text/plain": [
       "<tf.RaggedTensor [[0.053365417, 0.04219131, 0.03912585, 0.036258157, 0.035269298,\n",
       "  0.033357505, 0.032994922, 0.031742368, 0.03137979, 0.030720549,\n",
       "  0.028643945, 0.025776254, 0.02468851, 0.024655547, 0.023798537,\n",
       "  0.023600765, 0.023435954, 0.02333707, 0.021754894, 0.020601226,\n",
       "  0.020370493, 0.020205682, 0.020106796, 0.018755356, 0.01697541,\n",
       "  0.016415058, 0.01410772, 0.013876986, 0.012492583, 0.012162964,\n",
       "  0.011932231, 0.011833345, 0.011141143, 0.0107456, 0.010679675,\n",
       "  0.010317094, 0.009558969, 0.009295274, 0.00889973, 0.008866767,\n",
       "  0.008636034, 0.008438262, 0.008438262, 0.007811985, 0.0074164416,\n",
       "  0.007086822, 0.0070208977, 0.006790164, 0.006790164, 0.0067242403,\n",
       "  0.0065594306, 0.0064935065, 0.0062957346, 0.006130925, 0.006097963,\n",
       "  0.005999077, 0.005933153, 0.005900191]]>"
      ]
     },
     "execution_count": 75,
     "metadata": {},
     "output_type": "execute_result"
    }
   ],
   "source": [
    "test_batch['director_weight'][:1]"
   ]
  },
  {
   "cell_type": "code",
   "execution_count": 95,
   "id": "d0966f43-5ea6-4291-9fc8-5b48375da541",
   "metadata": {},
   "outputs": [
    {
     "name": "stderr",
     "output_type": "stream",
     "text": [
      "/opt/conda/lib/python3.7/site-packages/keras/engine/functional.py:638: UserWarning: Input dict contained keys ['runtimeMinutesCluster', 'userId', 'director', 'actor', 'date', 'titleType', 'genre', 'startYearCluster', 'runtimeMinutesCluster_weight', 'director_weight', 'actor_weight', 'titleType_weight', 'genre_weight', 'startYearCluster_weight'] which did not match any model input. They will be ignored by the model.\n",
      "  inputs = self._flatten_to_reference_inputs(inputs)\n",
      "/opt/conda/lib/python3.7/site-packages/keras/engine/functional.py:638: UserWarning: Input dict contained keys ['imdbId', 'runtimeMinutesCluster', 'userId', 'actor', 'date', 'titleType', 'genre', 'startYearCluster', 'imdbId_weight', 'runtimeMinutesCluster_weight', 'actor_weight', 'titleType_weight', 'genre_weight', 'startYearCluster_weight'] which did not match any model input. They will be ignored by the model.\n",
      "  inputs = self._flatten_to_reference_inputs(inputs)\n",
      "/opt/conda/lib/python3.7/site-packages/keras/engine/functional.py:638: UserWarning: Input dict contained keys ['imdbId', 'runtimeMinutesCluster', 'userId', 'director', 'actor', 'date', 'titleType', 'startYearCluster', 'imdbId_weight', 'runtimeMinutesCluster_weight', 'director_weight', 'actor_weight', 'titleType_weight', 'startYearCluster_weight'] which did not match any model input. They will be ignored by the model.\n",
      "  inputs = self._flatten_to_reference_inputs(inputs)\n",
      "/opt/conda/lib/python3.7/site-packages/keras/engine/functional.py:638: UserWarning: Input dict contained keys ['userId', 'date'] which did not match any model input. They will be ignored by the model.\n",
      "  inputs = self._flatten_to_reference_inputs(inputs)\n",
      "/opt/conda/lib/python3.7/site-packages/keras/engine/functional.py:638: UserWarning: Input dict contained keys ['runtimeMinutesCluster', 'userId', 'director', 'actor', 'date', 'titleType', 'genre', 'startYearCluster', 'runtimeMinutesCluster_weight', 'director_weight', 'actor_weight', 'titleType_weight', 'genre_weight', 'startYearCluster_weight'] which did not match any model input. They will be ignored by the model.\n",
      "  inputs = self._flatten_to_reference_inputs(inputs)\n",
      "/opt/conda/lib/python3.7/site-packages/keras/engine/functional.py:638: UserWarning: Input dict contained keys ['imdbId', 'runtimeMinutesCluster', 'userId', 'actor', 'date', 'titleType', 'genre', 'startYearCluster', 'imdbId_weight', 'runtimeMinutesCluster_weight', 'actor_weight', 'titleType_weight', 'genre_weight', 'startYearCluster_weight'] which did not match any model input. They will be ignored by the model.\n",
      "  inputs = self._flatten_to_reference_inputs(inputs)\n",
      "/opt/conda/lib/python3.7/site-packages/keras/engine/functional.py:638: UserWarning: Input dict contained keys ['imdbId', 'runtimeMinutesCluster', 'userId', 'director', 'actor', 'date', 'titleType', 'startYearCluster', 'imdbId_weight', 'runtimeMinutesCluster_weight', 'director_weight', 'actor_weight', 'titleType_weight', 'startYearCluster_weight'] which did not match any model input. They will be ignored by the model.\n",
      "  inputs = self._flatten_to_reference_inputs(inputs)\n",
      "/opt/conda/lib/python3.7/site-packages/keras/engine/functional.py:638: UserWarning: Input dict contained keys ['userId', 'date'] which did not match any model input. They will be ignored by the model.\n",
      "  inputs = self._flatten_to_reference_inputs(inputs)\n",
      "/opt/conda/lib/python3.7/site-packages/keras/engine/functional.py:638: UserWarning: Input dict contained keys ['runtimeMinutesCluster', 'userId', 'director', 'actor', 'date', 'titleType', 'genre', 'startYearCluster', 'runtimeMinutesCluster_weight', 'director_weight', 'actor_weight', 'titleType_weight', 'genre_weight', 'startYearCluster_weight'] which did not match any model input. They will be ignored by the model.\n",
      "  inputs = self._flatten_to_reference_inputs(inputs)\n",
      "/opt/conda/lib/python3.7/site-packages/keras/engine/functional.py:638: UserWarning: Input dict contained keys ['imdbId', 'runtimeMinutesCluster', 'userId', 'actor', 'date', 'titleType', 'genre', 'startYearCluster', 'imdbId_weight', 'runtimeMinutesCluster_weight', 'actor_weight', 'titleType_weight', 'genre_weight', 'startYearCluster_weight'] which did not match any model input. They will be ignored by the model.\n",
      "  inputs = self._flatten_to_reference_inputs(inputs)\n",
      "/opt/conda/lib/python3.7/site-packages/keras/engine/functional.py:638: UserWarning: Input dict contained keys ['imdbId', 'runtimeMinutesCluster', 'userId', 'director', 'actor', 'date', 'titleType', 'startYearCluster', 'imdbId_weight', 'runtimeMinutesCluster_weight', 'director_weight', 'actor_weight', 'titleType_weight', 'startYearCluster_weight'] which did not match any model input. They will be ignored by the model.\n",
      "  inputs = self._flatten_to_reference_inputs(inputs)\n",
      "/opt/conda/lib/python3.7/site-packages/keras/engine/functional.py:638: UserWarning: Input dict contained keys ['userId', 'date'] which did not match any model input. They will be ignored by the model.\n",
      "  inputs = self._flatten_to_reference_inputs(inputs)\n"
     ]
    },
    {
     "name": "stdout",
     "output_type": "stream",
     "text": [
      "CPU times: user 9min 50s, sys: 1min 3s, total: 10min 53s\n",
      "Wall time: 4min 47s\n"
     ]
    }
   ],
   "source": [
    "%%time\n",
    "from collections import defaultdict\n",
    "from utils import evaluate_model\n",
    "\n",
    "aucs = defaultdict(dict)\n",
    "for task_offer_feature in TASKS:\n",
    "    for model_name in TASKS:\n",
    "        aucs[task_offer_feature][f'MONO:{model_name}'] = \\\n",
    "            evaluate_model(mono_feature_models[model_name],\n",
    "                           task_offer_feature, test_datasets, inverse_lookups, NUMBER_OF_NEGATIVES)\n",
    "    aucs[task_offer_feature]['simple model'] = \\\n",
    "            evaluate_model(model, task_offer_feature, test_datasets, inverse_lookups, NUMBER_OF_NEGATIVES)"
   ]
  },
  {
   "cell_type": "code",
   "execution_count": 96,
   "id": "4b7ff2ed-01a2-4863-8b2c-d275b9fb0507",
   "metadata": {},
   "outputs": [],
   "source": [
    "def wAUC(auc_df, cutoff=200):\n",
    "    auc_df = auc_df[(auc_df['name'] != '[UNK]') & (auc_df['counts'] > cutoff)]\n",
    "    return (auc_df['auc'] * auc_df['counts']).sum() / auc_df['counts'].sum()"
   ]
  },
  {
   "cell_type": "code",
   "execution_count": 99,
   "id": "dbdf4194-a2fc-4c89-a524-4dda2905ce57",
   "metadata": {},
   "outputs": [],
   "source": [
    "results = pd.DataFrame()\n",
    "for task_name in aucs:\n",
    "    for model_name in aucs[task_name]:\n",
    "        w_auc = wAUC(aucs[task_name][model_name])\n",
    "        results = results.append({'wAUC': w_auc, 'task': task_name, 'model': model_name}, ignore_index=True)"
   ]
  },
  {
   "cell_type": "code",
   "execution_count": 102,
   "id": "869761a6-12d2-4364-9962-c0fa902e18f5",
   "metadata": {},
   "outputs": [
    {
     "data": {
      "text/html": [
       "<style type=\"text/css\">\n",
       "#T_e476e_row0_col0, #T_e476e_row1_col1, #T_e476e_row2_col2 {\n",
       "  background-color: #b40426;\n",
       "  color: #f1f1f1;\n",
       "}\n",
       "#T_e476e_row0_col1 {\n",
       "  background-color: #4961d2;\n",
       "  color: #f1f1f1;\n",
       "}\n",
       "#T_e476e_row0_col2 {\n",
       "  background-color: #98b9ff;\n",
       "  color: #000000;\n",
       "}\n",
       "#T_e476e_row1_col0, #T_e476e_row1_col2, #T_e476e_row2_col1 {\n",
       "  background-color: #3b4cc0;\n",
       "  color: #f1f1f1;\n",
       "}\n",
       "#T_e476e_row2_col0 {\n",
       "  background-color: #e9d5cb;\n",
       "  color: #000000;\n",
       "}\n",
       "#T_e476e_row3_col0 {\n",
       "  background-color: #ebd3c6;\n",
       "  color: #000000;\n",
       "}\n",
       "#T_e476e_row3_col1 {\n",
       "  background-color: #5470de;\n",
       "  color: #f1f1f1;\n",
       "}\n",
       "#T_e476e_row3_col2 {\n",
       "  background-color: #abc8fd;\n",
       "  color: #000000;\n",
       "}\n",
       "</style>\n",
       "<table id=\"T_e476e_\">\n",
       "  <thead>\n",
       "    <tr>\n",
       "      <th class=\"index_name level0\" >task</th>\n",
       "      <th class=\"col_heading level0 col0\" >director</th>\n",
       "      <th class=\"col_heading level0 col1\" >genre</th>\n",
       "      <th class=\"col_heading level0 col2\" >imdbId</th>\n",
       "    </tr>\n",
       "    <tr>\n",
       "      <th class=\"index_name level0\" >model</th>\n",
       "      <th class=\"blank col0\" >&nbsp;</th>\n",
       "      <th class=\"blank col1\" >&nbsp;</th>\n",
       "      <th class=\"blank col2\" >&nbsp;</th>\n",
       "    </tr>\n",
       "  </thead>\n",
       "  <tbody>\n",
       "    <tr>\n",
       "      <th id=\"T_e476e_level0_row0\" class=\"row_heading level0 row0\" >MONO:director</th>\n",
       "      <td id=\"T_e476e_row0_col0\" class=\"data row0 col0\" >0.602156</td>\n",
       "      <td id=\"T_e476e_row0_col1\" class=\"data row0 col1\" >0.519931</td>\n",
       "      <td id=\"T_e476e_row0_col2\" class=\"data row0 col2\" >0.524879</td>\n",
       "    </tr>\n",
       "    <tr>\n",
       "      <th id=\"T_e476e_level0_row1\" class=\"row_heading level0 row1\" >MONO:genre</th>\n",
       "      <td id=\"T_e476e_row1_col0\" class=\"data row1 col0\" >0.525636</td>\n",
       "      <td id=\"T_e476e_row1_col1\" class=\"data row1 col1\" >0.552219</td>\n",
       "      <td id=\"T_e476e_row1_col2\" class=\"data row1 col2\" >0.491032</td>\n",
       "    </tr>\n",
       "    <tr>\n",
       "      <th id=\"T_e476e_level0_row2\" class=\"row_heading level0 row2\" >MONO:imdbId</th>\n",
       "      <td id=\"T_e476e_row2_col0\" class=\"data row2 col0\" >0.567648</td>\n",
       "      <td id=\"T_e476e_row2_col1\" class=\"data row2 col1\" >0.518326</td>\n",
       "      <td id=\"T_e476e_row2_col2\" class=\"data row2 col2\" >0.611310</td>\n",
       "    </tr>\n",
       "    <tr>\n",
       "      <th id=\"T_e476e_level0_row3\" class=\"row_heading level0 row3\" >simple model</th>\n",
       "      <td id=\"T_e476e_row3_col0\" class=\"data row3 col0\" >0.568602</td>\n",
       "      <td id=\"T_e476e_row3_col1\" class=\"data row3 col1\" >0.521132</td>\n",
       "      <td id=\"T_e476e_row3_col2\" class=\"data row3 col2\" >0.531711</td>\n",
       "    </tr>\n",
       "  </tbody>\n",
       "</table>\n"
      ],
      "text/plain": [
       "<pandas.io.formats.style.Styler at 0x7f67c743fe10>"
      ]
     },
     "execution_count": 102,
     "metadata": {},
     "output_type": "execute_result"
    }
   ],
   "source": [
    "pd.pivot_table(results, 'wAUC', 'model', 'task').style.background_gradient(cmap='coolwarm')"
   ]
  },
  {
   "cell_type": "code",
   "execution_count": null,
   "id": "f851cffb-9cb6-4623-afd8-4f727cc32199",
   "metadata": {},
   "outputs": [],
   "source": []
  }
 ],
 "metadata": {
  "kernelspec": {
   "display_name": "Custom [moksha-tf2-cpu.2-7] (Local)",
   "language": "python",
   "name": "local-eu.gcr.io_tinyclues-experiments_tinyclues_moksha-tf2-cpu.2-7_latest__python3"
  },
  "language_info": {
   "codemirror_mode": {
    "name": "ipython",
    "version": 3
   },
   "file_extension": ".py",
   "mimetype": "text/x-python",
   "name": "python",
   "nbconvert_exporter": "python",
   "pygments_lexer": "ipython3",
   "version": "3.7.12"
  }
 },
 "nbformat": 4,
 "nbformat_minor": 5
}
