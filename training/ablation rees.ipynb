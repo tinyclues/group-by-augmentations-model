{
 "cells": [
  {
   "cell_type": "markdown",
   "id": "ea932e5b",
   "metadata": {},
   "source": [
    "# Ablation tests for group-by component"
   ]
  },
  {
   "cell_type": "markdown",
   "id": "d9b6f05f",
   "metadata": {},
   "source": [
    "## Prepare dataset"
   ]
  },
  {
   "cell_type": "markdown",
   "id": "d96897ae",
   "metadata": {},
   "source": [
    "Loading and preparing dataset as in [the training for Movielens/IMDB dataset](https://github.com/tinyclues/recsys-multi-atrribute-benchmark/blob/master/training/movielens%20simple%20model.ipynb)."
   ]
  },
  {
   "cell_type": "code",
   "execution_count": 1,
   "id": "1899e738-56d3-455f-afcd-ce80fcb17232",
   "metadata": {},
   "outputs": [],
   "source": [
    "DATASET = 'rees_ecommerce'\n",
    "TECHNICAL_COLUMNS = ['user_id', 'date']\n",
    "TASKS = ['product_id', 'category1', 'category2', 'category3', 'brand', 'priceCluster']\n",
    "BATCH_SIZE_TRAIN = 5040\n",
    "BATCH_SIZE_EVAL = 5040"
   ]
  },
  {
   "cell_type": "code",
   "execution_count": 2,
   "id": "19cc05cc",
   "metadata": {},
   "outputs": [],
   "source": [
    "from utils import load_dataset\n",
    "\n",
    "datasets = {}\n",
    "for split_name in ['train', 'val', 'test']:\n",
    "    datasets[split_name] = load_dataset(DATASET, split_name)"
   ]
  },
  {
   "cell_type": "code",
   "execution_count": 3,
   "id": "c5077ee6",
   "metadata": {},
   "outputs": [],
   "source": [
    "from utils import AGG_PREFIX\n",
    "\n",
    "all_columns = list(datasets['train'].element_spec.keys())\n",
    "user_features = list(filter(lambda x: x.startswith(AGG_PREFIX), all_columns))\n",
    "offer_features = list(filter(lambda x: x not in user_features + TECHNICAL_COLUMNS, all_columns))"
   ]
  },
  {
   "cell_type": "code",
   "execution_count": 4,
   "id": "cfa53a5c",
   "metadata": {},
   "outputs": [],
   "source": [
    "from functools import partial\n",
    "from uuid import uuid4\n",
    "\n",
    "from utils import rebatch_by_events\n",
    "\n",
    "datasets['train'] = rebatch_by_events(datasets['train'], batch_size=BATCH_SIZE_TRAIN, date_column='date', nb_events_by_user_by_day=8)\n",
    "for key in ['val', 'test']:\n",
    "    datasets[key] = rebatch_by_events(datasets[key], batch_size=BATCH_SIZE_EVAL, date_column='date', nb_events_by_user_by_day=8,\n",
    "                                      seed=1729).cache(f'/tmp/{uuid4()}.tf')"
   ]
  },
  {
   "cell_type": "code",
   "execution_count": 5,
   "id": "20173463-08c7-4b6f-a9b8-ade7c5c1121f",
   "metadata": {},
   "outputs": [],
   "source": [
    "from utils import add_equal_weights\n",
    "\n",
    "for key in datasets:\n",
    "    datasets[key] = datasets[key].map(partial(add_equal_weights, features=offer_features))"
   ]
  },
  {
   "cell_type": "code",
   "execution_count": 6,
   "id": "fb20fe7e",
   "metadata": {},
   "outputs": [],
   "source": [
    "from utils import load_inverse_lookups\n",
    "inverse_lookups = load_inverse_lookups(DATASET)"
   ]
  },
  {
   "cell_type": "markdown",
   "id": "a6f569ab-efb6-4307-8a27-98d64c62f863",
   "metadata": {},
   "source": [
    "## Prepare evaluation dataset"
   ]
  },
  {
   "cell_type": "code",
   "execution_count": 7,
   "id": "6967d5c9-4f85-4e16-ba55-f3740c747d55",
   "metadata": {},
   "outputs": [
    {
     "name": "stdout",
     "output_type": "stream",
     "text": [
      "CPU times: user 7min 23s, sys: 32.2 s, total: 7min 55s\n",
      "Wall time: 7min 9s\n"
     ]
    }
   ],
   "source": [
    "%%time\n",
    "from utils import prepare_single_task_dataset\n",
    "test_datasets = {}\n",
    "for task_offer_feature in TASKS:\n",
    "    test_datasets[task_offer_feature] = \\\n",
    "        prepare_single_task_dataset(datasets['test'], task_offer_feature, offer_features)"
   ]
  },
  {
   "cell_type": "markdown",
   "id": "4e6ac2fd-7ebe-4db2-bd48-4e9b6a2b2f60",
   "metadata": {},
   "source": [
    "## Model"
   ]
  },
  {
   "cell_type": "code",
   "execution_count": 8,
   "id": "6f65fe35-a429-47c8-8009-4ff7de63d78e",
   "metadata": {},
   "outputs": [],
   "source": [
    "if DATASET == 'movielens_imdb':\n",
    "    from model_parameters import movielens_model as model_definition\n",
    "    from model_parameters import MOVIELENS_EPOCHS as EPOCHS\n",
    "elif DATASET == 'rees_ecommerce':\n",
    "    from model_parameters import rees_model as model_definition\n",
    "    from model_parameters import REES_EPOCHS as EPOCHS\n",
    "\n",
    "NUMBER_OF_NEGATIVES = 4"
   ]
  },
  {
   "cell_type": "code",
   "execution_count": 9,
   "id": "1d9163cb-f025-496b-9e9c-f803d6096dfc",
   "metadata": {},
   "outputs": [],
   "source": [
    "import itertools\n",
    "\n",
    "MODELS, EVAL_MODELS, EMBEDDING_MODELS = {}, {}, {}\n",
    "for group_by, mask_net, bi_linear_interaction in itertools.product(*([[True, False]] * 3)):\n",
    "    if mask_net and not group_by:\n",
    "        continue\n",
    "    key = group_by, mask_net, bi_linear_interaction\n",
    "    name = '_'.join(map(lambda x: str(x).lower(), key))\n",
    "    MODELS[key], EVAL_MODELS[key], EMBEDDING_MODELS[key] = \\\n",
    "        model_definition(user_features, offer_features, inverse_lookups, NUMBER_OF_NEGATIVES, name, *key)"
   ]
  },
  {
   "cell_type": "markdown",
   "id": "aa9afb79-a295-4c19-b29c-d241f5a7928e",
   "metadata": {},
   "source": [
    "## Train"
   ]
  },
  {
   "cell_type": "code",
   "execution_count": 10,
   "id": "7d9c9a0e-74cf-4537-90d1-cc9fedb2202a",
   "metadata": {},
   "outputs": [
    {
     "data": {
      "text/plain": [
       "6"
      ]
     },
     "execution_count": 10,
     "metadata": {},
     "output_type": "execute_result"
    }
   ],
   "source": [
    "len(MODELS)"
   ]
  },
  {
   "cell_type": "code",
   "execution_count": 11,
   "id": "ed435217-0d37-4c1d-87e0-9a1b05bbbd78",
   "metadata": {
    "tags": []
   },
   "outputs": [
    {
     "name": "stdout",
     "output_type": "stream",
     "text": [
      "Epoch 1/8\n"
     ]
    },
    {
     "name": "stderr",
     "output_type": "stream",
     "text": [
      "/home/jupyter/.local/lib/python3.9/site-packages/keras/engine/functional.py:566: UserWarning: Input dict contained keys ['date', 'user_id'] which did not match any model input. They will be ignored by the model.\n",
      "  inputs = self._flatten_to_reference_inputs(inputs)\n",
      "/home/jupyter/.local/lib/python3.9/site-packages/tensorflow/python/framework/indexed_slices.py:444: UserWarning: Converting sparse IndexedSlices(IndexedSlices(indices=Tensor(\"gradient_tape/true_true_true/group_by/moments_2/Reshape_4:0\", shape=(None,), dtype=int32), values=Tensor(\"gradient_tape/true_true_true/group_by/moments_2/Reshape_3:0\", shape=(None, 6, 100), dtype=float32), dense_shape=Tensor(\"gradient_tape/true_true_true/group_by/moments_2/Cast:0\", shape=(3,), dtype=int32))) to a dense Tensor of unknown shape. This may consume a large amount of memory.\n",
      "  warnings.warn(\n",
      "/home/jupyter/.local/lib/python3.9/site-packages/tensorflow/python/framework/indexed_slices.py:444: UserWarning: Converting sparse IndexedSlices(IndexedSlices(indices=Tensor(\"gradient_tape/true_true_true/group_by/moments_1/Reshape_4:0\", shape=(None,), dtype=int32), values=Tensor(\"gradient_tape/true_true_true/group_by/moments_1/Reshape_3:0\", shape=(None, 6, 100), dtype=float32), dense_shape=Tensor(\"gradient_tape/true_true_true/group_by/moments_1/Cast:0\", shape=(3,), dtype=int32))) to a dense Tensor of unknown shape. This may consume a large amount of memory.\n",
      "  warnings.warn(\n",
      "/home/jupyter/.local/lib/python3.9/site-packages/tensorflow/python/framework/indexed_slices.py:444: UserWarning: Converting sparse IndexedSlices(IndexedSlices(indices=Tensor(\"gradient_tape/true_true_true/group_by/moments/Reshape_4:0\", shape=(None,), dtype=int32), values=Tensor(\"gradient_tape/true_true_true/group_by/moments/Reshape_3:0\", shape=(None, 6, 100), dtype=float32), dense_shape=Tensor(\"gradient_tape/true_true_true/group_by/moments/Cast:0\", shape=(3,), dtype=int32))) to a dense Tensor of unknown shape. This may consume a large amount of memory.\n",
      "  warnings.warn(\n",
      "/home/jupyter/.local/lib/python3.9/site-packages/tensorflow/python/framework/indexed_slices.py:444: UserWarning: Converting sparse IndexedSlices(IndexedSlices(indices=Tensor(\"AdamW/gradients/concat_1:0\", shape=(None,), dtype=int32), values=Tensor(\"AdamW/gradients/concat:0\", shape=(None, 6, 100), dtype=float32), dense_shape=Tensor(\"gradient_tape/true_true_true/group_by/SegmentStack_2/Cast:0\", shape=(3,), dtype=int32))) to a dense Tensor of unknown shape. This may consume a large amount of memory.\n",
      "  warnings.warn(\n"
     ]
    },
    {
     "name": "stdout",
     "output_type": "stream",
     "text": [
      "679/679 [==============================] - 651s 817ms/step - loss: 0.4688 - auc: 0.6916 - val_loss: 0.4486 - val_auc: 0.7155\n",
      "Epoch 2/8\n",
      "679/679 [==============================] - 462s 680ms/step - loss: 0.4458 - auc: 0.7186 - val_loss: 0.4415 - val_auc: 0.7268\n",
      "Epoch 3/8\n",
      "679/679 [==============================] - 453s 666ms/step - loss: 0.4411 - auc: 0.7269 - val_loss: 0.4425 - val_auc: 0.7246\n",
      "Epoch 4/8\n",
      "679/679 [==============================] - 447s 658ms/step - loss: 0.4397 - auc: 0.7294 - val_loss: 0.4428 - val_auc: 0.7276\n",
      "Epoch 5/8\n",
      "679/679 [==============================] - 454s 668ms/step - loss: 0.4393 - auc: 0.7305 - val_loss: 0.4404 - val_auc: 0.7299\n",
      "Epoch 6/8\n",
      "679/679 [==============================] - 365s 536ms/step - loss: 0.4378 - auc: 0.7334 - val_loss: 0.4432 - val_auc: 0.7275\n",
      "Epoch 7/8\n",
      "166/679 [======>.......................] - ETA: 4:19 - loss: 0.4383 - auc: 0.7328"
     ]
    },
    {
     "name": "stderr",
     "output_type": "stream",
     "text": [
      "IOPub message rate exceeded.\n",
      "The Jupyter server will temporarily stop sending output\n",
      "to the client in order to avoid crashing it.\n",
      "To change this limit, set the config variable\n",
      "`--ServerApp.iopub_msg_rate_limit`.\n",
      "\n",
      "Current values:\n",
      "ServerApp.iopub_msg_rate_limit=1000.0 (msgs/sec)\n",
      "ServerApp.rate_limit_window=3.0 (secs)\n",
      "\n"
     ]
    },
    {
     "name": "stdout",
     "output_type": "stream",
     "text": [
      "679/679 [==============================] - 321s 472ms/step - loss: 0.4572 - auc_1: 0.6999 - val_loss: 0.4492 - val_auc_1: 0.7158\n",
      "Epoch 5/8\n",
      "679/679 [==============================] - 356s 524ms/step - loss: 0.4559 - auc_1: 0.7022 - val_loss: 0.4480 - val_auc_1: 0.7183\n",
      "Epoch 6/8\n",
      "679/679 [==============================] - 352s 516ms/step - loss: 0.4549 - auc_1: 0.7042 - val_loss: 0.4480 - val_auc_1: 0.7183\n",
      "Epoch 7/8\n",
      "679/679 [==============================] - 243s 357ms/step - loss: 0.4544 - auc_1: 0.7052 - val_loss: 0.4488 - val_auc_1: 0.7164\n",
      "Epoch 8/8\n",
      "547/679 [=======================>......] - ETA: 40s - loss: 0.4532 - auc_1: 0.7076"
     ]
    },
    {
     "name": "stderr",
     "output_type": "stream",
     "text": [
      "IOPub message rate exceeded.\n",
      "The Jupyter server will temporarily stop sending output\n",
      "to the client in order to avoid crashing it.\n",
      "To change this limit, set the config variable\n",
      "`--ServerApp.iopub_msg_rate_limit`.\n",
      "\n",
      "Current values:\n",
      "ServerApp.iopub_msg_rate_limit=1000.0 (msgs/sec)\n",
      "ServerApp.rate_limit_window=3.0 (secs)\n",
      "\n"
     ]
    },
    {
     "name": "stdout",
     "output_type": "stream",
     "text": [
      "679/679 [==============================] - 239s 352ms/step - loss: 0.4374 - auc_2: 0.7390 - val_loss: 0.4506 - val_auc_2: 0.7166\n",
      "Epoch 1/8\n"
     ]
    },
    {
     "name": "stderr",
     "output_type": "stream",
     "text": [
      "/home/jupyter/.local/lib/python3.9/site-packages/tensorflow/python/framework/indexed_slices.py:444: UserWarning: Converting sparse IndexedSlices(IndexedSlices(indices=Tensor(\"AdamW/gradients/concat_1:0\", shape=(None,), dtype=int32), values=Tensor(\"AdamW/gradients/concat:0\", shape=(None, 6, 100), dtype=float32), dense_shape=Tensor(\"gradient_tape/true_false_false/group_by/SegmentStack_2/Cast:0\", shape=(3,), dtype=int32))) to a dense Tensor of unknown shape. This may consume a large amount of memory.\n",
      "  warnings.warn(\n"
     ]
    },
    {
     "name": "stdout",
     "output_type": "stream",
     "text": [
      "679/679 [==============================] - 159s 178ms/step - loss: 0.5047 - auc_3: 0.6593 - val_loss: 0.4641 - val_auc_3: 0.7079\n",
      "Epoch 2/8\n",
      "679/679 [==============================] - 100s 147ms/step - loss: 0.4658 - auc_3: 0.6937 - val_loss: 0.4526 - val_auc_3: 0.7151\n",
      "Epoch 3/8\n",
      "679/679 [==============================] - 102s 149ms/step - loss: 0.4598 - auc_3: 0.7004 - val_loss: 0.4489 - val_auc_3: 0.7193\n",
      "Epoch 4/8\n",
      "592/679 [=========================>....] - ETA: 11s - loss: 0.4568 - auc_3: 0.7048"
     ]
    },
    {
     "name": "stderr",
     "output_type": "stream",
     "text": [
      "IOPub message rate exceeded.\n",
      "The Jupyter server will temporarily stop sending output\n",
      "to the client in order to avoid crashing it.\n",
      "To change this limit, set the config variable\n",
      "`--ServerApp.iopub_msg_rate_limit`.\n",
      "\n",
      "Current values:\n",
      "ServerApp.iopub_msg_rate_limit=1000.0 (msgs/sec)\n",
      "ServerApp.rate_limit_window=3.0 (secs)\n",
      "\n"
     ]
    },
    {
     "name": "stdout",
     "output_type": "stream",
     "text": [
      "679/679 [==============================] - 179s 264ms/step - loss: 0.4129 - auc_4: 0.7775 - val_loss: 0.4219 - val_auc_4: 0.7667\n",
      "Epoch 4/8\n",
      "679/679 [==============================] - 193s 283ms/step - loss: 0.4107 - auc_4: 0.7841 - val_loss: 0.4262 - val_auc_4: 0.7669\n",
      "Epoch 5/8\n",
      "679/679 [==============================] - 194s 286ms/step - loss: 0.4088 - auc_4: 0.7906 - val_loss: 0.4291 - val_auc_4: 0.7636\n",
      "Epoch 6/8\n",
      "679/679 [==============================] - 191s 280ms/step - loss: 0.4068 - auc_4: 0.7975 - val_loss: 0.4357 - val_auc_4: 0.7625\n",
      "Epoch 7/8\n",
      "657/679 [============================>.] - ETA: 5s - loss: 0.4044 - auc_4: 0.8043"
     ]
    },
    {
     "name": "stderr",
     "output_type": "stream",
     "text": [
      "IOPub message rate exceeded.\n",
      "The Jupyter server will temporarily stop sending output\n",
      "to the client in order to avoid crashing it.\n",
      "To change this limit, set the config variable\n",
      "`--ServerApp.iopub_msg_rate_limit`.\n",
      "\n",
      "Current values:\n",
      "ServerApp.iopub_msg_rate_limit=1000.0 (msgs/sec)\n",
      "ServerApp.rate_limit_window=3.0 (secs)\n",
      "\n"
     ]
    },
    {
     "name": "stdout",
     "output_type": "stream",
     "text": [
      "679/679 [==============================] - 78s 115ms/step - loss: 0.4274 - auc_5: 0.7658 - val_loss: 0.4294 - val_auc_5: 0.7624\n",
      "Epoch 8/8\n",
      "679/679 [==============================] - 76s 112ms/step - loss: 0.4266 - auc_5: 0.7679 - val_loss: 0.4301 - val_auc_5: 0.7619\n"
     ]
    }
   ],
   "source": [
    "for model in MODELS.values():\n",
    "    model.fit(datasets['train'], epochs=EPOCHS, validation_data=datasets['val'])"
   ]
  },
  {
   "cell_type": "markdown",
   "id": "8278357f-04bb-4d0c-90d6-16c7257eb5bb",
   "metadata": {},
   "source": [
    "## Evaluation"
   ]
  },
  {
   "cell_type": "code",
   "execution_count": 12,
   "id": "66a8e655-1a8c-44fa-8177-8933bd4a35bb",
   "metadata": {},
   "outputs": [
    {
     "name": "stderr",
     "output_type": "stream",
     "text": [
      "/home/jupyter/.local/lib/python3.9/site-packages/keras/engine/functional.py:566: UserWarning: Input dict contained keys ['date', 'user_id'] which did not match any model input. They will be ignored by the model.\n",
      "  inputs = self._flatten_to_reference_inputs(inputs)\n",
      "/home/jupyter/.local/lib/python3.9/site-packages/keras/engine/functional.py:566: UserWarning: Input dict contained keys ['date', 'user_id'] which did not match any model input. They will be ignored by the model.\n",
      "  inputs = self._flatten_to_reference_inputs(inputs)\n",
      "/home/jupyter/.local/lib/python3.9/site-packages/keras/engine/functional.py:566: UserWarning: Input dict contained keys ['date', 'user_id'] which did not match any model input. They will be ignored by the model.\n",
      "  inputs = self._flatten_to_reference_inputs(inputs)\n",
      "/home/jupyter/.local/lib/python3.9/site-packages/keras/engine/functional.py:566: UserWarning: Input dict contained keys ['date', 'user_id'] which did not match any model input. They will be ignored by the model.\n",
      "  inputs = self._flatten_to_reference_inputs(inputs)\n",
      "/home/jupyter/.local/lib/python3.9/site-packages/keras/engine/functional.py:566: UserWarning: Input dict contained keys ['date', 'user_id'] which did not match any model input. They will be ignored by the model.\n",
      "  inputs = self._flatten_to_reference_inputs(inputs)\n",
      "/home/jupyter/.local/lib/python3.9/site-packages/keras/engine/functional.py:566: UserWarning: Input dict contained keys ['date', 'user_id'] which did not match any model input. They will be ignored by the model.\n",
      "  inputs = self._flatten_to_reference_inputs(inputs)\n",
      "/home/jupyter/.local/lib/python3.9/site-packages/keras/engine/functional.py:566: UserWarning: Input dict contained keys ['date', 'user_id'] which did not match any model input. They will be ignored by the model.\n",
      "  inputs = self._flatten_to_reference_inputs(inputs)\n",
      "/home/jupyter/.local/lib/python3.9/site-packages/keras/engine/functional.py:566: UserWarning: Input dict contained keys ['date', 'user_id'] which did not match any model input. They will be ignored by the model.\n",
      "  inputs = self._flatten_to_reference_inputs(inputs)\n",
      "/home/jupyter/.local/lib/python3.9/site-packages/keras/engine/functional.py:566: UserWarning: Input dict contained keys ['date', 'user_id'] which did not match any model input. They will be ignored by the model.\n",
      "  inputs = self._flatten_to_reference_inputs(inputs)\n",
      "/home/jupyter/.local/lib/python3.9/site-packages/keras/engine/functional.py:566: UserWarning: Input dict contained keys ['date', 'user_id'] which did not match any model input. They will be ignored by the model.\n",
      "  inputs = self._flatten_to_reference_inputs(inputs)\n",
      "/home/jupyter/.local/lib/python3.9/site-packages/keras/engine/functional.py:566: UserWarning: Input dict contained keys ['date', 'user_id'] which did not match any model input. They will be ignored by the model.\n",
      "  inputs = self._flatten_to_reference_inputs(inputs)\n",
      "/home/jupyter/.local/lib/python3.9/site-packages/keras/engine/functional.py:566: UserWarning: Input dict contained keys ['date', 'user_id'] which did not match any model input. They will be ignored by the model.\n",
      "  inputs = self._flatten_to_reference_inputs(inputs)\n",
      "/home/jupyter/.local/lib/python3.9/site-packages/keras/engine/functional.py:566: UserWarning: Input dict contained keys ['date', 'user_id'] which did not match any model input. They will be ignored by the model.\n",
      "  inputs = self._flatten_to_reference_inputs(inputs)\n",
      "/home/jupyter/.local/lib/python3.9/site-packages/keras/engine/functional.py:566: UserWarning: Input dict contained keys ['date', 'user_id'] which did not match any model input. They will be ignored by the model.\n",
      "  inputs = self._flatten_to_reference_inputs(inputs)\n",
      "/home/jupyter/.local/lib/python3.9/site-packages/keras/engine/functional.py:566: UserWarning: Input dict contained keys ['date', 'user_id'] which did not match any model input. They will be ignored by the model.\n",
      "  inputs = self._flatten_to_reference_inputs(inputs)\n",
      "/home/jupyter/.local/lib/python3.9/site-packages/keras/engine/functional.py:566: UserWarning: Input dict contained keys ['date', 'user_id'] which did not match any model input. They will be ignored by the model.\n",
      "  inputs = self._flatten_to_reference_inputs(inputs)\n",
      "/home/jupyter/.local/lib/python3.9/site-packages/keras/engine/functional.py:566: UserWarning: Input dict contained keys ['date', 'user_id'] which did not match any model input. They will be ignored by the model.\n",
      "  inputs = self._flatten_to_reference_inputs(inputs)\n",
      "/home/jupyter/.local/lib/python3.9/site-packages/keras/engine/functional.py:566: UserWarning: Input dict contained keys ['date', 'user_id'] which did not match any model input. They will be ignored by the model.\n",
      "  inputs = self._flatten_to_reference_inputs(inputs)\n",
      "/home/jupyter/.local/lib/python3.9/site-packages/keras/engine/functional.py:566: UserWarning: Input dict contained keys ['date', 'user_id'] which did not match any model input. They will be ignored by the model.\n",
      "  inputs = self._flatten_to_reference_inputs(inputs)\n",
      "/home/jupyter/.local/lib/python3.9/site-packages/keras/engine/functional.py:566: UserWarning: Input dict contained keys ['date', 'user_id'] which did not match any model input. They will be ignored by the model.\n",
      "  inputs = self._flatten_to_reference_inputs(inputs)\n",
      "/home/jupyter/.local/lib/python3.9/site-packages/keras/engine/functional.py:566: UserWarning: Input dict contained keys ['date', 'user_id'] which did not match any model input. They will be ignored by the model.\n",
      "  inputs = self._flatten_to_reference_inputs(inputs)\n",
      "/home/jupyter/.local/lib/python3.9/site-packages/keras/engine/functional.py:566: UserWarning: Input dict contained keys ['date', 'user_id'] which did not match any model input. They will be ignored by the model.\n",
      "  inputs = self._flatten_to_reference_inputs(inputs)\n",
      "/home/jupyter/.local/lib/python3.9/site-packages/keras/engine/functional.py:566: UserWarning: Input dict contained keys ['date', 'user_id'] which did not match any model input. They will be ignored by the model.\n",
      "  inputs = self._flatten_to_reference_inputs(inputs)\n",
      "/home/jupyter/.local/lib/python3.9/site-packages/keras/engine/functional.py:566: UserWarning: Input dict contained keys ['date', 'user_id'] which did not match any model input. They will be ignored by the model.\n",
      "  inputs = self._flatten_to_reference_inputs(inputs)\n",
      "/home/jupyter/.local/lib/python3.9/site-packages/keras/engine/functional.py:566: UserWarning: Input dict contained keys ['date', 'user_id'] which did not match any model input. They will be ignored by the model.\n",
      "  inputs = self._flatten_to_reference_inputs(inputs)\n",
      "/home/jupyter/.local/lib/python3.9/site-packages/keras/engine/functional.py:566: UserWarning: Input dict contained keys ['date', 'user_id'] which did not match any model input. They will be ignored by the model.\n",
      "  inputs = self._flatten_to_reference_inputs(inputs)\n",
      "/home/jupyter/.local/lib/python3.9/site-packages/keras/engine/functional.py:566: UserWarning: Input dict contained keys ['date', 'user_id'] which did not match any model input. They will be ignored by the model.\n",
      "  inputs = self._flatten_to_reference_inputs(inputs)\n",
      "/home/jupyter/.local/lib/python3.9/site-packages/keras/engine/functional.py:566: UserWarning: Input dict contained keys ['date', 'user_id'] which did not match any model input. They will be ignored by the model.\n",
      "  inputs = self._flatten_to_reference_inputs(inputs)\n",
      "/home/jupyter/.local/lib/python3.9/site-packages/keras/engine/functional.py:566: UserWarning: Input dict contained keys ['date', 'user_id'] which did not match any model input. They will be ignored by the model.\n",
      "  inputs = self._flatten_to_reference_inputs(inputs)\n",
      "/home/jupyter/.local/lib/python3.9/site-packages/keras/engine/functional.py:566: UserWarning: Input dict contained keys ['date', 'user_id'] which did not match any model input. They will be ignored by the model.\n",
      "  inputs = self._flatten_to_reference_inputs(inputs)\n",
      "/home/jupyter/.local/lib/python3.9/site-packages/keras/engine/functional.py:566: UserWarning: Input dict contained keys ['date', 'user_id'] which did not match any model input. They will be ignored by the model.\n",
      "  inputs = self._flatten_to_reference_inputs(inputs)\n",
      "/home/jupyter/.local/lib/python3.9/site-packages/keras/engine/functional.py:566: UserWarning: Input dict contained keys ['date', 'user_id'] which did not match any model input. They will be ignored by the model.\n",
      "  inputs = self._flatten_to_reference_inputs(inputs)\n",
      "/home/jupyter/.local/lib/python3.9/site-packages/keras/engine/functional.py:566: UserWarning: Input dict contained keys ['date', 'user_id'] which did not match any model input. They will be ignored by the model.\n",
      "  inputs = self._flatten_to_reference_inputs(inputs)\n",
      "/home/jupyter/.local/lib/python3.9/site-packages/keras/engine/functional.py:566: UserWarning: Input dict contained keys ['date', 'user_id'] which did not match any model input. They will be ignored by the model.\n",
      "  inputs = self._flatten_to_reference_inputs(inputs)\n",
      "/home/jupyter/.local/lib/python3.9/site-packages/keras/engine/functional.py:566: UserWarning: Input dict contained keys ['date', 'user_id'] which did not match any model input. They will be ignored by the model.\n",
      "  inputs = self._flatten_to_reference_inputs(inputs)\n"
     ]
    },
    {
     "name": "stdout",
     "output_type": "stream",
     "text": [
      "CPU times: user 4h 4min 14s, sys: 19min 39s, total: 4h 23min 54s\n",
      "Wall time: 1h 2min 52s\n"
     ]
    }
   ],
   "source": [
    "%%time\n",
    "from collections import defaultdict\n",
    "from utils import evaluate_model, wAUC\n",
    "\n",
    "aucs = defaultdict(dict)\n",
    "for task_offer_feature in TASKS:\n",
    "    for key, eval_model in EVAL_MODELS.items():\n",
    "        aucs[task_offer_feature][key] = \\\n",
    "                evaluate_model(eval_model, task_offer_feature, test_datasets, NUMBER_OF_NEGATIVES, inverse_lookups)"
   ]
  },
  {
   "cell_type": "code",
   "execution_count": 13,
   "id": "9cc74e2e-1017-464a-a947-491de8f34276",
   "metadata": {},
   "outputs": [],
   "source": [
    "from utils import save_metrics\n",
    "save_metrics(aucs, DATASET, 'ablation')"
   ]
  },
  {
   "cell_type": "code",
   "execution_count": 14,
   "id": "f862e7c9-c599-408c-8572-d2f924a36806",
   "metadata": {},
   "outputs": [],
   "source": [
    "import pandas as pd\n",
    "results = pd.DataFrame()\n",
    "for task_name in aucs:\n",
    "    for model_name in aucs[task_name]:\n",
    "        w_auc = wAUC(aucs[task_name][model_name])\n",
    "        group_by, mask_net, bi_linear_interaction = model_name\n",
    "        results = pd.concat([results,\n",
    "                             pd.Series({'wAUC': w_auc, 'offers': task_name,\n",
    "                                        'group_by': group_by, 'mask_net': mask_net,\n",
    "                                        'bi_linear_interaction': bi_linear_interaction}).to_frame().T],\n",
    "                            ignore_index=True)"
   ]
  },
  {
   "cell_type": "code",
   "execution_count": 15,
   "id": "ec9ac730-c8f3-4a95-8102-a2551742f98f",
   "metadata": {},
   "outputs": [
    {
     "data": {
      "text/html": [
       "<style type=\"text/css\">\n",
       "#T_e7aff_row0_col0 {\n",
       "  background-color: #536edd;\n",
       "  color: #f1f1f1;\n",
       "}\n",
       "#T_e7aff_row0_col1 {\n",
       "  background-color: #bed2f6;\n",
       "  color: #000000;\n",
       "}\n",
       "#T_e7aff_row0_col2 {\n",
       "  background-color: #f7a889;\n",
       "  color: #000000;\n",
       "}\n",
       "#T_e7aff_row0_col3 {\n",
       "  background-color: #e5d8d1;\n",
       "  color: #000000;\n",
       "}\n",
       "#T_e7aff_row0_col4 {\n",
       "  background-color: #d7dce3;\n",
       "  color: #000000;\n",
       "}\n",
       "#T_e7aff_row0_col5 {\n",
       "  background-color: #d5dbe5;\n",
       "  color: #000000;\n",
       "}\n",
       "#T_e7aff_row1_col0 {\n",
       "  background-color: #3e51c5;\n",
       "  color: #f1f1f1;\n",
       "}\n",
       "#T_e7aff_row1_col1, #T_e7aff_row1_col2, #T_e7aff_row1_col3, #T_e7aff_row1_col4, #T_e7aff_row1_col5, #T_e7aff_row2_col0 {\n",
       "  background-color: #3b4cc0;\n",
       "  color: #f1f1f1;\n",
       "}\n",
       "#T_e7aff_row2_col1 {\n",
       "  background-color: #d0473d;\n",
       "  color: #f1f1f1;\n",
       "}\n",
       "#T_e7aff_row2_col2 {\n",
       "  background-color: #d55042;\n",
       "  color: #f1f1f1;\n",
       "}\n",
       "#T_e7aff_row2_col3 {\n",
       "  background-color: #bd1f2d;\n",
       "  color: #f1f1f1;\n",
       "}\n",
       "#T_e7aff_row2_col4 {\n",
       "  background-color: #d85646;\n",
       "  color: #f1f1f1;\n",
       "}\n",
       "#T_e7aff_row2_col5, #T_e7aff_row3_col2 {\n",
       "  background-color: #e67259;\n",
       "  color: #f1f1f1;\n",
       "}\n",
       "#T_e7aff_row3_col0 {\n",
       "  background-color: #f3c8b2;\n",
       "  color: #000000;\n",
       "}\n",
       "#T_e7aff_row3_col1 {\n",
       "  background-color: #edd2c3;\n",
       "  color: #000000;\n",
       "}\n",
       "#T_e7aff_row3_col3, #T_e7aff_row3_col4 {\n",
       "  background-color: #f2cbb7;\n",
       "  color: #000000;\n",
       "}\n",
       "#T_e7aff_row3_col5 {\n",
       "  background-color: #f39475;\n",
       "  color: #000000;\n",
       "}\n",
       "#T_e7aff_row4_col0 {\n",
       "  background-color: #3d50c3;\n",
       "  color: #f1f1f1;\n",
       "}\n",
       "#T_e7aff_row4_col1 {\n",
       "  background-color: #dd5f4b;\n",
       "  color: #f1f1f1;\n",
       "}\n",
       "#T_e7aff_row4_col2 {\n",
       "  background-color: #f5a081;\n",
       "  color: #000000;\n",
       "}\n",
       "#T_e7aff_row4_col3 {\n",
       "  background-color: #c83836;\n",
       "  color: #f1f1f1;\n",
       "}\n",
       "#T_e7aff_row4_col4 {\n",
       "  background-color: #c73635;\n",
       "  color: #f1f1f1;\n",
       "}\n",
       "#T_e7aff_row4_col5 {\n",
       "  background-color: #ee8669;\n",
       "  color: #f1f1f1;\n",
       "}\n",
       "#T_e7aff_row5_col0, #T_e7aff_row5_col1, #T_e7aff_row5_col2, #T_e7aff_row5_col3, #T_e7aff_row5_col4, #T_e7aff_row5_col5 {\n",
       "  background-color: #b40426;\n",
       "  color: #f1f1f1;\n",
       "}\n",
       "</style>\n",
       "<table id=\"T_e7aff_\">\n",
       "  <thead>\n",
       "    <tr>\n",
       "      <th class=\"blank\" >&nbsp;</th>\n",
       "      <th class=\"blank\" >&nbsp;</th>\n",
       "      <th class=\"index_name level0\" >offers</th>\n",
       "      <th class=\"col_heading level0 col0\" >product_id</th>\n",
       "      <th class=\"col_heading level0 col1\" >category3</th>\n",
       "      <th class=\"col_heading level0 col2\" >brand</th>\n",
       "      <th class=\"col_heading level0 col3\" >category2</th>\n",
       "      <th class=\"col_heading level0 col4\" >category1</th>\n",
       "      <th class=\"col_heading level0 col5\" >price</th>\n",
       "    </tr>\n",
       "    <tr>\n",
       "      <th class=\"index_name level0\" >group_by</th>\n",
       "      <th class=\"index_name level1\" >mask_net</th>\n",
       "      <th class=\"index_name level2\" >bi_linear_interaction</th>\n",
       "      <th class=\"blank col0\" >&nbsp;</th>\n",
       "      <th class=\"blank col1\" >&nbsp;</th>\n",
       "      <th class=\"blank col2\" >&nbsp;</th>\n",
       "      <th class=\"blank col3\" >&nbsp;</th>\n",
       "      <th class=\"blank col4\" >&nbsp;</th>\n",
       "      <th class=\"blank col5\" >&nbsp;</th>\n",
       "    </tr>\n",
       "  </thead>\n",
       "  <tbody>\n",
       "    <tr>\n",
       "      <th id=\"T_e7aff_level0_row0\" class=\"row_heading level0 row0\" rowspan=\"2\">False</th>\n",
       "      <th id=\"T_e7aff_level1_row0\" class=\"row_heading level1 row0\" rowspan=\"2\">False</th>\n",
       "      <th id=\"T_e7aff_level2_row0\" class=\"row_heading level2 row0\" >False</th>\n",
       "      <td id=\"T_e7aff_row0_col0\" class=\"data row0 col0\" >0.761</td>\n",
       "      <td id=\"T_e7aff_row0_col1\" class=\"data row0 col1\" >0.670</td>\n",
       "      <td id=\"T_e7aff_row0_col2\" class=\"data row0 col2\" >0.745</td>\n",
       "      <td id=\"T_e7aff_row0_col3\" class=\"data row0 col3\" >0.684</td>\n",
       "      <td id=\"T_e7aff_row0_col4\" class=\"data row0 col4\" >0.660</td>\n",
       "      <td id=\"T_e7aff_row0_col5\" class=\"data row0 col5\" >0.653</td>\n",
       "    </tr>\n",
       "    <tr>\n",
       "      <th id=\"T_e7aff_level2_row1\" class=\"row_heading level2 row1\" >True</th>\n",
       "      <td id=\"T_e7aff_row1_col0\" class=\"data row1 col0\" >0.761</td>\n",
       "      <td id=\"T_e7aff_row1_col1\" class=\"data row1 col1\" >0.625</td>\n",
       "      <td id=\"T_e7aff_row1_col2\" class=\"data row1 col2\" >0.714</td>\n",
       "      <td id=\"T_e7aff_row1_col3\" class=\"data row1 col3\" >0.621</td>\n",
       "      <td id=\"T_e7aff_row1_col4\" class=\"data row1 col4\" >0.590</td>\n",
       "      <td id=\"T_e7aff_row1_col5\" class=\"data row1 col5\" >0.617</td>\n",
       "    </tr>\n",
       "    <tr>\n",
       "      <th id=\"T_e7aff_level0_row2\" class=\"row_heading level0 row2\" rowspan=\"4\">True</th>\n",
       "      <th id=\"T_e7aff_level1_row2\" class=\"row_heading level1 row2\" rowspan=\"2\">False</th>\n",
       "      <th id=\"T_e7aff_level2_row2\" class=\"row_heading level2 row2\" >False</th>\n",
       "      <td id=\"T_e7aff_row2_col0\" class=\"data row2 col0\" >0.761</td>\n",
       "      <td id=\"T_e7aff_row2_col1\" class=\"data row2 col1\" >0.732</td>\n",
       "      <td id=\"T_e7aff_row2_col2\" class=\"data row2 col2\" >0.754</td>\n",
       "      <td id=\"T_e7aff_row2_col3\" class=\"data row2 col3\" >0.737</td>\n",
       "      <td id=\"T_e7aff_row2_col4\" class=\"data row2 col4\" >0.721</td>\n",
       "      <td id=\"T_e7aff_row2_col5\" class=\"data row2 col5\" >0.682</td>\n",
       "    </tr>\n",
       "    <tr>\n",
       "      <th id=\"T_e7aff_level2_row3\" class=\"row_heading level2 row3\" >True</th>\n",
       "      <td id=\"T_e7aff_row3_col0\" class=\"data row3 col0\" >0.767</td>\n",
       "      <td id=\"T_e7aff_row3_col1\" class=\"data row3 col1\" >0.691</td>\n",
       "      <td id=\"T_e7aff_row3_col2\" class=\"data row3 col2\" >0.751</td>\n",
       "      <td id=\"T_e7aff_row3_col3\" class=\"data row3 col3\" >0.692</td>\n",
       "      <td id=\"T_e7aff_row3_col4\" class=\"data row3 col4\" >0.678</td>\n",
       "      <td id=\"T_e7aff_row3_col5\" class=\"data row3 col5\" >0.676</td>\n",
       "    </tr>\n",
       "    <tr>\n",
       "      <th id=\"T_e7aff_level1_row4\" class=\"row_heading level1 row4\" rowspan=\"2\">True</th>\n",
       "      <th id=\"T_e7aff_level2_row4\" class=\"row_heading level2 row4\" >False</th>\n",
       "      <td id=\"T_e7aff_row4_col0\" class=\"data row4 col0\" >0.761</td>\n",
       "      <td id=\"T_e7aff_row4_col1\" class=\"data row4 col1\" >0.727</td>\n",
       "      <td id=\"T_e7aff_row4_col2\" class=\"data row4 col2\" >0.746</td>\n",
       "      <td id=\"T_e7aff_row4_col3\" class=\"data row4 col3\" >0.733</td>\n",
       "      <td id=\"T_e7aff_row4_col4\" class=\"data row4 col4\" >0.728</td>\n",
       "      <td id=\"T_e7aff_row4_col5\" class=\"data row4 col5\" >0.678</td>\n",
       "    </tr>\n",
       "    <tr>\n",
       "      <th id=\"T_e7aff_level2_row5\" class=\"row_heading level2 row5\" >True</th>\n",
       "      <td id=\"T_e7aff_row5_col0\" class=\"data row5 col0\" >0.771</td>\n",
       "      <td id=\"T_e7aff_row5_col1\" class=\"data row5 col1\" >0.741</td>\n",
       "      <td id=\"T_e7aff_row5_col2\" class=\"data row5 col2\" >0.758</td>\n",
       "      <td id=\"T_e7aff_row5_col3\" class=\"data row5 col3\" >0.740</td>\n",
       "      <td id=\"T_e7aff_row5_col4\" class=\"data row5 col4\" >0.736</td>\n",
       "      <td id=\"T_e7aff_row5_col5\" class=\"data row5 col5\" >0.694</td>\n",
       "    </tr>\n",
       "  </tbody>\n",
       "</table>\n"
      ],
      "text/plain": [
       "<pandas.io.formats.style.Styler at 0x7f026c706250>"
      ]
     },
     "execution_count": 15,
     "metadata": {},
     "output_type": "execute_result"
    }
   ],
   "source": [
    "pd.pivot_table(results, 'wAUC', ['group_by', 'mask_net', 'bi_linear_interaction'], 'offers')\\\n",
    "    .rename(columns={'priceCluster': 'price'})[['product_id', 'category3', 'brand', 'category2', 'category1', 'price']]\\\n",
    "    .style.background_gradient(cmap='coolwarm').format(precision=3)"
   ]
  }
 ],
 "metadata": {
  "kernelspec": {
   "display_name": "Custom [moksha-tf2-cpu.2-7] (Local)",
   "language": "python",
   "name": "local-eu.gcr.io_tinyclues-experiments_tinyclues_moksha-tf2-cpu.2-7_latest__moksha"
  },
  "language_info": {
   "codemirror_mode": {
    "name": "ipython",
    "version": 3
   },
   "file_extension": ".py",
   "mimetype": "text/x-python",
   "name": "python",
   "nbconvert_exporter": "python",
   "pygments_lexer": "ipython3",
   "version": "3.9.16"
  }
 },
 "nbformat": 4,
 "nbformat_minor": 5
}
