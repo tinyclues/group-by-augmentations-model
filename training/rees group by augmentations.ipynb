{
 "cells": [
  {
   "cell_type": "markdown",
   "id": "ea932e5b",
   "metadata": {},
   "source": [
    "# Bi-linear interaction model with group-by augmentations"
   ]
  },
  {
   "cell_type": "markdown",
   "id": "d9b6f05f",
   "metadata": {},
   "source": [
    "## Prepare dataset for training"
   ]
  },
  {
   "cell_type": "markdown",
   "id": "d96897ae",
   "metadata": {},
   "source": [
    "Following the same steps as in [the training for Movielens/IMDB dataset](https://github.com/tinyclues/recsys-multi-atrribute-benchmark/blob/master/training/movielens%20simple%20model.ipynb), we first load splitted dataset generated in [notebook](https://github.com/tinyclues/recsys-multi-atrribute-benchmark/blob/master/dataset_preprocessing/movielens%20with%20imdb.ipynb)"
   ]
  },
  {
   "cell_type": "code",
   "execution_count": 1,
   "id": "1899e738-56d3-455f-afcd-ce80fcb17232",
   "metadata": {},
   "outputs": [],
   "source": [
    "DATASET = 'rees_ecommerce'"
   ]
  },
  {
   "cell_type": "code",
   "execution_count": 2,
   "id": "19cc05cc",
   "metadata": {},
   "outputs": [],
   "source": [
    "from utils import load_dataset\n",
    "\n",
    "datasets = {}\n",
    "for split_name in ['train', 'val', 'test']:\n",
    "    datasets[split_name] = load_dataset(DATASET, split_name)"
   ]
  },
  {
   "cell_type": "markdown",
   "id": "b7d1b29e",
   "metadata": {},
   "source": [
    "Then we parse features' names to obtain a list of offer features and a list of user features (aggregated history up to chosen date)"
   ]
  },
  {
   "cell_type": "code",
   "execution_count": 3,
   "id": "c5077ee6",
   "metadata": {},
   "outputs": [],
   "source": [
    "from utils import AGG_PREFIX\n",
    "\n",
    "all_columns = list(datasets['train'].element_spec.keys())\n",
    "technical_columns = ['user_id', 'date']\n",
    "user_features = list(filter(lambda x: x.startswith(AGG_PREFIX), all_columns))\n",
    "offer_features = list(filter(lambda x: x not in user_features + technical_columns, all_columns))"
   ]
  },
  {
   "cell_type": "markdown",
   "id": "dd7d5781",
   "metadata": {},
   "source": [
    "### Rebatching datasets"
   ]
  },
  {
   "cell_type": "markdown",
   "id": "e96990cb",
   "metadata": {},
   "source": [
    "Splitting dataset into smaller batches in the same way as described in [the training for Movielens/IMDB dataset](https://github.com/tinyclues/recsys-multi-atrribute-benchmark/blob/master/training/movielens%20simple%20model.ipynb)"
   ]
  },
  {
   "cell_type": "code",
   "execution_count": 4,
   "id": "cfa53a5c",
   "metadata": {},
   "outputs": [
    {
     "name": "stdout",
     "output_type": "stream",
     "text": [
      "CPU times: user 21.6 s, sys: 861 ms, total: 22.5 s\n",
      "Wall time: 11.4 s\n"
     ]
    }
   ],
   "source": [
    "%%time\n",
    "\n",
    "from functools import partial\n",
    "from uuid import uuid4\n",
    "\n",
    "from utils import rebatch_by_events\n",
    "\n",
    "datasets['train'] = rebatch_by_events(datasets['train'], batch_size=5040, date_column='date', nb_events_by_user_by_day=8)\n",
    "for key in ['val', 'test']:\n",
    "    datasets[key] = rebatch_by_events(datasets[key], batch_size=5040, date_column='date', nb_events_by_user_by_day=8,\n",
    "                                      seed=1729).cache(f'/tmp/{uuid4()}.tf')"
   ]
  },
  {
   "cell_type": "code",
   "execution_count": 5,
   "id": "20173463-08c7-4b6f-a9b8-ade7c5c1121f",
   "metadata": {},
   "outputs": [],
   "source": [
    "from utils import add_equal_weights\n",
    "\n",
    "for key in datasets:\n",
    "    datasets[key] = datasets[key].map(partial(add_equal_weights, features=offer_features))"
   ]
  },
  {
   "cell_type": "markdown",
   "id": "10790714",
   "metadata": {},
   "source": [
    "## Define the model"
   ]
  },
  {
   "cell_type": "markdown",
   "id": "4c685bae",
   "metadata": {},
   "source": [
    "First we need to get number of different modalities inputs can take from saved vectorizers (it will be used in embeddings layer definition):"
   ]
  },
  {
   "cell_type": "code",
   "execution_count": 6,
   "id": "fb20fe7e",
   "metadata": {},
   "outputs": [],
   "source": [
    "from utils import load_inverse_lookups\n",
    "inverse_lookups = load_inverse_lookups(DATASET)"
   ]
  },
  {
   "cell_type": "code",
   "execution_count": 7,
   "id": "1a92d896",
   "metadata": {},
   "outputs": [],
   "source": [
    "import re\n",
    "\n",
    "vocabulary_sizes = {}\n",
    "\n",
    "for feature in offer_features:\n",
    "    vocabulary_sizes[feature] = inverse_lookups[feature].vocabulary_size()\n",
    "\n",
    "for feature in user_features:\n",
    "    for key in inverse_lookups:\n",
    "        pattern = re.compile(r\"{}(\\w+)_{}\".format(AGG_PREFIX, key))\n",
    "        if pattern.match(feature):\n",
    "            vocabulary_sizes[feature] = vocabulary_sizes[key]"
   ]
  },
  {
   "cell_type": "markdown",
   "id": "b2e4c620",
   "metadata": {},
   "source": [
    "### Model architecture"
   ]
  },
  {
   "cell_type": "code",
   "execution_count": 8,
   "id": "ffc0d5d6-af03-41b3-b048-0bf847491afd",
   "metadata": {},
   "outputs": [],
   "source": [
    "import tensorflow as tf"
   ]
  },
  {
   "cell_type": "markdown",
   "id": "357fd6b2",
   "metadata": {},
   "source": [
    "Now we can assemble all these layers into final model. Note that offer compression weights and interaction kernels are shared between different augmentations we generate."
   ]
  },
  {
   "cell_type": "markdown",
   "id": "51e60cfa",
   "metadata": {},
   "source": [
    "<img src=\"resources/group_by_augmentations_model.png\" alt=\"model\" width=\"800\" />"
   ]
  },
  {
   "cell_type": "markdown",
   "id": "88b8378e",
   "metadata": {},
   "source": [
    "### Model parameters"
   ]
  },
  {
   "cell_type": "code",
   "execution_count": 9,
   "id": "92cd4fc4-85d0-4274-a053-bd1ec955c2c1",
   "metadata": {},
   "outputs": [],
   "source": [
    "EMBEDDING_DIM = 100\n",
    "L1_COEFF = 2e-7\n",
    "DROPOUT = 0.1\n",
    "NB_AUGMENTATIONS = 3\n",
    "AVERAGE_NUMBER_OF_FEATURES_IN_AUGMENTATION = 2\n",
    "USER_META_FEATURES = 5\n",
    "OFFER_META_FEATURES = 3\n",
    "\n",
    "def REGULARIZER():\n",
    "    return {'class_name': 'L1L2', 'config': {'l1': L1_COEFF, 'l2': 0.}}\n",
    "\n",
    "def OUTPUT_DNN():\n",
    "    return tf.keras.Sequential([\n",
    "        tf.keras.layers.BatchNormalization(),\n",
    "        tf.keras.layers.Dense(100,\n",
    "                              kernel_regularizer=REGULARIZER(),\n",
    "                              bias_regularizer=REGULARIZER()),\n",
    "        tf.keras.layers.Dropout(DROPOUT),\n",
    "        tf.keras.layers.Activation('tanh'),\n",
    "        tf.keras.layers.Dense(50,\n",
    "                              kernel_regularizer=REGULARIZER(),\n",
    "                              bias_regularizer=REGULARIZER()),\n",
    "        tf.keras.layers.Dropout(DROPOUT),\n",
    "        tf.keras.layers.Activation('tanh'),\n",
    "        tf.keras.layers.Dense(1,\n",
    "                              kernel_regularizer=REGULARIZER(),\n",
    "                              bias_regularizer=REGULARIZER()),\n",
    "    ], name='output_Dnn')\n",
    "\n",
    "EPOCHS = 8\n",
    "\n",
    "NUMBER_OF_NEGATIVES = 4\n",
    "LOSS = tf.keras.losses.BinaryCrossentropy(from_logits=True)\n",
    "AUC_METRIC = tf.keras.metrics.AUC(from_logits=True)\n",
    "\n",
    "import tensorflow_addons as tfa\n",
    "OPTIMIZER = tfa.optimizers.AdamW(weight_decay=4e-8, learning_rate=0.0008)"
   ]
  },
  {
   "cell_type": "markdown",
   "id": "d3f94016",
   "metadata": {},
   "source": [
    "### Embeddings"
   ]
  },
  {
   "cell_type": "markdown",
   "id": "5b103374",
   "metadata": {},
   "source": [
    "We will define embeddings with the same `WeightedEmbeddings` layer described in [the training of a simple model](https://github.com/tinyclues/recsys-multi-atrribute-benchmark/blob/master/training/movielens%20simple%20model.ipynb) with one addition:\n",
    "* for offer features when aggregating a list of embedding vectors, we will also calculate variance and not only mean vector\n",
    "\n",
    "It is easy to do in the same sparse-dense matrix multiplication operation as mean calculation (we get second moment and then calculate variance from it)."
   ]
  },
  {
   "cell_type": "code",
   "execution_count": 10,
   "id": "ca4935ee",
   "metadata": {},
   "outputs": [],
   "source": [
    "from layers import get_input_layer, WeightedEmbeddings\n",
    "from utils import WEIGHT_SUFFIX\n",
    "\n",
    "inputs = {}\n",
    "embedded_user_features, embedded_offer_features, variance_offer_features = {}, {}, {}\n",
    "for feature in user_features:\n",
    "    inputs[feature] = get_input_layer(feature)\n",
    "    emb_layer = WeightedEmbeddings(vocabulary_sizes[feature],\n",
    "                                   EMBEDDING_DIM, name=f'{feature}_embedding',\n",
    "                                   embeddings_regularizer=REGULARIZER())\n",
    "    embedded_user_features[feature] = emb_layer(inputs[feature])\n",
    "for feature in offer_features:\n",
    "    # for offer features we need weights:\n",
    "    # with dummy weights during training, and the ones used for a feature's averaging at inference time\n",
    "    inputs[f'{feature}_weight'] = get_input_layer(f'{feature}_weight', tf.float32)\n",
    "    inputs[feature] = get_input_layer(feature)\n",
    "    emb_layer = WeightedEmbeddings(vocabulary_sizes[feature],\n",
    "                                   EMBEDDING_DIM, name=f'{feature}_embedding',\n",
    "                                   embeddings_regularizer=REGULARIZER(),\n",
    "                                   calculate_variance=True)\n",
    "    embedded_offer_features[feature], variance_offer_features[feature] =\\\n",
    "        emb_layer(inputs[feature], inputs[f'{feature}_weight'])"
   ]
  },
  {
   "cell_type": "markdown",
   "id": "f442c975",
   "metadata": {},
   "source": [
    "### Combining everything into model"
   ]
  },
  {
   "cell_type": "markdown",
   "id": "f4753b65",
   "metadata": {},
   "source": [
    "Now we can define described model architecture on the top of embeddings."
   ]
  },
  {
   "cell_type": "code",
   "execution_count": 11,
   "id": "48eb9977",
   "metadata": {},
   "outputs": [],
   "source": [
    "user_stacked = tf.stack(list(embedded_user_features.values()), axis=1)\n",
    "offer_stacked = tf.stack(list(embedded_offer_features.values()), axis=1)\n",
    "offer_variance = tf.stack(list(variance_offer_features.values()), axis=1)\n",
    "stacked_raw_offer_attrs = tf.stack([tf.cast(inp.values, tf.int32) for feature, inp in inputs.items()\n",
    "                                    if feature in offer_features], axis=1)"
   ]
  },
  {
   "cell_type": "code",
   "execution_count": 12,
   "id": "01bc2e50",
   "metadata": {},
   "outputs": [],
   "source": [
    "from layers import KeyGenerator, GroupBy\n",
    "from layers import UserFeaturesCompressor\n",
    "from layers import OfferFeaturesCompressor\n",
    "\n",
    "from layers import MaskNet\n",
    "\n",
    "from layers import BiLinearInteraction\n",
    "\n",
    "\n",
    "group_by = GroupBy(name='group_by')\n",
    "key_generator = KeyGenerator(number_of_offer_attributes=len(offer_features),\n",
    "                             average_number_of_attributes_in_key=AVERAGE_NUMBER_OF_FEATURES_IN_AUGMENTATION,\n",
    "                             name='grp_key_generator')\n",
    "\n",
    "user_compressed = UserFeaturesCompressor(USER_META_FEATURES, DROPOUT,\n",
    "                                         name='user_compressor')(user_stacked)\n",
    "offer_features_compressor = OfferFeaturesCompressor(OFFER_META_FEATURES, DROPOUT, name='offer_compressor')\n",
    "mask_net = MaskNet(OFFER_META_FEATURES, DROPOUT, name='mask_generation')\n",
    "apply_mask = tf.keras.layers.Multiply(name='apply_mask')\n",
    "bi_linear_interaction = BiLinearInteraction(number_of_negatives=NUMBER_OF_NEGATIVES, dropout_rate=DROPOUT,\n",
    "                                            initializer='random_normal', regularizer=REGULARIZER(),\n",
    "                                            name='interaction')\n",
    "output_dnn = OUTPUT_DNN()\n",
    "\n",
    "augmentation_predictions = []\n",
    "for i in range(NB_AUGMENTATIONS):\n",
    "    group_by_key = key_generator(stacked_raw_offer_attrs)\n",
    "    mean_offer_emb, variance_offer_emb = group_by(group_by_key, offer_stacked)\n",
    "    compressed_offer_embeddings = offer_features_compressor([mean_offer_emb, variance_offer_emb])\n",
    "    mask = mask_net([mean_offer_emb, variance_offer_emb])\n",
    "    masked_offer_embeddings = apply_mask([compressed_offer_embeddings, mask])\n",
    "    _output = output_dnn(bi_linear_interaction([user_compressed, masked_offer_embeddings], generate_negatives=True))\n",
    "    augmentation_predictions.append(_output)\n",
    "output = tf.concat(augmentation_predictions, axis=1)"
   ]
  },
  {
   "cell_type": "markdown",
   "id": "07e5f2ba-237c-4559-9c1d-40a34508b78d",
   "metadata": {},
   "source": [
    "And for evaluation we don't need to create augmentations, we need just to take offer features' mean and variance coming from inputs."
   ]
  },
  {
   "cell_type": "code",
   "execution_count": 13,
   "id": "3c4086eb-1451-4db7-abaa-b2eddd5d78b1",
   "metadata": {},
   "outputs": [],
   "source": [
    "compressed_offer_embeddings = offer_features_compressor([offer_stacked, offer_variance])\n",
    "mask = mask_net([offer_stacked, offer_variance])\n",
    "masked_offer_embeddings = apply_mask([compressed_offer_embeddings, mask])\n",
    "\n",
    "eval_output = output_dnn(bi_linear_interaction([user_compressed, masked_offer_embeddings], generate_negatives=True))"
   ]
  },
  {
   "cell_type": "code",
   "execution_count": 14,
   "id": "c2cc3833",
   "metadata": {},
   "outputs": [],
   "source": [
    "from utils import BroadcastLoss, BroadcastMetric\n",
    "\n",
    "model = tf.keras.Model(inputs, output, name='group_by_augmentations')\n",
    "model.compile(optimizer=OPTIMIZER,\n",
    "              loss=BroadcastLoss(LOSS, NUMBER_OF_NEGATIVES),\n",
    "              metrics=[BroadcastMetric(AUC_METRIC, NUMBER_OF_NEGATIVES)])\n",
    "\n",
    "eval_model = tf.keras.Model(inputs, eval_output, name='group_by_augmentations_eval')"
   ]
  },
  {
   "cell_type": "markdown",
   "id": "7e81c8b1",
   "metadata": {},
   "source": [
    "### Training"
   ]
  },
  {
   "cell_type": "code",
   "execution_count": 15,
   "id": "2ce05bab",
   "metadata": {
    "tags": []
   },
   "outputs": [
    {
     "name": "stdout",
     "output_type": "stream",
     "text": [
      "Epoch 1/8\n"
     ]
    },
    {
     "name": "stderr",
     "output_type": "stream",
     "text": [
      "/home/jupyter/.local/lib/python3.9/site-packages/keras/engine/functional.py:566: UserWarning: Input dict contained keys ['date', 'user_id'] which did not match any model input. They will be ignored by the model.\n",
      "  inputs = self._flatten_to_reference_inputs(inputs)\n",
      "/home/jupyter/.local/lib/python3.9/site-packages/tensorflow/python/framework/indexed_slices.py:444: UserWarning: Converting sparse IndexedSlices(IndexedSlices(indices=Tensor(\"gradient_tape/group_by_augmentations/group_by/moments_2/Reshape_4:0\", shape=(None,), dtype=int32), values=Tensor(\"gradient_tape/group_by_augmentations/group_by/moments_2/Reshape_3:0\", shape=(None, 6, 100), dtype=float32), dense_shape=Tensor(\"gradient_tape/group_by_augmentations/group_by/moments_2/Cast:0\", shape=(3,), dtype=int32))) to a dense Tensor of unknown shape. This may consume a large amount of memory.\n",
      "  warnings.warn(\n",
      "/home/jupyter/.local/lib/python3.9/site-packages/tensorflow/python/framework/indexed_slices.py:444: UserWarning: Converting sparse IndexedSlices(IndexedSlices(indices=Tensor(\"gradient_tape/group_by_augmentations/group_by/moments_1/Reshape_4:0\", shape=(None,), dtype=int32), values=Tensor(\"gradient_tape/group_by_augmentations/group_by/moments_1/Reshape_3:0\", shape=(None, 6, 100), dtype=float32), dense_shape=Tensor(\"gradient_tape/group_by_augmentations/group_by/moments_1/Cast:0\", shape=(3,), dtype=int32))) to a dense Tensor of unknown shape. This may consume a large amount of memory.\n",
      "  warnings.warn(\n",
      "/home/jupyter/.local/lib/python3.9/site-packages/tensorflow/python/framework/indexed_slices.py:444: UserWarning: Converting sparse IndexedSlices(IndexedSlices(indices=Tensor(\"gradient_tape/group_by_augmentations/group_by/moments/Reshape_4:0\", shape=(None,), dtype=int32), values=Tensor(\"gradient_tape/group_by_augmentations/group_by/moments/Reshape_3:0\", shape=(None, 6, 100), dtype=float32), dense_shape=Tensor(\"gradient_tape/group_by_augmentations/group_by/moments/Cast:0\", shape=(3,), dtype=int32))) to a dense Tensor of unknown shape. This may consume a large amount of memory.\n",
      "  warnings.warn(\n",
      "/home/jupyter/.local/lib/python3.9/site-packages/tensorflow/python/framework/indexed_slices.py:444: UserWarning: Converting sparse IndexedSlices(IndexedSlices(indices=Tensor(\"AdamW/gradients/concat_1:0\", shape=(None,), dtype=int32), values=Tensor(\"AdamW/gradients/concat:0\", shape=(None, 6, 100), dtype=float32), dense_shape=Tensor(\"gradient_tape/group_by_augmentations/group_by/SegmentStack_2/Cast:0\", shape=(3,), dtype=int32))) to a dense Tensor of unknown shape. This may consume a large amount of memory.\n",
      "  warnings.warn(\n"
     ]
    },
    {
     "name": "stdout",
     "output_type": "stream",
     "text": [
      "679/679 [==============================] - 329s 417ms/step - loss: 0.4712 - auc: 0.6883 - val_loss: 0.4472 - val_auc: 0.7193\n",
      "Epoch 2/8\n",
      "679/679 [==============================] - 259s 380ms/step - loss: 0.4459 - auc: 0.7191 - val_loss: 0.4450 - val_auc: 0.7210\n",
      "Epoch 3/8\n",
      "679/679 [==============================] - 252s 370ms/step - loss: 0.4414 - auc: 0.7267 - val_loss: 0.4438 - val_auc: 0.7236\n",
      "Epoch 4/8\n",
      "679/679 [==============================] - 249s 366ms/step - loss: 0.4397 - auc: 0.7300 - val_loss: 0.4434 - val_auc: 0.7253\n",
      "Epoch 5/8\n",
      "679/679 [==============================] - 252s 370ms/step - loss: 0.4392 - auc: 0.7311 - val_loss: 0.4384 - val_auc: 0.7335\n",
      "Epoch 6/8\n",
      "679/679 [==============================] - 256s 377ms/step - loss: 0.4379 - auc: 0.7341 - val_loss: 0.4446 - val_auc: 0.7255\n",
      "Epoch 7/8\n",
      "679/679 [==============================] - 258s 380ms/step - loss: 0.4369 - auc: 0.7364 - val_loss: 0.4419 - val_auc: 0.7295\n",
      "Epoch 8/8\n",
      "679/679 [==============================] - 255s 375ms/step - loss: 0.4377 - auc: 0.7358 - val_loss: 0.4443 - val_auc: 0.7261\n"
     ]
    },
    {
     "data": {
      "text/plain": [
       "<keras.callbacks.History at 0x7f9640733f70>"
      ]
     },
     "execution_count": 15,
     "metadata": {},
     "output_type": "execute_result"
    }
   ],
   "source": [
    "model.fit(datasets['train'], epochs=EPOCHS, validation_data=datasets['val'])"
   ]
  },
  {
   "cell_type": "markdown",
   "id": "27080ac6-2c87-49b0-b942-7c9bc02c29a0",
   "metadata": {},
   "source": [
    "## Single task models benchmark"
   ]
  },
  {
   "cell_type": "markdown",
   "id": "7bb00e26-0475-459a-9973-5aeb2fc8faf3",
   "metadata": {},
   "source": [
    "Using same approach as in [the simple model notebook](https://github.com/tinyclues/recsys-multi-atrribute-benchmark/blob/master/training/rees%20simple%20model.ipynb) we will look at performance gap between the model with group by augmentations against set of models specialized on tasks corresponding to one offer feature at time. We won't use augmentations in those baseline models, because they will be already aligned with offer we will use in evaluation afterwards. To illustrate importance of augmentations we will also train single model without group_by augmentations."
   ]
  },
  {
   "cell_type": "code",
   "execution_count": 16,
   "id": "373994d8-b6ec-4d7c-b878-b8c1f7bc58bf",
   "metadata": {},
   "outputs": [],
   "source": [
    "# offer columns we want to evaluate, specific to dataset we test\n",
    "TASKS = ['product_id', 'category1', 'category2', 'category3', 'brand', 'priceCluster']"
   ]
  },
  {
   "cell_type": "code",
   "execution_count": 19,
   "id": "2170ef73-1e06-4dda-9463-be8c1e71a596",
   "metadata": {},
   "outputs": [],
   "source": [
    "def bi_linear_interaction_model(offer_features, name='bi_linear_model'):\n",
    "    # user_features, vocabulary_sizes, EMBEDDING_DIM, REGULARIZER, OPTIMIZER,\n",
    "    # OUTPUT_DNN, LOSS, NUMBER_OF_NEGATIVES\n",
    "    # come from global scope, but can be passed as params instead\n",
    "    inputs = {}\n",
    "    embedded_user_features, embedded_offer_features = {}, {}\n",
    "    for feature in user_features:\n",
    "        inputs[feature] = get_input_layer(feature)\n",
    "        emb_layer = WeightedEmbeddings(vocabulary_sizes[feature],\n",
    "                                       EMBEDDING_DIM, name=f'{feature}_embedding',\n",
    "                                       embeddings_regularizer=REGULARIZER())\n",
    "        embedded_user_features[feature] = emb_layer(inputs[feature])\n",
    "\n",
    "    # for offer feature we need weights:\n",
    "    # with dummy weights during training, and the ones used for a feature's averaging at inference time\n",
    "    for feature in offer_features:\n",
    "        inputs[feature] = get_input_layer(feature)\n",
    "        inputs[f'{feature}_weight'] = get_input_layer(f'{feature}_weight', tf.float32)\n",
    "        emb_layer = WeightedEmbeddings(vocabulary_sizes[feature],\n",
    "                                       EMBEDDING_DIM, name=f'{feature}_embedding',\n",
    "                                       embeddings_regularizer=REGULARIZER())\n",
    "        embedded_offer_features[feature] = emb_layer(inputs[feature], inputs[f'{feature}_weight'])\n",
    "    \n",
    "    user_stacked = tf.stack(list(embedded_user_features.values()), axis=1)\n",
    "    offer_stacked = tf.stack(list(embedded_offer_features.values()), axis=1)\n",
    "    \n",
    "    user_compressed = UserFeaturesCompressor(USER_META_FEATURES, DROPOUT,\n",
    "                                             name='user_compressor')(user_stacked)\n",
    "    \n",
    "    output_dnn = OUTPUT_DNN()\n",
    "    bi_linear_interaction = BiLinearInteraction(number_of_negatives=NUMBER_OF_NEGATIVES, dropout_rate=DROPOUT,\n",
    "                                                initializer='random_normal', regularizer=REGULARIZER(),\n",
    "                                                name='interaction')\n",
    "    \n",
    "    output = output_dnn(bi_linear_interaction([user_compressed, offer_stacked], generate_negatives=True))\n",
    "\n",
    "    model = tf.keras.Model(inputs, output, name=name)\n",
    "    model.compile(optimizer=OPTIMIZER,\n",
    "                  loss=BroadcastLoss(LOSS, NUMBER_OF_NEGATIVES),\n",
    "                  metrics=[BroadcastMetric(AUC_METRIC, NUMBER_OF_NEGATIVES)])\n",
    "    \n",
    "    return model"
   ]
  },
  {
   "cell_type": "code",
   "execution_count": 20,
   "id": "a5db2f4f-50d7-4bdc-91f2-cb517d2a301d",
   "metadata": {},
   "outputs": [
    {
     "name": "stdout",
     "output_type": "stream",
     "text": [
      "Epoch 1/8\n",
      "679/679 [==============================] - 200s 255ms/step - loss: 0.4385 - auc: 0.7385 - val_loss: 0.4212 - val_auc: 0.7628\n",
      "Epoch 2/8\n",
      "679/679 [==============================] - 157s 230ms/step - loss: 0.4162 - auc: 0.7688 - val_loss: 0.4175 - val_auc: 0.7674\n",
      "Epoch 3/8\n",
      "679/679 [==============================] - 156s 229ms/step - loss: 0.4121 - auc: 0.7745 - val_loss: 0.4165 - val_auc: 0.7684\n",
      "Epoch 4/8\n",
      "679/679 [==============================] - 158s 232ms/step - loss: 0.4098 - auc: 0.7789 - val_loss: 0.4178 - val_auc: 0.7687\n",
      "Epoch 5/8\n",
      "679/679 [==============================] - 158s 232ms/step - loss: 0.4083 - auc: 0.7830 - val_loss: 0.4192 - val_auc: 0.7688\n",
      "Epoch 6/8\n",
      "679/679 [==============================] - 157s 231ms/step - loss: 0.4068 - auc: 0.7875 - val_loss: 0.4231 - val_auc: 0.7677\n",
      "Epoch 7/8\n",
      "679/679 [==============================] - 156s 230ms/step - loss: 0.4055 - auc: 0.7923 - val_loss: 0.4265 - val_auc: 0.7666\n",
      "Epoch 8/8\n",
      "679/679 [==============================] - 157s 231ms/step - loss: 0.4039 - auc: 0.7977 - val_loss: 0.4319 - val_auc: 0.7630\n"
     ]
    },
    {
     "data": {
      "text/plain": [
       "<keras.callbacks.History at 0x7f95715db3a0>"
      ]
     },
     "execution_count": 20,
     "metadata": {},
     "output_type": "execute_result"
    }
   ],
   "source": [
    "model_wo_augmentations = bi_linear_interaction_model(offer_features, name='model_wo_augm')\n",
    "model_wo_augmentations.fit(datasets['train'], epochs=EPOCHS, validation_data=datasets['val'])"
   ]
  },
  {
   "cell_type": "code",
   "execution_count": 21,
   "id": "34c6b37f-b971-41b6-bc36-e60974bcdb9b",
   "metadata": {},
   "outputs": [
    {
     "name": "stdout",
     "output_type": "stream",
     "text": [
      "Epoch 1/8\n"
     ]
    },
    {
     "name": "stderr",
     "output_type": "stream",
     "text": [
      "/home/jupyter/.local/lib/python3.9/site-packages/keras/engine/functional.py:566: UserWarning: Input dict contained keys ['category3', 'category2', 'date', 'user_id', 'brand', 'priceCluster', 'category1', 'category3_weight', 'category2_weight', 'brand_weight', 'priceCluster_weight', 'category1_weight'] which did not match any model input. They will be ignored by the model.\n",
      "  inputs = self._flatten_to_reference_inputs(inputs)\n"
     ]
    },
    {
     "name": "stdout",
     "output_type": "stream",
     "text": [
      "679/679 [==============================] - 156s 199ms/step - loss: 0.4527 - auc: 0.7337 - val_loss: 0.4383 - val_auc: 0.7497\n",
      "Epoch 2/8\n",
      "679/679 [==============================] - 125s 184ms/step - loss: 0.4286 - auc: 0.7646 - val_loss: 0.4347 - val_auc: 0.7550\n",
      "Epoch 3/8\n",
      "679/679 [==============================] - 125s 183ms/step - loss: 0.4221 - auc: 0.7742 - val_loss: 0.4355 - val_auc: 0.7563\n",
      "Epoch 4/8\n",
      "679/679 [==============================] - 124s 182ms/step - loss: 0.4184 - auc: 0.7807 - val_loss: 0.4377 - val_auc: 0.7557\n",
      "Epoch 5/8\n",
      "679/679 [==============================] - 126s 185ms/step - loss: 0.4153 - auc: 0.7861 - val_loss: 0.4387 - val_auc: 0.7558\n",
      "Epoch 6/8\n",
      "679/679 [==============================] - 128s 188ms/step - loss: 0.4130 - auc: 0.7905 - val_loss: 0.4417 - val_auc: 0.7540\n",
      "Epoch 7/8\n",
      "679/679 [==============================] - 140s 206ms/step - loss: 0.4112 - auc: 0.7943 - val_loss: 0.4452 - val_auc: 0.7527\n",
      "Epoch 8/8\n",
      "679/679 [==============================] - 135s 198ms/step - loss: 0.4094 - auc: 0.7978 - val_loss: 0.4468 - val_auc: 0.7511\n",
      "Epoch 1/8\n"
     ]
    },
    {
     "name": "stderr",
     "output_type": "stream",
     "text": [
      "/home/jupyter/.local/lib/python3.9/site-packages/keras/engine/functional.py:566: UserWarning: Input dict contained keys ['category3', 'category2', 'date', 'user_id', 'brand', 'product_id', 'priceCluster', 'category3_weight', 'category2_weight', 'brand_weight', 'product_id_weight', 'priceCluster_weight'] which did not match any model input. They will be ignored by the model.\n",
      "  inputs = self._flatten_to_reference_inputs(inputs)\n"
     ]
    },
    {
     "name": "stdout",
     "output_type": "stream",
     "text": [
      "679/679 [==============================] - 169s 211ms/step - loss: 0.4749 - auc: 0.6775 - val_loss: 0.4697 - val_auc: 0.6725\n",
      "Epoch 2/8\n",
      "679/679 [==============================] - 123s 181ms/step - loss: 0.4690 - auc: 0.6729 - val_loss: 0.4692 - val_auc: 0.6731\n",
      "Epoch 3/8\n",
      "679/679 [==============================] - 123s 181ms/step - loss: 0.4683 - auc: 0.6742 - val_loss: 0.4687 - val_auc: 0.6734\n",
      "Epoch 4/8\n",
      "679/679 [==============================] - 123s 181ms/step - loss: 0.4677 - auc: 0.6755 - val_loss: 0.4686 - val_auc: 0.6736\n",
      "Epoch 5/8\n",
      "679/679 [==============================] - 123s 181ms/step - loss: 0.4672 - auc: 0.6769 - val_loss: 0.4690 - val_auc: 0.6733\n",
      "Epoch 6/8\n",
      "679/679 [==============================] - 124s 182ms/step - loss: 0.4666 - auc: 0.6784 - val_loss: 0.4691 - val_auc: 0.6733\n",
      "Epoch 7/8\n",
      "679/679 [==============================] - 124s 182ms/step - loss: 0.4660 - auc: 0.6802 - val_loss: 0.4696 - val_auc: 0.6727\n",
      "Epoch 8/8\n",
      "679/679 [==============================] - 123s 181ms/step - loss: 0.4655 - auc: 0.6819 - val_loss: 0.4705 - val_auc: 0.6722\n",
      "Epoch 1/8\n"
     ]
    },
    {
     "name": "stderr",
     "output_type": "stream",
     "text": [
      "/home/jupyter/.local/lib/python3.9/site-packages/keras/engine/functional.py:566: UserWarning: Input dict contained keys ['category3', 'date', 'user_id', 'brand', 'product_id', 'priceCluster', 'category1', 'category3_weight', 'brand_weight', 'product_id_weight', 'priceCluster_weight', 'category1_weight'] which did not match any model input. They will be ignored by the model.\n",
      "  inputs = self._flatten_to_reference_inputs(inputs)\n"
     ]
    },
    {
     "name": "stdout",
     "output_type": "stream",
     "text": [
      "679/679 [==============================] - 154s 196ms/step - loss: 0.4677 - auc: 0.6772 - val_loss: 0.4609 - val_auc: 0.6862\n",
      "Epoch 2/8\n",
      "679/679 [==============================] - 122s 179ms/step - loss: 0.4601 - auc: 0.6881 - val_loss: 0.4602 - val_auc: 0.6882\n",
      "Epoch 3/8\n",
      "679/679 [==============================] - 122s 179ms/step - loss: 0.4590 - auc: 0.6902 - val_loss: 0.4601 - val_auc: 0.6884\n",
      "Epoch 4/8\n",
      "679/679 [==============================] - 122s 179ms/step - loss: 0.4584 - auc: 0.6915 - val_loss: 0.4600 - val_auc: 0.6889\n",
      "Epoch 5/8\n",
      "679/679 [==============================] - 120s 177ms/step - loss: 0.4578 - auc: 0.6931 - val_loss: 0.4605 - val_auc: 0.6886\n",
      "Epoch 6/8\n",
      "679/679 [==============================] - 120s 176ms/step - loss: 0.4574 - auc: 0.6946 - val_loss: 0.4615 - val_auc: 0.6885\n",
      "Epoch 7/8\n",
      "679/679 [==============================] - 121s 177ms/step - loss: 0.4569 - auc: 0.6962 - val_loss: 0.4616 - val_auc: 0.6881\n",
      "Epoch 8/8\n",
      "679/679 [==============================] - 120s 177ms/step - loss: 0.4565 - auc: 0.6980 - val_loss: 0.4625 - val_auc: 0.6874\n",
      "Epoch 1/8\n"
     ]
    },
    {
     "name": "stderr",
     "output_type": "stream",
     "text": [
      "/home/jupyter/.local/lib/python3.9/site-packages/keras/engine/functional.py:566: UserWarning: Input dict contained keys ['category2', 'date', 'user_id', 'brand', 'product_id', 'priceCluster', 'category1', 'category2_weight', 'brand_weight', 'product_id_weight', 'priceCluster_weight', 'category1_weight'] which did not match any model input. They will be ignored by the model.\n",
      "  inputs = self._flatten_to_reference_inputs(inputs)\n"
     ]
    },
    {
     "name": "stdout",
     "output_type": "stream",
     "text": [
      "679/679 [==============================] - 153s 196ms/step - loss: 0.4701 - auc: 0.6743 - val_loss: 0.4628 - val_auc: 0.6817\n",
      "Epoch 2/8\n",
      "679/679 [==============================] - 126s 185ms/step - loss: 0.4621 - auc: 0.6827 - val_loss: 0.4622 - val_auc: 0.6830\n",
      "Epoch 3/8\n",
      "679/679 [==============================] - 127s 187ms/step - loss: 0.4609 - auc: 0.6849 - val_loss: 0.4627 - val_auc: 0.6834\n",
      "Epoch 4/8\n",
      "679/679 [==============================] - 127s 186ms/step - loss: 0.4603 - auc: 0.6863 - val_loss: 0.4620 - val_auc: 0.6838\n",
      "Epoch 5/8\n",
      "679/679 [==============================] - 126s 185ms/step - loss: 0.4598 - auc: 0.6877 - val_loss: 0.4625 - val_auc: 0.6840\n",
      "Epoch 6/8\n",
      "679/679 [==============================] - 124s 182ms/step - loss: 0.4592 - auc: 0.6893 - val_loss: 0.4624 - val_auc: 0.6836\n",
      "Epoch 7/8\n",
      "679/679 [==============================] - 122s 179ms/step - loss: 0.4587 - auc: 0.6911 - val_loss: 0.4629 - val_auc: 0.6830\n",
      "Epoch 8/8\n",
      "679/679 [==============================] - 121s 178ms/step - loss: 0.4582 - auc: 0.6928 - val_loss: 0.4632 - val_auc: 0.6830\n",
      "Epoch 1/8\n"
     ]
    },
    {
     "name": "stderr",
     "output_type": "stream",
     "text": [
      "/home/jupyter/.local/lib/python3.9/site-packages/keras/engine/functional.py:566: UserWarning: Input dict contained keys ['category3', 'category2', 'date', 'user_id', 'product_id', 'priceCluster', 'category1', 'category3_weight', 'category2_weight', 'product_id_weight', 'priceCluster_weight', 'category1_weight'] which did not match any model input. They will be ignored by the model.\n",
      "  inputs = self._flatten_to_reference_inputs(inputs)\n"
     ]
    },
    {
     "name": "stdout",
     "output_type": "stream",
     "text": [
      "679/679 [==============================] - 153s 194ms/step - loss: 0.4518 - auc: 0.7158 - val_loss: 0.4426 - val_auc: 0.7311\n",
      "Epoch 2/8\n",
      "679/679 [==============================] - 122s 179ms/step - loss: 0.4402 - auc: 0.7352 - val_loss: 0.4410 - val_auc: 0.7334\n",
      "Epoch 3/8\n",
      "679/679 [==============================] - 120s 176ms/step - loss: 0.4380 - auc: 0.7385 - val_loss: 0.4405 - val_auc: 0.7340\n",
      "Epoch 4/8\n",
      "679/679 [==============================] - 119s 175ms/step - loss: 0.4369 - auc: 0.7406 - val_loss: 0.4406 - val_auc: 0.7343\n",
      "Epoch 5/8\n",
      "679/679 [==============================] - 120s 177ms/step - loss: 0.4360 - auc: 0.7425 - val_loss: 0.4421 - val_auc: 0.7340\n",
      "Epoch 6/8\n",
      "679/679 [==============================] - 120s 176ms/step - loss: 0.4352 - auc: 0.7445 - val_loss: 0.4424 - val_auc: 0.7336\n",
      "Epoch 7/8\n",
      "679/679 [==============================] - 120s 176ms/step - loss: 0.4344 - auc: 0.7466 - val_loss: 0.4430 - val_auc: 0.7332\n",
      "Epoch 8/8\n",
      "679/679 [==============================] - 120s 177ms/step - loss: 0.4336 - auc: 0.7488 - val_loss: 0.4447 - val_auc: 0.7326\n",
      "Epoch 1/8\n"
     ]
    },
    {
     "name": "stderr",
     "output_type": "stream",
     "text": [
      "/home/jupyter/.local/lib/python3.9/site-packages/keras/engine/functional.py:566: UserWarning: Input dict contained keys ['category3', 'category2', 'date', 'user_id', 'brand', 'product_id', 'category1', 'category3_weight', 'category2_weight', 'brand_weight', 'product_id_weight', 'category1_weight'] which did not match any model input. They will be ignored by the model.\n",
      "  inputs = self._flatten_to_reference_inputs(inputs)\n"
     ]
    },
    {
     "name": "stdout",
     "output_type": "stream",
     "text": [
      "679/679 [==============================] - 163s 205ms/step - loss: 0.4643 - auc: 0.6904 - val_loss: 0.4542 - val_auc: 0.6978\n",
      "Epoch 2/8\n",
      "679/679 [==============================] - 130s 191ms/step - loss: 0.4524 - auc: 0.7009 - val_loss: 0.4526 - val_auc: 0.7006\n",
      "Epoch 3/8\n",
      "679/679 [==============================] - 126s 185ms/step - loss: 0.4507 - auc: 0.7045 - val_loss: 0.4527 - val_auc: 0.7022\n",
      "Epoch 4/8\n",
      "679/679 [==============================] - 124s 182ms/step - loss: 0.4500 - auc: 0.7066 - val_loss: 0.4525 - val_auc: 0.7026\n",
      "Epoch 5/8\n",
      "679/679 [==============================] - 124s 182ms/step - loss: 0.4494 - auc: 0.7085 - val_loss: 0.4532 - val_auc: 0.7027\n",
      "Epoch 6/8\n",
      "679/679 [==============================] - 127s 187ms/step - loss: 0.4489 - auc: 0.7105 - val_loss: 0.4535 - val_auc: 0.7029\n",
      "Epoch 7/8\n",
      "679/679 [==============================] - 124s 182ms/step - loss: 0.4485 - auc: 0.7122 - val_loss: 0.4540 - val_auc: 0.7022\n",
      "Epoch 8/8\n",
      "679/679 [==============================] - 124s 183ms/step - loss: 0.4480 - auc: 0.7143 - val_loss: 0.4559 - val_auc: 0.7016\n"
     ]
    }
   ],
   "source": [
    "mono_feature_models = {}\n",
    "for task_offer_feature in TASKS:\n",
    "    mono_feature_models[task_offer_feature] =\\\n",
    "        bi_linear_interaction_model([task_offer_feature], name=f'{task_offer_feature}_model')\n",
    "    mono_feature_models[task_offer_feature].fit(datasets['train'],\n",
    "                                                epochs=EPOCHS,\n",
    "                                                validation_data=datasets['val'])"
   ]
  },
  {
   "cell_type": "markdown",
   "id": "49cc7d11-391a-4466-9bb5-bf9f2bbcc203",
   "metadata": {},
   "source": [
    "## Evaluation"
   ]
  },
  {
   "cell_type": "code",
   "execution_count": 22,
   "id": "eb861dcc-1c7c-4a3e-be52-864c97543ae7",
   "metadata": {},
   "outputs": [
    {
     "name": "stdout",
     "output_type": "stream",
     "text": [
      "CPU times: user 3min 11s, sys: 16.3 s, total: 3min 27s\n",
      "Wall time: 3min\n"
     ]
    }
   ],
   "source": [
    "%%time\n",
    "from utils import prepare_single_task_dataset\n",
    "test_datasets = {}\n",
    "for task_offer_feature in TASKS:\n",
    "    test_datasets[task_offer_feature] = \\\n",
    "        prepare_single_task_dataset(datasets['test'], task_offer_feature, offer_features)"
   ]
  },
  {
   "cell_type": "code",
   "execution_count": 23,
   "id": "644699ac-98a0-496d-8a76-afb73852bc86",
   "metadata": {
    "tags": []
   },
   "outputs": [
    {
     "name": "stderr",
     "output_type": "stream",
     "text": [
      "/home/jupyter/.local/lib/python3.9/site-packages/keras/engine/functional.py:566: UserWarning: Input dict contained keys ['category3', 'category2', 'date', 'user_id', 'brand', 'product_id', 'priceCluster', 'category3_weight', 'category2_weight', 'brand_weight', 'product_id_weight', 'priceCluster_weight'] which did not match any model input. They will be ignored by the model.\n",
      "  inputs = self._flatten_to_reference_inputs(inputs)\n",
      "/home/jupyter/.local/lib/python3.9/site-packages/keras/engine/functional.py:566: UserWarning: Input dict contained keys ['category3', 'date', 'user_id', 'brand', 'product_id', 'priceCluster', 'category1', 'category3_weight', 'brand_weight', 'product_id_weight', 'priceCluster_weight', 'category1_weight'] which did not match any model input. They will be ignored by the model.\n",
      "  inputs = self._flatten_to_reference_inputs(inputs)\n",
      "/home/jupyter/.local/lib/python3.9/site-packages/keras/engine/functional.py:566: UserWarning: Input dict contained keys ['category2', 'date', 'user_id', 'brand', 'product_id', 'priceCluster', 'category1', 'category2_weight', 'brand_weight', 'product_id_weight', 'priceCluster_weight', 'category1_weight'] which did not match any model input. They will be ignored by the model.\n",
      "  inputs = self._flatten_to_reference_inputs(inputs)\n",
      "/home/jupyter/.local/lib/python3.9/site-packages/keras/engine/functional.py:566: UserWarning: Input dict contained keys ['category3', 'category2', 'date', 'user_id', 'product_id', 'priceCluster', 'category1', 'category3_weight', 'category2_weight', 'product_id_weight', 'priceCluster_weight', 'category1_weight'] which did not match any model input. They will be ignored by the model.\n",
      "  inputs = self._flatten_to_reference_inputs(inputs)\n",
      "/home/jupyter/.local/lib/python3.9/site-packages/keras/engine/functional.py:566: UserWarning: Input dict contained keys ['category3', 'category2', 'date', 'user_id', 'brand', 'product_id', 'category1', 'category3_weight', 'category2_weight', 'brand_weight', 'product_id_weight', 'category1_weight'] which did not match any model input. They will be ignored by the model.\n",
      "  inputs = self._flatten_to_reference_inputs(inputs)\n",
      "/home/jupyter/.local/lib/python3.9/site-packages/keras/engine/functional.py:566: UserWarning: Input dict contained keys ['date', 'user_id'] which did not match any model input. They will be ignored by the model.\n",
      "  inputs = self._flatten_to_reference_inputs(inputs)\n",
      "/home/jupyter/.local/lib/python3.9/site-packages/keras/engine/functional.py:566: UserWarning: Input dict contained keys ['date', 'user_id'] which did not match any model input. They will be ignored by the model.\n",
      "  inputs = self._flatten_to_reference_inputs(inputs)\n",
      "/home/jupyter/.local/lib/python3.9/site-packages/keras/engine/functional.py:566: UserWarning: Input dict contained keys ['category3', 'category2', 'date', 'user_id', 'brand', 'priceCluster', 'category1', 'category3_weight', 'category2_weight', 'brand_weight', 'priceCluster_weight', 'category1_weight'] which did not match any model input. They will be ignored by the model.\n",
      "  inputs = self._flatten_to_reference_inputs(inputs)\n",
      "/home/jupyter/.local/lib/python3.9/site-packages/keras/engine/functional.py:566: UserWarning: Input dict contained keys ['category3', 'category2', 'date', 'user_id', 'brand', 'product_id', 'priceCluster', 'category3_weight', 'category2_weight', 'brand_weight', 'product_id_weight', 'priceCluster_weight'] which did not match any model input. They will be ignored by the model.\n",
      "  inputs = self._flatten_to_reference_inputs(inputs)\n",
      "/home/jupyter/.local/lib/python3.9/site-packages/keras/engine/functional.py:566: UserWarning: Input dict contained keys ['category3', 'date', 'user_id', 'brand', 'product_id', 'priceCluster', 'category1', 'category3_weight', 'brand_weight', 'product_id_weight', 'priceCluster_weight', 'category1_weight'] which did not match any model input. They will be ignored by the model.\n",
      "  inputs = self._flatten_to_reference_inputs(inputs)\n",
      "/home/jupyter/.local/lib/python3.9/site-packages/keras/engine/functional.py:566: UserWarning: Input dict contained keys ['category2', 'date', 'user_id', 'brand', 'product_id', 'priceCluster', 'category1', 'category2_weight', 'brand_weight', 'product_id_weight', 'priceCluster_weight', 'category1_weight'] which did not match any model input. They will be ignored by the model.\n",
      "  inputs = self._flatten_to_reference_inputs(inputs)\n",
      "/home/jupyter/.local/lib/python3.9/site-packages/keras/engine/functional.py:566: UserWarning: Input dict contained keys ['category3', 'category2', 'date', 'user_id', 'product_id', 'priceCluster', 'category1', 'category3_weight', 'category2_weight', 'product_id_weight', 'priceCluster_weight', 'category1_weight'] which did not match any model input. They will be ignored by the model.\n",
      "  inputs = self._flatten_to_reference_inputs(inputs)\n",
      "/home/jupyter/.local/lib/python3.9/site-packages/keras/engine/functional.py:566: UserWarning: Input dict contained keys ['category3', 'category2', 'date', 'user_id', 'brand', 'product_id', 'category1', 'category3_weight', 'category2_weight', 'brand_weight', 'product_id_weight', 'category1_weight'] which did not match any model input. They will be ignored by the model.\n",
      "  inputs = self._flatten_to_reference_inputs(inputs)\n",
      "/home/jupyter/.local/lib/python3.9/site-packages/keras/engine/functional.py:566: UserWarning: Input dict contained keys ['date', 'user_id'] which did not match any model input. They will be ignored by the model.\n",
      "  inputs = self._flatten_to_reference_inputs(inputs)\n",
      "/home/jupyter/.local/lib/python3.9/site-packages/keras/engine/functional.py:566: UserWarning: Input dict contained keys ['date', 'user_id'] which did not match any model input. They will be ignored by the model.\n",
      "  inputs = self._flatten_to_reference_inputs(inputs)\n",
      "/home/jupyter/.local/lib/python3.9/site-packages/keras/engine/functional.py:566: UserWarning: Input dict contained keys ['category3', 'category2', 'date', 'user_id', 'brand', 'priceCluster', 'category1', 'category3_weight', 'category2_weight', 'brand_weight', 'priceCluster_weight', 'category1_weight'] which did not match any model input. They will be ignored by the model.\n",
      "  inputs = self._flatten_to_reference_inputs(inputs)\n",
      "/home/jupyter/.local/lib/python3.9/site-packages/keras/engine/functional.py:566: UserWarning: Input dict contained keys ['category3', 'category2', 'date', 'user_id', 'brand', 'product_id', 'priceCluster', 'category3_weight', 'category2_weight', 'brand_weight', 'product_id_weight', 'priceCluster_weight'] which did not match any model input. They will be ignored by the model.\n",
      "  inputs = self._flatten_to_reference_inputs(inputs)\n",
      "/home/jupyter/.local/lib/python3.9/site-packages/keras/engine/functional.py:566: UserWarning: Input dict contained keys ['category3', 'date', 'user_id', 'brand', 'product_id', 'priceCluster', 'category1', 'category3_weight', 'brand_weight', 'product_id_weight', 'priceCluster_weight', 'category1_weight'] which did not match any model input. They will be ignored by the model.\n",
      "  inputs = self._flatten_to_reference_inputs(inputs)\n",
      "/home/jupyter/.local/lib/python3.9/site-packages/keras/engine/functional.py:566: UserWarning: Input dict contained keys ['category2', 'date', 'user_id', 'brand', 'product_id', 'priceCluster', 'category1', 'category2_weight', 'brand_weight', 'product_id_weight', 'priceCluster_weight', 'category1_weight'] which did not match any model input. They will be ignored by the model.\n",
      "  inputs = self._flatten_to_reference_inputs(inputs)\n",
      "/home/jupyter/.local/lib/python3.9/site-packages/keras/engine/functional.py:566: UserWarning: Input dict contained keys ['category3', 'category2', 'date', 'user_id', 'product_id', 'priceCluster', 'category1', 'category3_weight', 'category2_weight', 'product_id_weight', 'priceCluster_weight', 'category1_weight'] which did not match any model input. They will be ignored by the model.\n",
      "  inputs = self._flatten_to_reference_inputs(inputs)\n",
      "/home/jupyter/.local/lib/python3.9/site-packages/keras/engine/functional.py:566: UserWarning: Input dict contained keys ['category3', 'category2', 'date', 'user_id', 'brand', 'product_id', 'category1', 'category3_weight', 'category2_weight', 'brand_weight', 'product_id_weight', 'category1_weight'] which did not match any model input. They will be ignored by the model.\n",
      "  inputs = self._flatten_to_reference_inputs(inputs)\n",
      "/home/jupyter/.local/lib/python3.9/site-packages/keras/engine/functional.py:566: UserWarning: Input dict contained keys ['date', 'user_id'] which did not match any model input. They will be ignored by the model.\n",
      "  inputs = self._flatten_to_reference_inputs(inputs)\n",
      "/home/jupyter/.local/lib/python3.9/site-packages/keras/engine/functional.py:566: UserWarning: Input dict contained keys ['date', 'user_id'] which did not match any model input. They will be ignored by the model.\n",
      "  inputs = self._flatten_to_reference_inputs(inputs)\n",
      "/home/jupyter/.local/lib/python3.9/site-packages/keras/engine/functional.py:566: UserWarning: Input dict contained keys ['category3', 'category2', 'date', 'user_id', 'brand', 'priceCluster', 'category1', 'category3_weight', 'category2_weight', 'brand_weight', 'priceCluster_weight', 'category1_weight'] which did not match any model input. They will be ignored by the model.\n",
      "  inputs = self._flatten_to_reference_inputs(inputs)\n",
      "/home/jupyter/.local/lib/python3.9/site-packages/keras/engine/functional.py:566: UserWarning: Input dict contained keys ['category3', 'category2', 'date', 'user_id', 'brand', 'product_id', 'priceCluster', 'category3_weight', 'category2_weight', 'brand_weight', 'product_id_weight', 'priceCluster_weight'] which did not match any model input. They will be ignored by the model.\n",
      "  inputs = self._flatten_to_reference_inputs(inputs)\n",
      "/home/jupyter/.local/lib/python3.9/site-packages/keras/engine/functional.py:566: UserWarning: Input dict contained keys ['category3', 'date', 'user_id', 'brand', 'product_id', 'priceCluster', 'category1', 'category3_weight', 'brand_weight', 'product_id_weight', 'priceCluster_weight', 'category1_weight'] which did not match any model input. They will be ignored by the model.\n",
      "  inputs = self._flatten_to_reference_inputs(inputs)\n",
      "/home/jupyter/.local/lib/python3.9/site-packages/keras/engine/functional.py:566: UserWarning: Input dict contained keys ['category2', 'date', 'user_id', 'brand', 'product_id', 'priceCluster', 'category1', 'category2_weight', 'brand_weight', 'product_id_weight', 'priceCluster_weight', 'category1_weight'] which did not match any model input. They will be ignored by the model.\n",
      "  inputs = self._flatten_to_reference_inputs(inputs)\n",
      "/home/jupyter/.local/lib/python3.9/site-packages/keras/engine/functional.py:566: UserWarning: Input dict contained keys ['category3', 'category2', 'date', 'user_id', 'product_id', 'priceCluster', 'category1', 'category3_weight', 'category2_weight', 'product_id_weight', 'priceCluster_weight', 'category1_weight'] which did not match any model input. They will be ignored by the model.\n",
      "  inputs = self._flatten_to_reference_inputs(inputs)\n",
      "/home/jupyter/.local/lib/python3.9/site-packages/keras/engine/functional.py:566: UserWarning: Input dict contained keys ['category3', 'category2', 'date', 'user_id', 'brand', 'product_id', 'category1', 'category3_weight', 'category2_weight', 'brand_weight', 'product_id_weight', 'category1_weight'] which did not match any model input. They will be ignored by the model.\n",
      "  inputs = self._flatten_to_reference_inputs(inputs)\n",
      "/home/jupyter/.local/lib/python3.9/site-packages/keras/engine/functional.py:566: UserWarning: Input dict contained keys ['date', 'user_id'] which did not match any model input. They will be ignored by the model.\n",
      "  inputs = self._flatten_to_reference_inputs(inputs)\n",
      "/home/jupyter/.local/lib/python3.9/site-packages/keras/engine/functional.py:566: UserWarning: Input dict contained keys ['date', 'user_id'] which did not match any model input. They will be ignored by the model.\n",
      "  inputs = self._flatten_to_reference_inputs(inputs)\n",
      "/home/jupyter/.local/lib/python3.9/site-packages/keras/engine/functional.py:566: UserWarning: Input dict contained keys ['category3', 'category2', 'date', 'user_id', 'brand', 'priceCluster', 'category1', 'category3_weight', 'category2_weight', 'brand_weight', 'priceCluster_weight', 'category1_weight'] which did not match any model input. They will be ignored by the model.\n",
      "  inputs = self._flatten_to_reference_inputs(inputs)\n",
      "/home/jupyter/.local/lib/python3.9/site-packages/keras/engine/functional.py:566: UserWarning: Input dict contained keys ['category3', 'category2', 'date', 'user_id', 'brand', 'product_id', 'priceCluster', 'category3_weight', 'category2_weight', 'brand_weight', 'product_id_weight', 'priceCluster_weight'] which did not match any model input. They will be ignored by the model.\n",
      "  inputs = self._flatten_to_reference_inputs(inputs)\n",
      "/home/jupyter/.local/lib/python3.9/site-packages/keras/engine/functional.py:566: UserWarning: Input dict contained keys ['category3', 'date', 'user_id', 'brand', 'product_id', 'priceCluster', 'category1', 'category3_weight', 'brand_weight', 'product_id_weight', 'priceCluster_weight', 'category1_weight'] which did not match any model input. They will be ignored by the model.\n",
      "  inputs = self._flatten_to_reference_inputs(inputs)\n",
      "/home/jupyter/.local/lib/python3.9/site-packages/keras/engine/functional.py:566: UserWarning: Input dict contained keys ['category2', 'date', 'user_id', 'brand', 'product_id', 'priceCluster', 'category1', 'category2_weight', 'brand_weight', 'product_id_weight', 'priceCluster_weight', 'category1_weight'] which did not match any model input. They will be ignored by the model.\n",
      "  inputs = self._flatten_to_reference_inputs(inputs)\n",
      "/home/jupyter/.local/lib/python3.9/site-packages/keras/engine/functional.py:566: UserWarning: Input dict contained keys ['category3', 'category2', 'date', 'user_id', 'product_id', 'priceCluster', 'category1', 'category3_weight', 'category2_weight', 'product_id_weight', 'priceCluster_weight', 'category1_weight'] which did not match any model input. They will be ignored by the model.\n",
      "  inputs = self._flatten_to_reference_inputs(inputs)\n",
      "/home/jupyter/.local/lib/python3.9/site-packages/keras/engine/functional.py:566: UserWarning: Input dict contained keys ['category3', 'category2', 'date', 'user_id', 'brand', 'product_id', 'category1', 'category3_weight', 'category2_weight', 'brand_weight', 'product_id_weight', 'category1_weight'] which did not match any model input. They will be ignored by the model.\n",
      "  inputs = self._flatten_to_reference_inputs(inputs)\n",
      "/home/jupyter/.local/lib/python3.9/site-packages/keras/engine/functional.py:566: UserWarning: Input dict contained keys ['date', 'user_id'] which did not match any model input. They will be ignored by the model.\n",
      "  inputs = self._flatten_to_reference_inputs(inputs)\n",
      "/home/jupyter/.local/lib/python3.9/site-packages/keras/engine/functional.py:566: UserWarning: Input dict contained keys ['date', 'user_id'] which did not match any model input. They will be ignored by the model.\n",
      "  inputs = self._flatten_to_reference_inputs(inputs)\n",
      "/home/jupyter/.local/lib/python3.9/site-packages/keras/engine/functional.py:566: UserWarning: Input dict contained keys ['category3', 'category2', 'date', 'user_id', 'brand', 'priceCluster', 'category1', 'category3_weight', 'category2_weight', 'brand_weight', 'priceCluster_weight', 'category1_weight'] which did not match any model input. They will be ignored by the model.\n",
      "  inputs = self._flatten_to_reference_inputs(inputs)\n",
      "/home/jupyter/.local/lib/python3.9/site-packages/keras/engine/functional.py:566: UserWarning: Input dict contained keys ['category3', 'category2', 'date', 'user_id', 'brand', 'product_id', 'priceCluster', 'category3_weight', 'category2_weight', 'brand_weight', 'product_id_weight', 'priceCluster_weight'] which did not match any model input. They will be ignored by the model.\n",
      "  inputs = self._flatten_to_reference_inputs(inputs)\n",
      "/home/jupyter/.local/lib/python3.9/site-packages/keras/engine/functional.py:566: UserWarning: Input dict contained keys ['category3', 'date', 'user_id', 'brand', 'product_id', 'priceCluster', 'category1', 'category3_weight', 'brand_weight', 'product_id_weight', 'priceCluster_weight', 'category1_weight'] which did not match any model input. They will be ignored by the model.\n",
      "  inputs = self._flatten_to_reference_inputs(inputs)\n",
      "/home/jupyter/.local/lib/python3.9/site-packages/keras/engine/functional.py:566: UserWarning: Input dict contained keys ['category2', 'date', 'user_id', 'brand', 'product_id', 'priceCluster', 'category1', 'category2_weight', 'brand_weight', 'product_id_weight', 'priceCluster_weight', 'category1_weight'] which did not match any model input. They will be ignored by the model.\n",
      "  inputs = self._flatten_to_reference_inputs(inputs)\n",
      "/home/jupyter/.local/lib/python3.9/site-packages/keras/engine/functional.py:566: UserWarning: Input dict contained keys ['category3', 'category2', 'date', 'user_id', 'product_id', 'priceCluster', 'category1', 'category3_weight', 'category2_weight', 'product_id_weight', 'priceCluster_weight', 'category1_weight'] which did not match any model input. They will be ignored by the model.\n",
      "  inputs = self._flatten_to_reference_inputs(inputs)\n",
      "/home/jupyter/.local/lib/python3.9/site-packages/keras/engine/functional.py:566: UserWarning: Input dict contained keys ['category3', 'category2', 'date', 'user_id', 'brand', 'product_id', 'category1', 'category3_weight', 'category2_weight', 'brand_weight', 'product_id_weight', 'category1_weight'] which did not match any model input. They will be ignored by the model.\n",
      "  inputs = self._flatten_to_reference_inputs(inputs)\n",
      "/home/jupyter/.local/lib/python3.9/site-packages/keras/engine/functional.py:566: UserWarning: Input dict contained keys ['date', 'user_id'] which did not match any model input. They will be ignored by the model.\n",
      "  inputs = self._flatten_to_reference_inputs(inputs)\n",
      "/home/jupyter/.local/lib/python3.9/site-packages/keras/engine/functional.py:566: UserWarning: Input dict contained keys ['date', 'user_id'] which did not match any model input. They will be ignored by the model.\n",
      "  inputs = self._flatten_to_reference_inputs(inputs)\n"
     ]
    },
    {
     "name": "stdout",
     "output_type": "stream",
     "text": [
      "CPU times: user 3h 26min 34s, sys: 28min 3s, total: 3h 54min 37s\n",
      "Wall time: 57min 25s\n"
     ]
    }
   ],
   "source": [
    "%%time\n",
    "from collections import defaultdict\n",
    "from utils import evaluate_model\n",
    "\n",
    "aucs = defaultdict(dict)\n",
    "for task_offer_feature in TASKS:\n",
    "    kw = {'single_task_feature': task_offer_feature, 'test_datasets': test_datasets,\n",
    "          'number_of_negatives': NUMBER_OF_NEGATIVES, 'inverse_lookups': inverse_lookups}\n",
    "    for model_name in TASKS:\n",
    "        aucs[task_offer_feature][f'MONO:{model_name}'] = evaluate_model(mono_feature_models[model_name], **kw)\n",
    "    aucs[task_offer_feature]['group_by augmentations'] = evaluate_model(eval_model, **kw)\n",
    "    aucs[task_offer_feature]['without augmentations'] = evaluate_model(model_wo_augmentations, **kw)"
   ]
  },
  {
   "cell_type": "code",
   "execution_count": 24,
   "id": "4573fc84-573a-4bc8-9e5c-bcf4b1093819",
   "metadata": {},
   "outputs": [],
   "source": [
    "from utils import save_metrics\n",
    "save_metrics(aucs, DATASET, 'group_by_augmentations')"
   ]
  },
  {
   "cell_type": "markdown",
   "id": "c3903ce1-d55f-4de9-93c2-ee14c3a8cb00",
   "metadata": {},
   "source": [
    "## Aggregating results"
   ]
  },
  {
   "cell_type": "markdown",
   "id": "8a0e64ef-3f12-4edd-8061-816ee7bd93ea",
   "metadata": {},
   "source": [
    "### Popular offers"
   ]
  },
  {
   "cell_type": "markdown",
   "id": "39493900-7be1-4370-8f49-f85f4da6e058",
   "metadata": {},
   "source": [
    "First we look at well sampled values of each offer, with number of occurrences in test dataset higher than 200:"
   ]
  },
  {
   "cell_type": "code",
   "execution_count": 25,
   "id": "f862e7c9-c599-408c-8572-d2f924a36806",
   "metadata": {},
   "outputs": [],
   "source": [
    "import pandas as pd\n",
    "from utils import wAUC\n",
    "\n",
    "results = pd.DataFrame()\n",
    "for task_name in aucs:\n",
    "    for model_name in aucs[task_name]:\n",
    "        w_auc = wAUC(aucs[task_name][model_name], cutoff_low=200)\n",
    "        results = pd.concat([results,\n",
    "                             pd.Series({'wAUC': w_auc, 'offers': task_name, 'model': model_name}).to_frame().T],\n",
    "                            ignore_index=True)"
   ]
  },
  {
   "cell_type": "code",
   "execution_count": 36,
   "id": "ec9ac730-c8f3-4a95-8102-a2551742f98f",
   "metadata": {},
   "outputs": [
    {
     "data": {
      "text/html": [
       "<style type=\"text/css\">\n",
       "#T_a2f08_row0_col0 {\n",
       "  background-color: #b70d28;\n",
       "  color: #f1f1f1;\n",
       "}\n",
       "#T_a2f08_row0_col1, #T_a2f08_row0_col4 {\n",
       "  background-color: #c0282f;\n",
       "  color: #f1f1f1;\n",
       "}\n",
       "#T_a2f08_row0_col2, #T_a2f08_row2_col0, #T_a2f08_row3_col1, #T_a2f08_row5_col3, #T_a2f08_row6_col4, #T_a2f08_row7_col5 {\n",
       "  background-color: #b40426;\n",
       "  color: #f1f1f1;\n",
       "}\n",
       "#T_a2f08_row0_col3 {\n",
       "  background-color: #bb1b2c;\n",
       "  color: #f1f1f1;\n",
       "}\n",
       "#T_a2f08_row0_col5, #T_a2f08_row5_col4 {\n",
       "  background-color: #cd423b;\n",
       "  color: #f1f1f1;\n",
       "}\n",
       "#T_a2f08_row1_col0 {\n",
       "  background-color: #ba162b;\n",
       "  color: #f1f1f1;\n",
       "}\n",
       "#T_a2f08_row1_col1, #T_a2f08_row2_col1 {\n",
       "  background-color: #bad0f8;\n",
       "  color: #000000;\n",
       "}\n",
       "#T_a2f08_row1_col2 {\n",
       "  background-color: #f4c5ad;\n",
       "  color: #000000;\n",
       "}\n",
       "#T_a2f08_row1_col3 {\n",
       "  background-color: #abc8fd;\n",
       "  color: #000000;\n",
       "}\n",
       "#T_a2f08_row1_col4 {\n",
       "  background-color: #81a4fb;\n",
       "  color: #f1f1f1;\n",
       "}\n",
       "#T_a2f08_row1_col5 {\n",
       "  background-color: #b1cbfc;\n",
       "  color: #000000;\n",
       "}\n",
       "#T_a2f08_row2_col2 {\n",
       "  background-color: #f3c7b1;\n",
       "  color: #000000;\n",
       "}\n",
       "#T_a2f08_row2_col3 {\n",
       "  background-color: #b7cff9;\n",
       "  color: #000000;\n",
       "}\n",
       "#T_a2f08_row2_col4 {\n",
       "  background-color: #9bbcff;\n",
       "  color: #000000;\n",
       "}\n",
       "#T_a2f08_row2_col5 {\n",
       "  background-color: #c5d6f2;\n",
       "  color: #000000;\n",
       "}\n",
       "#T_a2f08_row3_col0, #T_a2f08_row5_col5, #T_a2f08_row7_col1, #T_a2f08_row7_col2, #T_a2f08_row7_col3, #T_a2f08_row7_col4 {\n",
       "  background-color: #3b4cc0;\n",
       "  color: #f1f1f1;\n",
       "}\n",
       "#T_a2f08_row3_col2 {\n",
       "  background-color: #6b8df0;\n",
       "  color: #f1f1f1;\n",
       "}\n",
       "#T_a2f08_row3_col3 {\n",
       "  background-color: #eb7d62;\n",
       "  color: #f1f1f1;\n",
       "}\n",
       "#T_a2f08_row3_col4 {\n",
       "  background-color: #f4987a;\n",
       "  color: #000000;\n",
       "}\n",
       "#T_a2f08_row3_col5 {\n",
       "  background-color: #445acc;\n",
       "  color: #f1f1f1;\n",
       "}\n",
       "#T_a2f08_row4_col0 {\n",
       "  background-color: #f0cdbb;\n",
       "  color: #000000;\n",
       "}\n",
       "#T_a2f08_row4_col1 {\n",
       "  background-color: #adc9fd;\n",
       "  color: #000000;\n",
       "}\n",
       "#T_a2f08_row4_col2 {\n",
       "  background-color: #b8122a;\n",
       "  color: #f1f1f1;\n",
       "}\n",
       "#T_a2f08_row4_col3 {\n",
       "  background-color: #aec9fc;\n",
       "  color: #000000;\n",
       "}\n",
       "#T_a2f08_row4_col4 {\n",
       "  background-color: #92b4fe;\n",
       "  color: #000000;\n",
       "}\n",
       "#T_a2f08_row4_col5 {\n",
       "  background-color: #799cf8;\n",
       "  color: #f1f1f1;\n",
       "}\n",
       "#T_a2f08_row5_col0, #T_a2f08_row6_col5 {\n",
       "  background-color: #4b64d5;\n",
       "  color: #f1f1f1;\n",
       "}\n",
       "#T_a2f08_row5_col1 {\n",
       "  background-color: #ee8669;\n",
       "  color: #f1f1f1;\n",
       "}\n",
       "#T_a2f08_row5_col2 {\n",
       "  background-color: #88abfd;\n",
       "  color: #000000;\n",
       "}\n",
       "#T_a2f08_row6_col0 {\n",
       "  background-color: #3d50c3;\n",
       "  color: #f1f1f1;\n",
       "}\n",
       "#T_a2f08_row6_col1 {\n",
       "  background-color: #ef886b;\n",
       "  color: #f1f1f1;\n",
       "}\n",
       "#T_a2f08_row6_col2 {\n",
       "  background-color: #6e90f2;\n",
       "  color: #f1f1f1;\n",
       "}\n",
       "#T_a2f08_row6_col3 {\n",
       "  background-color: #d0473d;\n",
       "  color: #f1f1f1;\n",
       "}\n",
       "#T_a2f08_row7_col0 {\n",
       "  background-color: #f2cbb7;\n",
       "  color: #000000;\n",
       "}\n",
       "</style>\n",
       "<table id=\"T_a2f08_\">\n",
       "  <thead>\n",
       "    <tr>\n",
       "      <th class=\"index_name level0\" >offers</th>\n",
       "      <th class=\"col_heading level0 col0\" >product_id</th>\n",
       "      <th class=\"col_heading level0 col1\" >category3</th>\n",
       "      <th class=\"col_heading level0 col2\" >brand</th>\n",
       "      <th class=\"col_heading level0 col3\" >category2</th>\n",
       "      <th class=\"col_heading level0 col4\" >category1</th>\n",
       "      <th class=\"col_heading level0 col5\" >price</th>\n",
       "    </tr>\n",
       "    <tr>\n",
       "      <th class=\"index_name level0\" >model</th>\n",
       "      <th class=\"blank col0\" >&nbsp;</th>\n",
       "      <th class=\"blank col1\" >&nbsp;</th>\n",
       "      <th class=\"blank col2\" >&nbsp;</th>\n",
       "      <th class=\"blank col3\" >&nbsp;</th>\n",
       "      <th class=\"blank col4\" >&nbsp;</th>\n",
       "      <th class=\"blank col5\" >&nbsp;</th>\n",
       "    </tr>\n",
       "  </thead>\n",
       "  <tbody>\n",
       "    <tr>\n",
       "      <th id=\"T_a2f08_level0_row0\" class=\"row_heading level0 row0\" >group_by augmentations</th>\n",
       "      <td id=\"T_a2f08_row0_col0\" class=\"data row0 col0\" >0.771</td>\n",
       "      <td id=\"T_a2f08_row0_col1\" class=\"data row0 col1\" >0.739</td>\n",
       "      <td id=\"T_a2f08_row0_col2\" class=\"data row0 col2\" >0.757</td>\n",
       "      <td id=\"T_a2f08_row0_col3\" class=\"data row0 col3\" >0.738</td>\n",
       "      <td id=\"T_a2f08_row0_col4\" class=\"data row0 col4\" >0.728</td>\n",
       "      <td id=\"T_a2f08_row0_col5\" class=\"data row0 col5\" >0.694</td>\n",
       "    </tr>\n",
       "    <tr>\n",
       "      <th id=\"T_a2f08_level0_row1\" class=\"row_heading level0 row1\" >without augmentations</th>\n",
       "      <td id=\"T_a2f08_row1_col0\" class=\"data row1 col0\" >0.770</td>\n",
       "      <td id=\"T_a2f08_row1_col1\" class=\"data row1 col1\" >0.638</td>\n",
       "      <td id=\"T_a2f08_row1_col2\" class=\"data row1 col2\" >0.711</td>\n",
       "      <td id=\"T_a2f08_row1_col3\" class=\"data row1 col3\" >0.627</td>\n",
       "      <td id=\"T_a2f08_row1_col4\" class=\"data row1 col4\" >0.595</td>\n",
       "      <td id=\"T_a2f08_row1_col5\" class=\"data row1 col5\" >0.611</td>\n",
       "    </tr>\n",
       "    <tr>\n",
       "      <th id=\"T_a2f08_level0_row2\" class=\"row_heading level0 row2\" >MONO:product_id</th>\n",
       "      <td id=\"T_a2f08_row2_col0\" class=\"data row2 col0\" >0.772</td>\n",
       "      <td id=\"T_a2f08_row2_col1\" class=\"data row2 col1\" >0.638</td>\n",
       "      <td id=\"T_a2f08_row2_col2\" class=\"data row2 col2\" >0.710</td>\n",
       "      <td id=\"T_a2f08_row2_col3\" class=\"data row2 col3\" >0.633</td>\n",
       "      <td id=\"T_a2f08_row2_col4\" class=\"data row2 col4\" >0.608</td>\n",
       "      <td id=\"T_a2f08_row2_col5\" class=\"data row2 col5\" >0.621</td>\n",
       "    </tr>\n",
       "    <tr>\n",
       "      <th id=\"T_a2f08_level0_row3\" class=\"row_heading level0 row3\" >MONO:category3</th>\n",
       "      <td id=\"T_a2f08_row3_col0\" class=\"data row3 col0\" >0.660</td>\n",
       "      <td id=\"T_a2f08_row3_col1\" class=\"data row3 col1\" >0.745</td>\n",
       "      <td id=\"T_a2f08_row3_col2\" class=\"data row3 col2\" >0.654</td>\n",
       "      <td id=\"T_a2f08_row3_col3\" class=\"data row3 col3\" >0.710</td>\n",
       "      <td id=\"T_a2f08_row3_col4\" class=\"data row3 col4\" >0.690</td>\n",
       "      <td id=\"T_a2f08_row3_col5\" class=\"data row3 col5\" >0.566</td>\n",
       "    </tr>\n",
       "    <tr>\n",
       "      <th id=\"T_a2f08_level0_row4\" class=\"row_heading level0 row4\" >MONO:brand</th>\n",
       "      <td id=\"T_a2f08_row4_col0\" class=\"data row4 col0\" >0.726</td>\n",
       "      <td id=\"T_a2f08_row4_col1\" class=\"data row4 col1\" >0.631</td>\n",
       "      <td id=\"T_a2f08_row4_col2\" class=\"data row4 col2\" >0.755</td>\n",
       "      <td id=\"T_a2f08_row4_col3\" class=\"data row4 col3\" >0.628</td>\n",
       "      <td id=\"T_a2f08_row4_col4\" class=\"data row4 col4\" >0.604</td>\n",
       "      <td id=\"T_a2f08_row4_col5\" class=\"data row4 col5\" >0.589</td>\n",
       "    </tr>\n",
       "    <tr>\n",
       "      <th id=\"T_a2f08_level0_row5\" class=\"row_heading level0 row5\" >MONO:category2</th>\n",
       "      <td id=\"T_a2f08_row5_col0\" class=\"data row5 col0\" >0.667</td>\n",
       "      <td id=\"T_a2f08_row5_col1\" class=\"data row5 col1\" >0.709</td>\n",
       "      <td id=\"T_a2f08_row5_col2\" class=\"data row5 col2\" >0.664</td>\n",
       "      <td id=\"T_a2f08_row5_col3\" class=\"data row5 col3\" >0.742</td>\n",
       "      <td id=\"T_a2f08_row5_col4\" class=\"data row5 col4\" >0.721</td>\n",
       "      <td id=\"T_a2f08_row5_col5\" class=\"data row5 col5\" >0.561</td>\n",
       "    </tr>\n",
       "    <tr>\n",
       "      <th id=\"T_a2f08_level0_row6\" class=\"row_heading level0 row6\" >MONO:category1</th>\n",
       "      <td id=\"T_a2f08_row6_col0\" class=\"data row6 col0\" >0.662</td>\n",
       "      <td id=\"T_a2f08_row6_col1\" class=\"data row6 col1\" >0.709</td>\n",
       "      <td id=\"T_a2f08_row6_col2\" class=\"data row6 col2\" >0.655</td>\n",
       "      <td id=\"T_a2f08_row6_col3\" class=\"data row6 col3\" >0.728</td>\n",
       "      <td id=\"T_a2f08_row6_col4\" class=\"data row6 col4\" >0.734</td>\n",
       "      <td id=\"T_a2f08_row6_col5\" class=\"data row6 col5\" >0.569</td>\n",
       "    </tr>\n",
       "    <tr>\n",
       "      <th id=\"T_a2f08_level0_row7\" class=\"row_heading level0 row7\" >MONO:price</th>\n",
       "      <td id=\"T_a2f08_row7_col0\" class=\"data row7 col0\" >0.727</td>\n",
       "      <td id=\"T_a2f08_row7_col1\" class=\"data row7 col1\" >0.572</td>\n",
       "      <td id=\"T_a2f08_row7_col2\" class=\"data row7 col2\" >0.635</td>\n",
       "      <td id=\"T_a2f08_row7_col3\" class=\"data row7 col3\" >0.568</td>\n",
       "      <td id=\"T_a2f08_row7_col4\" class=\"data row7 col4\" >0.557</td>\n",
       "      <td id=\"T_a2f08_row7_col5\" class=\"data row7 col5\" >0.704</td>\n",
       "    </tr>\n",
       "  </tbody>\n",
       "</table>\n"
      ],
      "text/plain": [
       "<pandas.io.formats.style.Styler at 0x7f9573dc1ee0>"
      ]
     },
     "execution_count": 36,
     "metadata": {},
     "output_type": "execute_result"
    }
   ],
   "source": [
    "pd.pivot_table(results, 'wAUC', 'model', 'offers')\\\n",
    "    .rename(columns={'priceCluster': 'price'}, index={'MONO:priceCluster': 'MONO:price'})\\\n",
    "    .iloc[[6, 7, 5, 3, 0, 2, 1, 4]][['product_id', 'category3', 'brand', 'category2', 'category1', 'price']]\\\n",
    "    .style.background_gradient(cmap='coolwarm').format(precision=3)"
   ]
  },
  {
   "cell_type": "markdown",
   "id": "eed31d1a-f1e7-4e77-af05-e7ab84fa8d0e",
   "metadata": {},
   "source": [
    "### Cold-start"
   ]
  },
  {
   "cell_type": "markdown",
   "id": "299701e8-c90e-4236-9eb7-2e342d43973c",
   "metadata": {},
   "source": [
    "Here we take a look on values with relatively small number of associated events (but not zero to have defined AUC: between 10 and 200)"
   ]
  },
  {
   "cell_type": "code",
   "execution_count": 38,
   "id": "1f45daf3-f025-46f9-a7ba-1af1d772b101",
   "metadata": {},
   "outputs": [],
   "source": [
    "results = pd.DataFrame()\n",
    "for task_name in ['product_id', 'brand', 'category3']:\n",
    "    for model_name in aucs[task_name]:\n",
    "        w_auc = wAUC(aucs[task_name][model_name], cutoff_low=10, cutoff_high=200)\n",
    "        results = pd.concat([results,\n",
    "                             pd.Series({'wAUC': w_auc, 'offers': task_name, 'model': model_name}).to_frame().T],\n",
    "                            ignore_index=True)"
   ]
  },
  {
   "cell_type": "code",
   "execution_count": 40,
   "id": "a99efa4c-05d8-4420-b37f-fb222f901a6a",
   "metadata": {},
   "outputs": [
    {
     "data": {
      "text/html": [
       "<style type=\"text/css\">\n",
       "#T_4cd69_row0_col0, #T_4cd69_row0_col1, #T_4cd69_row0_col2 {\n",
       "  background-color: #b40426;\n",
       "  color: #f1f1f1;\n",
       "}\n",
       "#T_4cd69_row1_col0 {\n",
       "  background-color: #e36b54;\n",
       "  color: #f1f1f1;\n",
       "}\n",
       "#T_4cd69_row1_col1 {\n",
       "  background-color: #e7d7ce;\n",
       "  color: #000000;\n",
       "}\n",
       "#T_4cd69_row1_col2 {\n",
       "  background-color: #d55042;\n",
       "  color: #f1f1f1;\n",
       "}\n",
       "#T_4cd69_row2_col0 {\n",
       "  background-color: #f18d6f;\n",
       "  color: #f1f1f1;\n",
       "}\n",
       "#T_4cd69_row2_col1 {\n",
       "  background-color: #4c66d6;\n",
       "  color: #f1f1f1;\n",
       "}\n",
       "#T_4cd69_row2_col2 {\n",
       "  background-color: #f3c7b1;\n",
       "  color: #000000;\n",
       "}\n",
       "#T_4cd69_row3_col0, #T_4cd69_row3_col2, #T_4cd69_row4_col1 {\n",
       "  background-color: #3b4cc0;\n",
       "  color: #f1f1f1;\n",
       "}\n",
       "#T_4cd69_row3_col1 {\n",
       "  background-color: #ec8165;\n",
       "  color: #f1f1f1;\n",
       "}\n",
       "#T_4cd69_row4_col0 {\n",
       "  background-color: #d5dbe5;\n",
       "  color: #000000;\n",
       "}\n",
       "#T_4cd69_row4_col2 {\n",
       "  background-color: #da5a49;\n",
       "  color: #f1f1f1;\n",
       "}\n",
       "</style>\n",
       "<table id=\"T_4cd69_\">\n",
       "  <thead>\n",
       "    <tr>\n",
       "      <th class=\"index_name level0\" >offers</th>\n",
       "      <th class=\"col_heading level0 col0\" >product_id</th>\n",
       "      <th class=\"col_heading level0 col1\" >category3</th>\n",
       "      <th class=\"col_heading level0 col2\" >brand</th>\n",
       "    </tr>\n",
       "    <tr>\n",
       "      <th class=\"index_name level0\" >model</th>\n",
       "      <th class=\"blank col0\" >&nbsp;</th>\n",
       "      <th class=\"blank col1\" >&nbsp;</th>\n",
       "      <th class=\"blank col2\" >&nbsp;</th>\n",
       "    </tr>\n",
       "  </thead>\n",
       "  <tbody>\n",
       "    <tr>\n",
       "      <th id=\"T_4cd69_level0_row0\" class=\"row_heading level0 row0\" >group_by augmentations</th>\n",
       "      <td id=\"T_4cd69_row0_col0\" class=\"data row0 col0\" >0.769</td>\n",
       "      <td id=\"T_4cd69_row0_col1\" class=\"data row0 col1\" >0.772</td>\n",
       "      <td id=\"T_4cd69_row0_col2\" class=\"data row0 col2\" >0.776</td>\n",
       "    </tr>\n",
       "    <tr>\n",
       "      <th id=\"T_4cd69_level0_row1\" class=\"row_heading level0 row1\" >without augmentations</th>\n",
       "      <td id=\"T_4cd69_row1_col0\" class=\"data row1 col0\" >0.758</td>\n",
       "      <td id=\"T_4cd69_row1_col1\" class=\"data row1 col1\" >0.759</td>\n",
       "      <td id=\"T_4cd69_row1_col2\" class=\"data row1 col2\" >0.769</td>\n",
       "    </tr>\n",
       "    <tr>\n",
       "      <th id=\"T_4cd69_level0_row2\" class=\"row_heading level0 row2\" >MONO:product_id</th>\n",
       "      <td id=\"T_4cd69_row2_col0\" class=\"data row2 col0\" >0.753</td>\n",
       "      <td id=\"T_4cd69_row2_col1\" class=\"data row2 col1\" >0.746</td>\n",
       "      <td id=\"T_4cd69_row2_col2\" class=\"data row2 col2\" >0.750</td>\n",
       "    </tr>\n",
       "    <tr>\n",
       "      <th id=\"T_4cd69_level0_row3\" class=\"row_heading level0 row3\" >MONO:category3</th>\n",
       "      <td id=\"T_4cd69_row3_col0\" class=\"data row3 col0\" >0.697</td>\n",
       "      <td id=\"T_4cd69_row3_col1\" class=\"data row3 col1\" >0.767</td>\n",
       "      <td id=\"T_4cd69_row3_col2\" class=\"data row3 col2\" >0.710</td>\n",
       "    </tr>\n",
       "    <tr>\n",
       "      <th id=\"T_4cd69_level0_row4\" class=\"row_heading level0 row4\" >MONO:brand</th>\n",
       "      <td id=\"T_4cd69_row4_col0\" class=\"data row4 col0\" >0.731</td>\n",
       "      <td id=\"T_4cd69_row4_col1\" class=\"data row4 col1\" >0.744</td>\n",
       "      <td id=\"T_4cd69_row4_col2\" class=\"data row4 col2\" >0.768</td>\n",
       "    </tr>\n",
       "  </tbody>\n",
       "</table>\n"
      ],
      "text/plain": [
       "<pandas.io.formats.style.Styler at 0x7f9499e76ca0>"
      ]
     },
     "execution_count": 40,
     "metadata": {},
     "output_type": "execute_result"
    }
   ],
   "source": [
    "pd.pivot_table(results, 'wAUC', 'model', 'offers')\\\n",
    "    .rename(columns={'priceCluster': 'price'}, index={'MONO:priceCluster': 'MONO:price'})\\\n",
    "    .iloc[[6, 7, 5, 3, 0]][['product_id', 'category3', 'brand']]\\\n",
    "    .style.background_gradient(cmap='coolwarm').format(precision=3)"
   ]
  }
 ],
 "metadata": {
  "kernelspec": {
   "display_name": "Custom [moksha-tf2-cpu.2-7] (Local)",
   "language": "python",
   "name": "local-eu.gcr.io_tinyclues-experiments_tinyclues_moksha-tf2-cpu.2-7_latest__moksha"
  },
  "language_info": {
   "codemirror_mode": {
    "name": "ipython",
    "version": 3
   },
   "file_extension": ".py",
   "mimetype": "text/x-python",
   "name": "python",
   "nbconvert_exporter": "python",
   "pygments_lexer": "ipython3",
   "version": "3.9.16"
  }
 },
 "nbformat": 4,
 "nbformat_minor": 5
}
