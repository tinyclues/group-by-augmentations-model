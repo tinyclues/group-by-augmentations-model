{
 "cells": [
  {
   "cell_type": "markdown",
   "id": "edef15d4-49a3-40e3-82f1-2f1fd17c820d",
   "metadata": {},
   "source": [
    "# Training simple model and evalualing its predictions on different tasks"
   ]
  },
  {
   "cell_type": "markdown",
   "id": "9113fe5b-43bd-4872-b416-86ef0ee54a02",
   "metadata": {},
   "source": [
    "## Prepare dataset for training"
   ]
  },
  {
   "cell_type": "markdown",
   "id": "ac87ae1e-3893-4a7c-9bd7-5c84bbcc5259",
   "metadata": {},
   "source": [
    "Following the same steps as in [the training for Movielens/IMDB dataset](https://github.com/tinyclues/recsys-multi-atrribute-benchmark/blob/master/training/movielens%20simple%20model.ipynb), we first load splitted dataset generated in [notebook](https://github.com/tinyclues/recsys-multi-atrribute-benchmark/blob/master/dataset_preprocessing/rees_ecommerce.ipynb)"
   ]
  },
  {
   "cell_type": "code",
   "execution_count": 23,
   "id": "807a30be-3b5c-4ab5-9b83-877fadbc4528",
   "metadata": {},
   "outputs": [],
   "source": [
    "DATASET = 'rees_ecommerce'"
   ]
  },
  {
   "cell_type": "code",
   "execution_count": 2,
   "id": "ffcb1cef-b1d7-4f13-8c07-68b7cfdc8bb8",
   "metadata": {},
   "outputs": [
    {
     "name": "stdout",
     "output_type": "stream",
     "text": [
      "WARNING:tensorflow:From /home/jupyter/recsys-multi-atrribute-benchmark/training/utils.py:26: load (from tensorflow.python.data.experimental.ops.io) is deprecated and will be removed in a future version.\n",
      "Instructions for updating:\n",
      "Use `tf.data.Dataset.load(...)` instead.\n"
     ]
    }
   ],
   "source": [
    "from utils import load_dataset\n",
    "\n",
    "datasets = {}\n",
    "for split_name in ['train', 'val', 'test']:\n",
    "    datasets[split_name] = load_dataset(DATASET, split_name)"
   ]
  },
  {
   "cell_type": "markdown",
   "id": "529c9be2-9c71-4bfc-ba64-931c0b4294ec",
   "metadata": {},
   "source": [
    "We can parse features' names, they were chosen to easily distinguish between offer features and user features (aggregated history up to chosen date)."
   ]
  },
  {
   "cell_type": "code",
   "execution_count": 3,
   "id": "4bacd6ec-088e-43f7-8741-f817389aeaf9",
   "metadata": {},
   "outputs": [],
   "source": [
    "from utils import AGG_PREFIX\n",
    "\n",
    "all_columns = list(datasets['train'].element_spec.keys())\n",
    "technical_columns = ['user_id', 'date']\n",
    "user_features = list(filter(lambda x: x.startswith(AGG_PREFIX), all_columns))\n",
    "offer_features = list(filter(lambda x: x not in user_features + technical_columns, all_columns))"
   ]
  },
  {
   "cell_type": "code",
   "execution_count": 4,
   "id": "e749c7c8-ccce-4996-9dbb-ddd4b30535f3",
   "metadata": {},
   "outputs": [
    {
     "data": {
      "text/plain": [
       "['aggregated_cart_category3',\n",
       " 'aggregated_cart_priceCluster',\n",
       " 'aggregated_purchase_category3',\n",
       " 'aggregated_cart_category1',\n",
       " 'aggregated_purchase_category1',\n",
       " 'aggregated_cart_brand',\n",
       " 'aggregated_cart_product_id',\n",
       " 'aggregated_purchase_category2',\n",
       " 'aggregated_purchase_brand',\n",
       " 'aggregated_purchase_product_id',\n",
       " 'aggregated_purchase_priceCluster',\n",
       " 'aggregated_cart_category2']"
      ]
     },
     "execution_count": 4,
     "metadata": {},
     "output_type": "execute_result"
    }
   ],
   "source": [
    "user_features"
   ]
  },
  {
   "cell_type": "code",
   "execution_count": 5,
   "id": "8fc16225-1bf0-42cd-96cc-dde804d0f8cf",
   "metadata": {},
   "outputs": [
    {
     "data": {
      "text/plain": [
       "['category3', 'category2', 'brand', 'priceCluster', 'product_id', 'category1']"
      ]
     },
     "execution_count": 5,
     "metadata": {},
     "output_type": "execute_result"
    }
   ],
   "source": [
    "offer_features"
   ]
  },
  {
   "cell_type": "markdown",
   "id": "9cb38696-3ad7-4edc-9331-663f031c11a9",
   "metadata": {},
   "source": [
    "### Rebatching datasets"
   ]
  },
  {
   "cell_type": "markdown",
   "id": "993d1d8c-60a7-4e91-8507-a4d63aafff4e",
   "metadata": {},
   "source": [
    "Splitting dataset into smaller batches in the same way as described in [the training for Movielens/IMDB dataset](https://github.com/tinyclues/recsys-multi-atrribute-benchmark/blob/master/training/movielens%20simple%20model.ipynb)"
   ]
  },
  {
   "cell_type": "code",
   "execution_count": 6,
   "id": "ea02c22b-3128-4312-ac7e-eba7ba312b41",
   "metadata": {},
   "outputs": [
    {
     "name": "stdout",
     "output_type": "stream",
     "text": [
      "WARNING:tensorflow:From /usr/local/lib/python3.9/site-packages/tensorflow/python/autograph/pyct/static_analysis/liveness.py:83: Analyzer.lamba_check (from tensorflow.python.autograph.pyct.static_analysis.liveness) is deprecated and will be removed after 2023-09-23.\n",
      "Instructions for updating:\n",
      "Lambda fuctions will be no more assumed to be used in the statement where they are used, or at least in the same block. https://github.com/tensorflow/tensorflow/issues/56089\n",
      "CPU times: user 39.3 s, sys: 1.43 s, total: 40.8 s\n",
      "Wall time: 23.6 s\n"
     ]
    }
   ],
   "source": [
    "%%time\n",
    "\n",
    "from functools import partial\n",
    "from uuid import uuid4\n",
    "\n",
    "from utils import rebatch_by_events, add_equal_weights\n",
    "\n",
    "datasets['train'] = rebatch_by_events(datasets['train'], batch_size=5040, date_column='date', nb_events_by_user_by_day=8)\n",
    "for key in ['val', 'test']:\n",
    "    datasets[key] = rebatch_by_events(datasets[key], batch_size=5040, date_column='date', nb_events_by_user_by_day=8,\n",
    "                                      seed=1729).cache(f'/tmp/{uuid4()}.tf')\n",
    "\n",
    "for key in datasets:\n",
    "    datasets[key] = datasets[key].map(partial(add_equal_weights, features=offer_features))"
   ]
  },
  {
   "cell_type": "markdown",
   "id": "e6267056-b152-448e-a905-515cf6780d4f",
   "metadata": {},
   "source": [
    "## Define simple model"
   ]
  },
  {
   "cell_type": "code",
   "execution_count": 7,
   "id": "2d690110-f133-4702-8533-8eb10e41b686",
   "metadata": {},
   "outputs": [],
   "source": [
    "from utils import load_inverse_lookups\n",
    "inverse_lookups = load_inverse_lookups(DATASET)"
   ]
  },
  {
   "cell_type": "code",
   "execution_count": 8,
   "id": "488d715b-2447-4235-93ee-4297dc5954a9",
   "metadata": {},
   "outputs": [],
   "source": [
    "import re\n",
    "\n",
    "vocabulary_sizes = {}\n",
    "\n",
    "for feature in offer_features:\n",
    "    vocabulary_sizes[feature] = inverse_lookups[feature].vocabulary_size()\n",
    "\n",
    "for feature in user_features:\n",
    "    for key in inverse_lookups:\n",
    "        pattern = re.compile(r\"{}(\\w+)_{}\".format(AGG_PREFIX, key))\n",
    "        if pattern.match(feature):\n",
    "            vocabulary_sizes[feature] = vocabulary_sizes[key]"
   ]
  },
  {
   "cell_type": "markdown",
   "id": "31a273a2-67d6-4bae-9c3b-282b64346329",
   "metadata": {},
   "source": [
    "### Model architecture"
   ]
  },
  {
   "cell_type": "code",
   "execution_count": 9,
   "id": "6daef22a-1292-45d2-959f-02289d7450cf",
   "metadata": {},
   "outputs": [],
   "source": [
    "import tensorflow as tf"
   ]
  },
  {
   "cell_type": "markdown",
   "id": "692a7645-1ab1-441b-bb20-b4d2b0d42e20",
   "metadata": {},
   "source": [
    "<img src=\"resources/two_towers_model.png\" alt=\"two tower model\" width=\"800\" />"
   ]
  },
  {
   "cell_type": "markdown",
   "id": "f3f2bac6-852a-4c0a-ba11-e8984ae67ac9",
   "metadata": {},
   "source": [
    "### Model parameters"
   ]
  },
  {
   "cell_type": "markdown",
   "id": "028e0008-74ee-4c60-810c-39f4baa6c710",
   "metadata": {},
   "source": [
    "To choose model's parameters we did some manual tuning using validation set to maximize train and validation AUC while keeping mismatch between them small."
   ]
  },
  {
   "cell_type": "code",
   "execution_count": 10,
   "id": "f01a2a62-06e6-4758-94a5-5ba3ec5d4452",
   "metadata": {},
   "outputs": [],
   "source": [
    "# model parameters\n",
    "EMBEDDING_DIM = 100\n",
    "L1_COEFF = 4e-7\n",
    "DROPOUT = 0.1\n",
    "\n",
    "\n",
    "def REGULARIZER():\n",
    "    return {'class_name': 'L1L2', 'config': {'l1': L1_COEFF, 'l2': 0.}}\n",
    "\n",
    "def USER_TOWER():\n",
    "    return tf.keras.Sequential([\n",
    "        tf.keras.layers.BatchNormalization(),\n",
    "        tf.keras.layers.Dense(100,\n",
    "                              kernel_regularizer=REGULARIZER(),\n",
    "                              bias_regularizer=REGULARIZER()),\n",
    "        tf.keras.layers.Dropout(DROPOUT),\n",
    "        tf.keras.layers.Activation('tanh'),\n",
    "        tf.keras.layers.Dense(50,\n",
    "                              kernel_regularizer=REGULARIZER(),\n",
    "                              bias_regularizer=REGULARIZER()),\n",
    "        tf.keras.layers.Dropout(DROPOUT),\n",
    "        tf.keras.layers.Activation('tanh'),\n",
    "    ], name='user_tower')\n",
    "\n",
    "def OFFER_TOWER():\n",
    "    return tf.keras.Sequential([\n",
    "        tf.keras.layers.BatchNormalization(),\n",
    "        tf.keras.layers.Dense(100,\n",
    "                              kernel_regularizer=REGULARIZER(),\n",
    "                              bias_regularizer=REGULARIZER()),\n",
    "        tf.keras.layers.Dropout(DROPOUT),\n",
    "        tf.keras.layers.Activation('tanh'),\n",
    "        tf.keras.layers.Dense(50,\n",
    "                              kernel_regularizer=REGULARIZER(),\n",
    "                              bias_regularizer=REGULARIZER()),\n",
    "        tf.keras.layers.Dropout(DROPOUT),\n",
    "        tf.keras.layers.Activation('tanh'),\n",
    "    ], name='offer_tower')\n",
    "\n",
    "EPOCHS = 10\n",
    "\n",
    "NUMBER_OF_NEGATIVES = 4\n",
    "LOSS = tf.keras.losses.BinaryCrossentropy(from_logits=True)\n",
    "AUC_METRIC = tf.keras.metrics.AUC(from_logits=True)\n",
    "\n",
    "import tensorflow_addons as tfa\n",
    "OPTIMIZER = tfa.optimizers.AdamW(weight_decay=4e-8, learning_rate=0.0009)"
   ]
  },
  {
   "cell_type": "code",
   "execution_count": 11,
   "id": "07957c19-2b1b-457b-b17d-c9d21e37316f",
   "metadata": {},
   "outputs": [],
   "source": [
    "from layers import get_input_layer, WeightedEmbeddings\n",
    "from utils import WEIGHT_SUFFIX\n",
    "\n",
    "embeddings, inputs = {}, {}\n",
    "for feature in user_features + offer_features:\n",
    "    if feature in offer_features:\n",
    "        # for offer features we need weights:\n",
    "        # with dummy weights during training, and the ones used for a feature's averaging at inference time\n",
    "        inputs[f'{feature}{WEIGHT_SUFFIX}'] = get_input_layer(f'{feature}{WEIGHT_SUFFIX}', tf.float32)\n",
    "    inputs[feature] = get_input_layer(feature)\n",
    "    # here we use input feature modality from `vocabulary_sizes` to know embeddings matrix dimensions\n",
    "    emb_layer = WeightedEmbeddings(vocabulary_sizes[feature],\n",
    "                                   EMBEDDING_DIM, name=f'{feature}_embedding',\n",
    "                                   embeddings_regularizer=REGULARIZER())\n",
    "    embeddings[feature] = emb_layer(inputs[feature], inputs.get(f'{feature}{WEIGHT_SUFFIX}'))"
   ]
  },
  {
   "cell_type": "code",
   "execution_count": 12,
   "id": "69ab9aa4-9e45-4cbb-a659-7d6688546d6c",
   "metadata": {},
   "outputs": [],
   "source": [
    "embedded_user_features = [embeddings[feature] for feature in user_features]\n",
    "embedded_offer_features = [embeddings[feature] for feature in offer_features]\n",
    "user_tower = USER_TOWER()(tf.keras.layers.Concatenate(name='concat_user')(embedded_user_features))\n",
    "offer_tower = OFFER_TOWER()(tf.keras.layers.Concatenate(name='concat_offer')(embedded_offer_features))"
   ]
  },
  {
   "cell_type": "code",
   "execution_count": 13,
   "id": "c5cee96b-5095-4635-863c-bb6be416a8d5",
   "metadata": {},
   "outputs": [],
   "source": [
    "from layers import DotWithNegatives\n",
    "\n",
    "# we don't apply sigmoid on the output and will have from_logits=True in both loss and metrics\n",
    "output = DotWithNegatives(NUMBER_OF_NEGATIVES, name='prediction')([user_tower, offer_tower],\n",
    "                                                                  generate_negatives=True)"
   ]
  },
  {
   "cell_type": "code",
   "execution_count": 14,
   "id": "53c2d19a-acd9-4fd8-9bcf-a9865f65bace",
   "metadata": {},
   "outputs": [],
   "source": [
    "from utils import BroadcastLoss, BroadcastMetric\n",
    "\n",
    "model = tf.keras.Model(inputs, output, name='two_tower_model')\n",
    "model.compile(optimizer=OPTIMIZER,\n",
    "              loss=BroadcastLoss(LOSS, NUMBER_OF_NEGATIVES),\n",
    "              metrics=[BroadcastMetric(AUC_METRIC, NUMBER_OF_NEGATIVES)])"
   ]
  },
  {
   "cell_type": "markdown",
   "id": "237702cb-fa87-45dc-8966-020cf9bf2515",
   "metadata": {},
   "source": [
    "### Training"
   ]
  },
  {
   "cell_type": "code",
   "execution_count": 15,
   "id": "f3876f19-e017-405b-b6e0-be58b7d83cfa",
   "metadata": {},
   "outputs": [
    {
     "name": "stdout",
     "output_type": "stream",
     "text": [
      "Epoch 1/10\n"
     ]
    },
    {
     "name": "stderr",
     "output_type": "stream",
     "text": [
      "/usr/local/lib/python3.9/site-packages/keras/engine/functional.py:638: UserWarning: Input dict contained keys ['user_id', 'date'] which did not match any model input. They will be ignored by the model.\n",
      "  inputs = self._flatten_to_reference_inputs(inputs)\n"
     ]
    },
    {
     "name": "stdout",
     "output_type": "stream",
     "text": [
      "679/679 [==============================] - 223s 247ms/step - loss: 0.5019 - auc: 0.7050 - val_loss: 0.4584 - val_auc: 0.7527\n",
      "Epoch 2/10\n",
      "679/679 [==============================] - 139s 203ms/step - loss: 0.4470 - auc: 0.7437 - val_loss: 0.4339 - val_auc: 0.7590\n",
      "Epoch 3/10\n",
      "679/679 [==============================] - 133s 195ms/step - loss: 0.4392 - auc: 0.7504 - val_loss: 0.4308 - val_auc: 0.7606\n",
      "Epoch 4/10\n",
      "679/679 [==============================] - 144s 211ms/step - loss: 0.4366 - auc: 0.7533 - val_loss: 0.4301 - val_auc: 0.7619\n",
      "Epoch 5/10\n",
      "679/679 [==============================] - 143s 209ms/step - loss: 0.4353 - auc: 0.7553 - val_loss: 0.4300 - val_auc: 0.7622\n",
      "Epoch 6/10\n",
      "679/679 [==============================] - 130s 191ms/step - loss: 0.4346 - auc: 0.7564 - val_loss: 0.4303 - val_auc: 0.7618\n",
      "Epoch 7/10\n",
      "679/679 [==============================] - 104s 152ms/step - loss: 0.4337 - auc: 0.7578 - val_loss: 0.4302 - val_auc: 0.7617\n",
      "Epoch 8/10\n",
      "679/679 [==============================] - 104s 153ms/step - loss: 0.4328 - auc: 0.7593 - val_loss: 0.4299 - val_auc: 0.7621\n",
      "Epoch 9/10\n",
      "679/679 [==============================] - 109s 160ms/step - loss: 0.4320 - auc: 0.7605 - val_loss: 0.4297 - val_auc: 0.7624\n",
      "Epoch 10/10\n",
      "679/679 [==============================] - 110s 161ms/step - loss: 0.4310 - auc: 0.7619 - val_loss: 0.4297 - val_auc: 0.7623\n"
     ]
    },
    {
     "data": {
      "text/plain": [
       "<keras.callbacks.History at 0x7fdd6031d610>"
      ]
     },
     "execution_count": 15,
     "metadata": {},
     "output_type": "execute_result"
    }
   ],
   "source": [
    "model.fit(datasets['train'], epochs=EPOCHS, validation_data=datasets['val'])"
   ]
  },
  {
   "cell_type": "markdown",
   "id": "b7595399-bced-44ae-bbf6-05f2534141fd",
   "metadata": {},
   "source": [
    "## Single task models benchmark"
   ]
  },
  {
   "cell_type": "markdown",
   "id": "910110b3-f9b1-4663-80b9-d303ebc97359",
   "metadata": {},
   "source": [
    "As described in (TODO link to article) we can consider predictions on one chosen offer column as a single task and the whole setup as a multi-task problem. Let's now evaluate performance of a common model on a subset of tasks. We will compare its results against single task models sharing the same architecture, but using only one offer feature at time."
   ]
  },
  {
   "cell_type": "code",
   "execution_count": 16,
   "id": "6669fc5c-fa01-4e50-95e9-c4bbd66eb10b",
   "metadata": {},
   "outputs": [],
   "source": [
    "# offer columns we want to evaluate, specific to dataset we test\n",
    "TASKS = ['product_id', 'category1', 'category2', 'category3', 'brand', 'priceCluster']"
   ]
  },
  {
   "cell_type": "markdown",
   "id": "e05482dc-6ce3-47f0-8c5f-d9d25a0ecb3c",
   "metadata": {},
   "source": [
    "For simplicity of further code, let's wrap whole model definition into a function:"
   ]
  },
  {
   "cell_type": "code",
   "execution_count": 17,
   "id": "9a45e96a-b5fe-4ad2-a20b-a3aad3773571",
   "metadata": {},
   "outputs": [],
   "source": [
    "def two_tower_model(offer_features, name='two_tower_model'):\n",
    "    # user_features, vocabulary_sizes, EMBEDDING_DIM, REGULARIZER, USER_TOWER, OFFER_TOWER,\n",
    "    # OPTIMIZER, LOSS, NUMBER_OF_NEGATIVES\n",
    "    # come from global scope, but can be passed as params instead\n",
    "    embeddings, inputs = {}, {}\n",
    "    for feature in user_features + offer_features:\n",
    "        if feature in offer_features:\n",
    "            # for offer features we need weights:\n",
    "            # with dummy weights during training, and the ones used for a feature's averaging at inference time\n",
    "            inputs[f'{feature}{WEIGHT_SUFFIX}'] = get_input_layer(f'{feature}{WEIGHT_SUFFIX}', tf.float32)\n",
    "        inputs[feature] = get_input_layer(feature)\n",
    "        # here we use input feature modality from `vocabulary_sizes` to know embeddings matrix dimensions\n",
    "        emb_layer = WeightedEmbeddings(vocabulary_sizes[feature],\n",
    "                                       EMBEDDING_DIM, name=f'{feature}_embedding',\n",
    "                                       embeddings_regularizer=REGULARIZER())\n",
    "        embeddings[feature] = emb_layer(inputs[feature], inputs.get(f'{feature}{WEIGHT_SUFFIX}'))\n",
    "    \n",
    "    embedded_user_features = [embeddings[feature] for feature in user_features]\n",
    "    embedded_offer_features = [embeddings[feature] for feature in offer_features]\n",
    "    user_tower = USER_TOWER()(tf.keras.layers.Concatenate(name='concat_user')(embedded_user_features))\n",
    "    offer_tower = OFFER_TOWER()(tf.keras.layers.Concatenate(name='concat_offer')(embedded_offer_features))\n",
    "    \n",
    "    output = DotWithNegatives(NUMBER_OF_NEGATIVES, name='prediction')([user_tower, offer_tower], generate_negatives=True)\n",
    "    model = tf.keras.Model(inputs, output, name=name)\n",
    "    model.compile(optimizer=OPTIMIZER,\n",
    "                  loss=BroadcastLoss(LOSS, NUMBER_OF_NEGATIVES),\n",
    "                  metrics=[BroadcastMetric(AUC_METRIC, NUMBER_OF_NEGATIVES)])\n",
    "    \n",
    "    return model"
   ]
  },
  {
   "cell_type": "markdown",
   "id": "191a9dca-20e1-4bda-9f32-0fe31f1cca5b",
   "metadata": {},
   "source": [
    "We train models that use only one offer feature with same hyperparameters as the initial model."
   ]
  },
  {
   "cell_type": "code",
   "execution_count": 18,
   "id": "984349ef-6d9a-4e99-9711-5c0a33bc3a7e",
   "metadata": {
    "tags": []
   },
   "outputs": [
    {
     "name": "stdout",
     "output_type": "stream",
     "text": [
      "Epoch 1/10\n"
     ]
    },
    {
     "name": "stderr",
     "output_type": "stream",
     "text": [
      "/usr/local/lib/python3.9/site-packages/keras/engine/functional.py:638: UserWarning: Input dict contained keys ['user_id', 'category3', 'category2', 'brand', 'priceCluster', 'date', 'category1', 'category3_weight', 'category2_weight', 'brand_weight', 'priceCluster_weight', 'category1_weight'] which did not match any model input. They will be ignored by the model.\n",
      "  inputs = self._flatten_to_reference_inputs(inputs)\n"
     ]
    },
    {
     "name": "stdout",
     "output_type": "stream",
     "text": [
      "679/679 [==============================] - 159s 181ms/step - loss: 0.4984 - auc: 0.7081 - val_loss: 0.4644 - val_auc: 0.7396\n",
      "Epoch 2/10\n",
      "679/679 [==============================] - 103s 151ms/step - loss: 0.4585 - auc: 0.7396 - val_loss: 0.4499 - val_auc: 0.7489\n",
      "Epoch 3/10\n",
      "679/679 [==============================] - 104s 152ms/step - loss: 0.4516 - auc: 0.7463 - val_loss: 0.4470 - val_auc: 0.7510\n",
      "Epoch 4/10\n",
      "679/679 [==============================] - 99s 146ms/step - loss: 0.4480 - auc: 0.7499 - val_loss: 0.4454 - val_auc: 0.7523\n",
      "Epoch 5/10\n",
      "679/679 [==============================] - 93s 136ms/step - loss: 0.4454 - auc: 0.7524 - val_loss: 0.4440 - val_auc: 0.7532\n",
      "Epoch 6/10\n",
      "679/679 [==============================] - 104s 152ms/step - loss: 0.4430 - auc: 0.7548 - val_loss: 0.4427 - val_auc: 0.7532\n",
      "Epoch 7/10\n",
      "679/679 [==============================] - 82s 120ms/step - loss: 0.4408 - auc: 0.7570 - val_loss: 0.4423 - val_auc: 0.7531\n",
      "Epoch 8/10\n",
      "679/679 [==============================] - 113s 166ms/step - loss: 0.4390 - auc: 0.7588 - val_loss: 0.4415 - val_auc: 0.7537\n",
      "Epoch 9/10\n",
      "679/679 [==============================] - 118s 173ms/step - loss: 0.4373 - auc: 0.7605 - val_loss: 0.4410 - val_auc: 0.7538\n",
      "Epoch 10/10\n",
      "679/679 [==============================] - 123s 181ms/step - loss: 0.4358 - auc: 0.7621 - val_loss: 0.4409 - val_auc: 0.7534\n",
      "Epoch 1/10\n"
     ]
    },
    {
     "name": "stderr",
     "output_type": "stream",
     "text": [
      "/usr/local/lib/python3.9/site-packages/keras/engine/functional.py:638: UserWarning: Input dict contained keys ['user_id', 'category3', 'category2', 'brand', 'priceCluster', 'date', 'product_id', 'category3_weight', 'category2_weight', 'brand_weight', 'priceCluster_weight', 'product_id_weight'] which did not match any model input. They will be ignored by the model.\n",
      "  inputs = self._flatten_to_reference_inputs(inputs)\n"
     ]
    },
    {
     "name": "stdout",
     "output_type": "stream",
     "text": [
      "679/679 [==============================] - 175s 197ms/step - loss: 0.5178 - auc: 0.6503 - val_loss: 0.4873 - val_auc: 0.6676\n",
      "Epoch 2/10\n",
      "679/679 [==============================] - 96s 141ms/step - loss: 0.4814 - auc: 0.6575 - val_loss: 0.4758 - val_auc: 0.6706\n",
      "Epoch 3/10\n",
      "679/679 [==============================] - 97s 143ms/step - loss: 0.4788 - auc: 0.6613 - val_loss: 0.4748 - val_auc: 0.6708\n",
      "Epoch 4/10\n",
      "679/679 [==============================] - 99s 145ms/step - loss: 0.4776 - auc: 0.6628 - val_loss: 0.4739 - val_auc: 0.6712\n",
      "Epoch 5/10\n",
      "679/679 [==============================] - 101s 148ms/step - loss: 0.4764 - auc: 0.6643 - val_loss: 0.4731 - val_auc: 0.6715\n",
      "Epoch 6/10\n",
      "679/679 [==============================] - 96s 141ms/step - loss: 0.4753 - auc: 0.6657 - val_loss: 0.4725 - val_auc: 0.6718\n",
      "Epoch 7/10\n",
      "679/679 [==============================] - 94s 138ms/step - loss: 0.4744 - auc: 0.6671 - val_loss: 0.4719 - val_auc: 0.6712\n",
      "Epoch 8/10\n",
      "679/679 [==============================] - 88s 128ms/step - loss: 0.4734 - auc: 0.6685 - val_loss: 0.4716 - val_auc: 0.6715\n",
      "Epoch 9/10\n",
      "679/679 [==============================] - 98s 143ms/step - loss: 0.4726 - auc: 0.6700 - val_loss: 0.4717 - val_auc: 0.6714\n",
      "Epoch 10/10\n",
      "679/679 [==============================] - 99s 145ms/step - loss: 0.4719 - auc: 0.6713 - val_loss: 0.4721 - val_auc: 0.6701\n",
      "Epoch 1/10\n"
     ]
    },
    {
     "name": "stderr",
     "output_type": "stream",
     "text": [
      "/usr/local/lib/python3.9/site-packages/keras/engine/functional.py:638: UserWarning: Input dict contained keys ['user_id', 'category3', 'brand', 'priceCluster', 'date', 'product_id', 'category1', 'category3_weight', 'brand_weight', 'priceCluster_weight', 'product_id_weight', 'category1_weight'] which did not match any model input. They will be ignored by the model.\n",
      "  inputs = self._flatten_to_reference_inputs(inputs)\n"
     ]
    },
    {
     "name": "stdout",
     "output_type": "stream",
     "text": [
      "679/679 [==============================] - 162s 185ms/step - loss: 0.5090 - auc: 0.6488 - val_loss: 0.4791 - val_auc: 0.6819\n",
      "Epoch 2/10\n",
      "679/679 [==============================] - 99s 145ms/step - loss: 0.4752 - auc: 0.6708 - val_loss: 0.4677 - val_auc: 0.6847\n",
      "Epoch 3/10\n",
      "679/679 [==============================] - 100s 146ms/step - loss: 0.4717 - auc: 0.6748 - val_loss: 0.4660 - val_auc: 0.6847\n",
      "Epoch 4/10\n",
      "679/679 [==============================] - 98s 143ms/step - loss: 0.4700 - auc: 0.6767 - val_loss: 0.4650 - val_auc: 0.6856\n",
      "Epoch 5/10\n",
      "679/679 [==============================] - 92s 134ms/step - loss: 0.4686 - auc: 0.6784 - val_loss: 0.4645 - val_auc: 0.6861\n",
      "Epoch 6/10\n",
      "679/679 [==============================] - 81s 119ms/step - loss: 0.4676 - auc: 0.6796 - val_loss: 0.4641 - val_auc: 0.6855\n",
      "Epoch 7/10\n",
      "679/679 [==============================] - 82s 120ms/step - loss: 0.4667 - auc: 0.6810 - val_loss: 0.4639 - val_auc: 0.6858\n",
      "Epoch 8/10\n",
      "679/679 [==============================] - 74s 108ms/step - loss: 0.4659 - auc: 0.6821 - val_loss: 0.4636 - val_auc: 0.6850\n",
      "Epoch 9/10\n",
      "679/679 [==============================] - 71s 105ms/step - loss: 0.4652 - auc: 0.6831 - val_loss: 0.4637 - val_auc: 0.6857\n",
      "Epoch 10/10\n",
      "679/679 [==============================] - 75s 110ms/step - loss: 0.4647 - auc: 0.6841 - val_loss: 0.4643 - val_auc: 0.6854\n",
      "Epoch 1/10\n"
     ]
    },
    {
     "name": "stderr",
     "output_type": "stream",
     "text": [
      "/usr/local/lib/python3.9/site-packages/keras/engine/functional.py:638: UserWarning: Input dict contained keys ['user_id', 'category2', 'brand', 'priceCluster', 'date', 'product_id', 'category1', 'category2_weight', 'brand_weight', 'priceCluster_weight', 'product_id_weight', 'category1_weight'] which did not match any model input. They will be ignored by the model.\n",
      "  inputs = self._flatten_to_reference_inputs(inputs)\n"
     ]
    },
    {
     "name": "stdout",
     "output_type": "stream",
     "text": [
      "679/679 [==============================] - 115s 129ms/step - loss: 0.5118 - auc: 0.6475 - val_loss: 0.4840 - val_auc: 0.6751\n",
      "Epoch 2/10\n",
      "679/679 [==============================] - 71s 104ms/step - loss: 0.4778 - auc: 0.6651 - val_loss: 0.4701 - val_auc: 0.6795\n",
      "Epoch 3/10\n",
      "679/679 [==============================] - 77s 113ms/step - loss: 0.4738 - auc: 0.6693 - val_loss: 0.4682 - val_auc: 0.6794\n",
      "Epoch 4/10\n",
      "679/679 [==============================] - 78s 114ms/step - loss: 0.4717 - auc: 0.6717 - val_loss: 0.4671 - val_auc: 0.6800\n",
      "Epoch 5/10\n",
      "679/679 [==============================] - 70s 103ms/step - loss: 0.4704 - auc: 0.6732 - val_loss: 0.4665 - val_auc: 0.6810\n",
      "Epoch 6/10\n",
      "679/679 [==============================] - 74s 109ms/step - loss: 0.4692 - auc: 0.6747 - val_loss: 0.4657 - val_auc: 0.6810\n",
      "Epoch 7/10\n",
      "679/679 [==============================] - 73s 107ms/step - loss: 0.4683 - auc: 0.6758 - val_loss: 0.4655 - val_auc: 0.6815\n",
      "Epoch 8/10\n",
      "679/679 [==============================] - 71s 104ms/step - loss: 0.4675 - auc: 0.6769 - val_loss: 0.4657 - val_auc: 0.6812\n",
      "Epoch 9/10\n",
      "679/679 [==============================] - 66s 97ms/step - loss: 0.4667 - auc: 0.6783 - val_loss: 0.4655 - val_auc: 0.6812\n",
      "Epoch 10/10\n",
      "679/679 [==============================] - 65s 96ms/step - loss: 0.4663 - auc: 0.6790 - val_loss: 0.4656 - val_auc: 0.6809\n",
      "Epoch 1/10\n"
     ]
    },
    {
     "name": "stderr",
     "output_type": "stream",
     "text": [
      "/usr/local/lib/python3.9/site-packages/keras/engine/functional.py:638: UserWarning: Input dict contained keys ['user_id', 'category3', 'category2', 'priceCluster', 'date', 'product_id', 'category1', 'category3_weight', 'category2_weight', 'priceCluster_weight', 'product_id_weight', 'category1_weight'] which did not match any model input. They will be ignored by the model.\n",
      "  inputs = self._flatten_to_reference_inputs(inputs)\n"
     ]
    },
    {
     "name": "stdout",
     "output_type": "stream",
     "text": [
      "679/679 [==============================] - 99s 112ms/step - loss: 0.4991 - auc: 0.6837 - val_loss: 0.4617 - val_auc: 0.7243\n",
      "Epoch 2/10\n",
      "679/679 [==============================] - 65s 95ms/step - loss: 0.4596 - auc: 0.7165 - val_loss: 0.4504 - val_auc: 0.7293\n",
      "Epoch 3/10\n",
      "679/679 [==============================] - 65s 95ms/step - loss: 0.4547 - auc: 0.7209 - val_loss: 0.4486 - val_auc: 0.7306\n",
      "Epoch 4/10\n",
      "679/679 [==============================] - 65s 96ms/step - loss: 0.4524 - auc: 0.7230 - val_loss: 0.4475 - val_auc: 0.7308\n",
      "Epoch 5/10\n",
      "679/679 [==============================] - 65s 95ms/step - loss: 0.4510 - auc: 0.7243 - val_loss: 0.4466 - val_auc: 0.7312\n",
      "Epoch 6/10\n",
      "679/679 [==============================] - 125s 184ms/step - loss: 0.4502 - auc: 0.7252 - val_loss: 0.4463 - val_auc: 0.7313\n",
      "Epoch 7/10\n",
      "679/679 [==============================] - 122s 178ms/step - loss: 0.4493 - auc: 0.7263 - val_loss: 0.4458 - val_auc: 0.7310\n",
      "Epoch 8/10\n",
      "679/679 [==============================] - 94s 137ms/step - loss: 0.4485 - auc: 0.7272 - val_loss: 0.4456 - val_auc: 0.7311\n",
      "Epoch 9/10\n",
      "679/679 [==============================] - 113s 166ms/step - loss: 0.4479 - auc: 0.7282 - val_loss: 0.4456 - val_auc: 0.7314\n",
      "Epoch 10/10\n",
      "679/679 [==============================] - 125s 183ms/step - loss: 0.4474 - auc: 0.7290 - val_loss: 0.4459 - val_auc: 0.7310\n",
      "Epoch 1/10\n"
     ]
    },
    {
     "name": "stderr",
     "output_type": "stream",
     "text": [
      "/usr/local/lib/python3.9/site-packages/keras/engine/functional.py:638: UserWarning: Input dict contained keys ['user_id', 'category3', 'category2', 'brand', 'date', 'product_id', 'category1', 'category3_weight', 'category2_weight', 'brand_weight', 'product_id_weight', 'category1_weight'] which did not match any model input. They will be ignored by the model.\n",
      "  inputs = self._flatten_to_reference_inputs(inputs)\n"
     ]
    },
    {
     "name": "stdout",
     "output_type": "stream",
     "text": [
      "679/679 [==============================] - 192s 221ms/step - loss: 0.4951 - auc: 0.6672 - val_loss: 0.4689 - val_auc: 0.6912\n",
      "Epoch 2/10\n",
      "679/679 [==============================] - 138s 202ms/step - loss: 0.4686 - auc: 0.6812 - val_loss: 0.4608 - val_auc: 0.6951\n",
      "Epoch 3/10\n",
      "679/679 [==============================] - 132s 194ms/step - loss: 0.4659 - auc: 0.6844 - val_loss: 0.4596 - val_auc: 0.6958\n",
      "Epoch 4/10\n",
      "679/679 [==============================] - 134s 197ms/step - loss: 0.4647 - auc: 0.6857 - val_loss: 0.4590 - val_auc: 0.6963\n",
      "Epoch 5/10\n",
      "679/679 [==============================] - 120s 176ms/step - loss: 0.4640 - auc: 0.6866 - val_loss: 0.4586 - val_auc: 0.6965\n",
      "Epoch 6/10\n",
      "679/679 [==============================] - 114s 167ms/step - loss: 0.4635 - auc: 0.6874 - val_loss: 0.4583 - val_auc: 0.6966\n",
      "Epoch 7/10\n",
      "679/679 [==============================] - 129s 190ms/step - loss: 0.4630 - auc: 0.6883 - val_loss: 0.4583 - val_auc: 0.6968\n",
      "Epoch 8/10\n",
      "679/679 [==============================] - 116s 170ms/step - loss: 0.4626 - auc: 0.6892 - val_loss: 0.4584 - val_auc: 0.6965\n",
      "Epoch 9/10\n",
      "679/679 [==============================] - 131s 192ms/step - loss: 0.4621 - auc: 0.6900 - val_loss: 0.4582 - val_auc: 0.6969\n",
      "Epoch 10/10\n",
      "679/679 [==============================] - 137s 201ms/step - loss: 0.4617 - auc: 0.6910 - val_loss: 0.4586 - val_auc: 0.6966\n"
     ]
    }
   ],
   "source": [
    "mono_feature_models = {}\n",
    "for task_offer_feature in TASKS:\n",
    "    mono_feature_models[task_offer_feature] = two_tower_model([task_offer_feature],\n",
    "                                                              name=f'{task_offer_feature}_model')\n",
    "    mono_feature_models[task_offer_feature].fit(datasets['train'],\n",
    "                                                epochs=EPOCHS,\n",
    "                                                validation_data=datasets['val'])"
   ]
  },
  {
   "cell_type": "markdown",
   "id": "e416a20a-7564-44a1-812d-6c9b1ca29b02",
   "metadata": {},
   "source": [
    "## Evaluation"
   ]
  },
  {
   "cell_type": "markdown",
   "id": "95506c1c-1d7e-41b2-b4d9-7e46d9c59e79",
   "metadata": {},
   "source": [
    "Now let's load test dataset and generate some offers from it:\n",
    "* we will consider all batches from test dataset\n",
    "* we perform a group by using each feature from `TASKS` as a group by key\n",
    "* for all offer features except the one we are using as key we generate ragged tensors with bag of values it can take\n",
    "* we remove least popular values in each list\n",
    "* so now each line of dataset corresponds to an offer of type `task_offer_feature = 'value'`"
   ]
  },
  {
   "cell_type": "code",
   "execution_count": 19,
   "id": "1aa2ddd9-efcc-4d32-9ff7-81eb033a9faf",
   "metadata": {},
   "outputs": [
    {
     "name": "stdout",
     "output_type": "stream",
     "text": [
      "CPU times: user 8min 9s, sys: 28.2 s, total: 8min 37s\n",
      "Wall time: 7min 53s\n"
     ]
    }
   ],
   "source": [
    "%%time\n",
    "from utils import prepare_single_task_dataset\n",
    "test_datasets = {}\n",
    "for task_offer_feature in TASKS:\n",
    "    test_datasets[task_offer_feature] = \\\n",
    "        prepare_single_task_dataset(datasets['test'], task_offer_feature, offer_features)"
   ]
  },
  {
   "cell_type": "markdown",
   "id": "0eb43883-2574-41a2-8b3f-287800b250aa",
   "metadata": {},
   "source": [
    "Now we can apply model on grouped features for each task and calculate AUC for each offer of type `task_offer_feature = 'value'`. Note, that negatives are generated in the same way as for training."
   ]
  },
  {
   "cell_type": "code",
   "execution_count": 20,
   "id": "d0966f43-5ea6-4291-9fc8-5b48375da541",
   "metadata": {},
   "outputs": [
    {
     "name": "stderr",
     "output_type": "stream",
     "text": [
      "/usr/local/lib/python3.9/site-packages/keras/engine/functional.py:638: UserWarning: Input dict contained keys ['user_id', 'category3', 'category2', 'brand', 'priceCluster', 'date', 'product_id', 'category3_weight', 'category2_weight', 'brand_weight', 'priceCluster_weight', 'product_id_weight'] which did not match any model input. They will be ignored by the model.\n",
      "  inputs = self._flatten_to_reference_inputs(inputs)\n",
      "/usr/local/lib/python3.9/site-packages/keras/engine/functional.py:638: UserWarning: Input dict contained keys ['user_id', 'category3', 'brand', 'priceCluster', 'date', 'product_id', 'category1', 'category3_weight', 'brand_weight', 'priceCluster_weight', 'product_id_weight', 'category1_weight'] which did not match any model input. They will be ignored by the model.\n",
      "  inputs = self._flatten_to_reference_inputs(inputs)\n",
      "/usr/local/lib/python3.9/site-packages/keras/engine/functional.py:638: UserWarning: Input dict contained keys ['user_id', 'category2', 'brand', 'priceCluster', 'date', 'product_id', 'category1', 'category2_weight', 'brand_weight', 'priceCluster_weight', 'product_id_weight', 'category1_weight'] which did not match any model input. They will be ignored by the model.\n",
      "  inputs = self._flatten_to_reference_inputs(inputs)\n",
      "/usr/local/lib/python3.9/site-packages/keras/engine/functional.py:638: UserWarning: Input dict contained keys ['user_id', 'category3', 'category2', 'priceCluster', 'date', 'product_id', 'category1', 'category3_weight', 'category2_weight', 'priceCluster_weight', 'product_id_weight', 'category1_weight'] which did not match any model input. They will be ignored by the model.\n",
      "  inputs = self._flatten_to_reference_inputs(inputs)\n",
      "/usr/local/lib/python3.9/site-packages/keras/engine/functional.py:638: UserWarning: Input dict contained keys ['user_id', 'category3', 'category2', 'brand', 'date', 'product_id', 'category1', 'category3_weight', 'category2_weight', 'brand_weight', 'product_id_weight', 'category1_weight'] which did not match any model input. They will be ignored by the model.\n",
      "  inputs = self._flatten_to_reference_inputs(inputs)\n",
      "/usr/local/lib/python3.9/site-packages/keras/engine/functional.py:638: UserWarning: Input dict contained keys ['user_id', 'date'] which did not match any model input. They will be ignored by the model.\n",
      "  inputs = self._flatten_to_reference_inputs(inputs)\n",
      "/usr/local/lib/python3.9/site-packages/keras/engine/functional.py:638: UserWarning: Input dict contained keys ['user_id', 'category3', 'category2', 'brand', 'priceCluster', 'date', 'category1', 'category3_weight', 'category2_weight', 'brand_weight', 'priceCluster_weight', 'category1_weight'] which did not match any model input. They will be ignored by the model.\n",
      "  inputs = self._flatten_to_reference_inputs(inputs)\n",
      "/usr/local/lib/python3.9/site-packages/keras/engine/functional.py:638: UserWarning: Input dict contained keys ['user_id', 'category3', 'category2', 'brand', 'priceCluster', 'date', 'product_id', 'category3_weight', 'category2_weight', 'brand_weight', 'priceCluster_weight', 'product_id_weight'] which did not match any model input. They will be ignored by the model.\n",
      "  inputs = self._flatten_to_reference_inputs(inputs)\n",
      "/usr/local/lib/python3.9/site-packages/keras/engine/functional.py:638: UserWarning: Input dict contained keys ['user_id', 'category3', 'brand', 'priceCluster', 'date', 'product_id', 'category1', 'category3_weight', 'brand_weight', 'priceCluster_weight', 'product_id_weight', 'category1_weight'] which did not match any model input. They will be ignored by the model.\n",
      "  inputs = self._flatten_to_reference_inputs(inputs)\n",
      "/usr/local/lib/python3.9/site-packages/keras/engine/functional.py:638: UserWarning: Input dict contained keys ['user_id', 'category2', 'brand', 'priceCluster', 'date', 'product_id', 'category1', 'category2_weight', 'brand_weight', 'priceCluster_weight', 'product_id_weight', 'category1_weight'] which did not match any model input. They will be ignored by the model.\n",
      "  inputs = self._flatten_to_reference_inputs(inputs)\n",
      "/usr/local/lib/python3.9/site-packages/keras/engine/functional.py:638: UserWarning: Input dict contained keys ['user_id', 'category3', 'category2', 'priceCluster', 'date', 'product_id', 'category1', 'category3_weight', 'category2_weight', 'priceCluster_weight', 'product_id_weight', 'category1_weight'] which did not match any model input. They will be ignored by the model.\n",
      "  inputs = self._flatten_to_reference_inputs(inputs)\n",
      "/usr/local/lib/python3.9/site-packages/keras/engine/functional.py:638: UserWarning: Input dict contained keys ['user_id', 'category3', 'category2', 'brand', 'date', 'product_id', 'category1', 'category3_weight', 'category2_weight', 'brand_weight', 'product_id_weight', 'category1_weight'] which did not match any model input. They will be ignored by the model.\n",
      "  inputs = self._flatten_to_reference_inputs(inputs)\n",
      "/usr/local/lib/python3.9/site-packages/keras/engine/functional.py:638: UserWarning: Input dict contained keys ['user_id', 'date'] which did not match any model input. They will be ignored by the model.\n",
      "  inputs = self._flatten_to_reference_inputs(inputs)\n",
      "/usr/local/lib/python3.9/site-packages/keras/engine/functional.py:638: UserWarning: Input dict contained keys ['user_id', 'category3', 'category2', 'brand', 'priceCluster', 'date', 'category1', 'category3_weight', 'category2_weight', 'brand_weight', 'priceCluster_weight', 'category1_weight'] which did not match any model input. They will be ignored by the model.\n",
      "  inputs = self._flatten_to_reference_inputs(inputs)\n",
      "/usr/local/lib/python3.9/site-packages/keras/engine/functional.py:638: UserWarning: Input dict contained keys ['user_id', 'category3', 'category2', 'brand', 'priceCluster', 'date', 'product_id', 'category3_weight', 'category2_weight', 'brand_weight', 'priceCluster_weight', 'product_id_weight'] which did not match any model input. They will be ignored by the model.\n",
      "  inputs = self._flatten_to_reference_inputs(inputs)\n",
      "/usr/local/lib/python3.9/site-packages/keras/engine/functional.py:638: UserWarning: Input dict contained keys ['user_id', 'category3', 'brand', 'priceCluster', 'date', 'product_id', 'category1', 'category3_weight', 'brand_weight', 'priceCluster_weight', 'product_id_weight', 'category1_weight'] which did not match any model input. They will be ignored by the model.\n",
      "  inputs = self._flatten_to_reference_inputs(inputs)\n",
      "/usr/local/lib/python3.9/site-packages/keras/engine/functional.py:638: UserWarning: Input dict contained keys ['user_id', 'category2', 'brand', 'priceCluster', 'date', 'product_id', 'category1', 'category2_weight', 'brand_weight', 'priceCluster_weight', 'product_id_weight', 'category1_weight'] which did not match any model input. They will be ignored by the model.\n",
      "  inputs = self._flatten_to_reference_inputs(inputs)\n",
      "/usr/local/lib/python3.9/site-packages/keras/engine/functional.py:638: UserWarning: Input dict contained keys ['user_id', 'category3', 'category2', 'priceCluster', 'date', 'product_id', 'category1', 'category3_weight', 'category2_weight', 'priceCluster_weight', 'product_id_weight', 'category1_weight'] which did not match any model input. They will be ignored by the model.\n",
      "  inputs = self._flatten_to_reference_inputs(inputs)\n",
      "/usr/local/lib/python3.9/site-packages/keras/engine/functional.py:638: UserWarning: Input dict contained keys ['user_id', 'category3', 'category2', 'brand', 'date', 'product_id', 'category1', 'category3_weight', 'category2_weight', 'brand_weight', 'product_id_weight', 'category1_weight'] which did not match any model input. They will be ignored by the model.\n",
      "  inputs = self._flatten_to_reference_inputs(inputs)\n",
      "/usr/local/lib/python3.9/site-packages/keras/engine/functional.py:638: UserWarning: Input dict contained keys ['user_id', 'date'] which did not match any model input. They will be ignored by the model.\n",
      "  inputs = self._flatten_to_reference_inputs(inputs)\n",
      "/usr/local/lib/python3.9/site-packages/keras/engine/functional.py:638: UserWarning: Input dict contained keys ['user_id', 'category3', 'category2', 'brand', 'priceCluster', 'date', 'category1', 'category3_weight', 'category2_weight', 'brand_weight', 'priceCluster_weight', 'category1_weight'] which did not match any model input. They will be ignored by the model.\n",
      "  inputs = self._flatten_to_reference_inputs(inputs)\n",
      "/usr/local/lib/python3.9/site-packages/keras/engine/functional.py:638: UserWarning: Input dict contained keys ['user_id', 'category3', 'category2', 'brand', 'priceCluster', 'date', 'product_id', 'category3_weight', 'category2_weight', 'brand_weight', 'priceCluster_weight', 'product_id_weight'] which did not match any model input. They will be ignored by the model.\n",
      "  inputs = self._flatten_to_reference_inputs(inputs)\n",
      "/usr/local/lib/python3.9/site-packages/keras/engine/functional.py:638: UserWarning: Input dict contained keys ['user_id', 'category3', 'brand', 'priceCluster', 'date', 'product_id', 'category1', 'category3_weight', 'brand_weight', 'priceCluster_weight', 'product_id_weight', 'category1_weight'] which did not match any model input. They will be ignored by the model.\n",
      "  inputs = self._flatten_to_reference_inputs(inputs)\n",
      "/usr/local/lib/python3.9/site-packages/keras/engine/functional.py:638: UserWarning: Input dict contained keys ['user_id', 'category2', 'brand', 'priceCluster', 'date', 'product_id', 'category1', 'category2_weight', 'brand_weight', 'priceCluster_weight', 'product_id_weight', 'category1_weight'] which did not match any model input. They will be ignored by the model.\n",
      "  inputs = self._flatten_to_reference_inputs(inputs)\n",
      "/usr/local/lib/python3.9/site-packages/keras/engine/functional.py:638: UserWarning: Input dict contained keys ['user_id', 'category3', 'category2', 'priceCluster', 'date', 'product_id', 'category1', 'category3_weight', 'category2_weight', 'priceCluster_weight', 'product_id_weight', 'category1_weight'] which did not match any model input. They will be ignored by the model.\n",
      "  inputs = self._flatten_to_reference_inputs(inputs)\n",
      "/usr/local/lib/python3.9/site-packages/keras/engine/functional.py:638: UserWarning: Input dict contained keys ['user_id', 'category3', 'category2', 'brand', 'date', 'product_id', 'category1', 'category3_weight', 'category2_weight', 'brand_weight', 'product_id_weight', 'category1_weight'] which did not match any model input. They will be ignored by the model.\n",
      "  inputs = self._flatten_to_reference_inputs(inputs)\n",
      "/usr/local/lib/python3.9/site-packages/keras/engine/functional.py:638: UserWarning: Input dict contained keys ['user_id', 'date'] which did not match any model input. They will be ignored by the model.\n",
      "  inputs = self._flatten_to_reference_inputs(inputs)\n",
      "/usr/local/lib/python3.9/site-packages/keras/engine/functional.py:638: UserWarning: Input dict contained keys ['user_id', 'category3', 'category2', 'brand', 'priceCluster', 'date', 'category1', 'category3_weight', 'category2_weight', 'brand_weight', 'priceCluster_weight', 'category1_weight'] which did not match any model input. They will be ignored by the model.\n",
      "  inputs = self._flatten_to_reference_inputs(inputs)\n",
      "/usr/local/lib/python3.9/site-packages/keras/engine/functional.py:638: UserWarning: Input dict contained keys ['user_id', 'category3', 'category2', 'brand', 'priceCluster', 'date', 'product_id', 'category3_weight', 'category2_weight', 'brand_weight', 'priceCluster_weight', 'product_id_weight'] which did not match any model input. They will be ignored by the model.\n",
      "  inputs = self._flatten_to_reference_inputs(inputs)\n",
      "/usr/local/lib/python3.9/site-packages/keras/engine/functional.py:638: UserWarning: Input dict contained keys ['user_id', 'category3', 'brand', 'priceCluster', 'date', 'product_id', 'category1', 'category3_weight', 'brand_weight', 'priceCluster_weight', 'product_id_weight', 'category1_weight'] which did not match any model input. They will be ignored by the model.\n",
      "  inputs = self._flatten_to_reference_inputs(inputs)\n",
      "/usr/local/lib/python3.9/site-packages/keras/engine/functional.py:638: UserWarning: Input dict contained keys ['user_id', 'category2', 'brand', 'priceCluster', 'date', 'product_id', 'category1', 'category2_weight', 'brand_weight', 'priceCluster_weight', 'product_id_weight', 'category1_weight'] which did not match any model input. They will be ignored by the model.\n",
      "  inputs = self._flatten_to_reference_inputs(inputs)\n",
      "/usr/local/lib/python3.9/site-packages/keras/engine/functional.py:638: UserWarning: Input dict contained keys ['user_id', 'category3', 'category2', 'priceCluster', 'date', 'product_id', 'category1', 'category3_weight', 'category2_weight', 'priceCluster_weight', 'product_id_weight', 'category1_weight'] which did not match any model input. They will be ignored by the model.\n",
      "  inputs = self._flatten_to_reference_inputs(inputs)\n",
      "/usr/local/lib/python3.9/site-packages/keras/engine/functional.py:638: UserWarning: Input dict contained keys ['user_id', 'category3', 'category2', 'brand', 'date', 'product_id', 'category1', 'category3_weight', 'category2_weight', 'brand_weight', 'product_id_weight', 'category1_weight'] which did not match any model input. They will be ignored by the model.\n",
      "  inputs = self._flatten_to_reference_inputs(inputs)\n",
      "/usr/local/lib/python3.9/site-packages/keras/engine/functional.py:638: UserWarning: Input dict contained keys ['user_id', 'date'] which did not match any model input. They will be ignored by the model.\n",
      "  inputs = self._flatten_to_reference_inputs(inputs)\n",
      "/usr/local/lib/python3.9/site-packages/keras/engine/functional.py:638: UserWarning: Input dict contained keys ['user_id', 'category3', 'category2', 'brand', 'priceCluster', 'date', 'category1', 'category3_weight', 'category2_weight', 'brand_weight', 'priceCluster_weight', 'category1_weight'] which did not match any model input. They will be ignored by the model.\n",
      "  inputs = self._flatten_to_reference_inputs(inputs)\n",
      "/usr/local/lib/python3.9/site-packages/keras/engine/functional.py:638: UserWarning: Input dict contained keys ['user_id', 'category3', 'category2', 'brand', 'priceCluster', 'date', 'product_id', 'category3_weight', 'category2_weight', 'brand_weight', 'priceCluster_weight', 'product_id_weight'] which did not match any model input. They will be ignored by the model.\n",
      "  inputs = self._flatten_to_reference_inputs(inputs)\n",
      "/usr/local/lib/python3.9/site-packages/keras/engine/functional.py:638: UserWarning: Input dict contained keys ['user_id', 'category3', 'brand', 'priceCluster', 'date', 'product_id', 'category1', 'category3_weight', 'brand_weight', 'priceCluster_weight', 'product_id_weight', 'category1_weight'] which did not match any model input. They will be ignored by the model.\n",
      "  inputs = self._flatten_to_reference_inputs(inputs)\n",
      "/usr/local/lib/python3.9/site-packages/keras/engine/functional.py:638: UserWarning: Input dict contained keys ['user_id', 'category2', 'brand', 'priceCluster', 'date', 'product_id', 'category1', 'category2_weight', 'brand_weight', 'priceCluster_weight', 'product_id_weight', 'category1_weight'] which did not match any model input. They will be ignored by the model.\n",
      "  inputs = self._flatten_to_reference_inputs(inputs)\n",
      "/usr/local/lib/python3.9/site-packages/keras/engine/functional.py:638: UserWarning: Input dict contained keys ['user_id', 'category3', 'category2', 'priceCluster', 'date', 'product_id', 'category1', 'category3_weight', 'category2_weight', 'priceCluster_weight', 'product_id_weight', 'category1_weight'] which did not match any model input. They will be ignored by the model.\n",
      "  inputs = self._flatten_to_reference_inputs(inputs)\n",
      "/usr/local/lib/python3.9/site-packages/keras/engine/functional.py:638: UserWarning: Input dict contained keys ['user_id', 'category3', 'category2', 'brand', 'date', 'product_id', 'category1', 'category3_weight', 'category2_weight', 'brand_weight', 'product_id_weight', 'category1_weight'] which did not match any model input. They will be ignored by the model.\n",
      "  inputs = self._flatten_to_reference_inputs(inputs)\n",
      "/usr/local/lib/python3.9/site-packages/keras/engine/functional.py:638: UserWarning: Input dict contained keys ['user_id', 'date'] which did not match any model input. They will be ignored by the model.\n",
      "  inputs = self._flatten_to_reference_inputs(inputs)\n"
     ]
    }
   ],
   "source": [
    "%%time\n",
    "from collections import defaultdict\n",
    "from utils import evaluate_model, wAUC\n",
    "\n",
    "aucs = defaultdict(dict)\n",
    "for task_offer_feature in TASKS:\n",
    "    for model_name in TASKS:\n",
    "        aucs[task_offer_feature][f'MONO:{model_name}'] = \\\n",
    "            evaluate_model(mono_feature_models[model_name],\n",
    "                           task_offer_feature, test_datasets, NUMBER_OF_NEGATIVES, inverse_lookups)\n",
    "    aucs[task_offer_feature]['simple model'] = \\\n",
    "            evaluate_model(model, task_offer_feature, test_datasets, NUMBER_OF_NEGATIVES, inverse_lookups)"
   ]
  },
  {
   "cell_type": "markdown",
   "id": "a374dd80-b0dc-4905-903c-84b72735777c",
   "metadata": {},
   "source": [
    "We can aggregate AUCs from individual offers to have one value we can compare among models: weighted macro AUC. We will keep only offers with more than 200 positive events and weight their AUCs by number of events:"
   ]
  },
  {
   "cell_type": "code",
   "execution_count": 21,
   "id": "dbdf4194-a2fc-4c89-a524-4dda2905ce57",
   "metadata": {},
   "outputs": [],
   "source": [
    "import numpy as np\n",
    "import pandas as pd\n",
    "\n",
    "results = pd.DataFrame()\n",
    "for task_name in aucs:\n",
    "    for model_name in aucs[task_name]:\n",
    "        w_auc = wAUC(aucs[task_name][model_name])\n",
    "        results = pd.concat([results,\n",
    "                             pd.Series({'wAUC': w_auc, 'offers': task_name, 'model': model_name}).to_frame().T],\n",
    "                            ignore_index=True)"
   ]
  },
  {
   "cell_type": "code",
   "execution_count": 22,
   "id": "869761a6-12d2-4364-9962-c0fa902e18f5",
   "metadata": {},
   "outputs": [
    {
     "data": {
      "text/html": [
       "<style type=\"text/css\">\n",
       "#T_ee0e8_row0_col0, #T_ee0e8_row1_col1, #T_ee0e8_row2_col2, #T_ee0e8_row3_col3, #T_ee0e8_row4_col4, #T_ee0e8_row5_col5, #T_ee0e8_row6_col5 {\n",
       "  background-color: #b40426;\n",
       "  color: #f1f1f1;\n",
       "}\n",
       "#T_ee0e8_row0_col1 {\n",
       "  background-color: #aec9fc;\n",
       "  color: #000000;\n",
       "}\n",
       "#T_ee0e8_row0_col2 {\n",
       "  background-color: #d3dbe7;\n",
       "  color: #000000;\n",
       "}\n",
       "#T_ee0e8_row0_col3 {\n",
       "  background-color: #a7c5fe;\n",
       "  color: #000000;\n",
       "}\n",
       "#T_ee0e8_row0_col4 {\n",
       "  background-color: #97b8ff;\n",
       "  color: #000000;\n",
       "}\n",
       "#T_ee0e8_row0_col5 {\n",
       "  background-color: #f7a889;\n",
       "  color: #000000;\n",
       "}\n",
       "#T_ee0e8_row1_col0, #T_ee0e8_row1_col4, #T_ee0e8_row1_col5, #T_ee0e8_row4_col1, #T_ee0e8_row4_col2, #T_ee0e8_row4_col3 {\n",
       "  background-color: #3b4cc0;\n",
       "  color: #f1f1f1;\n",
       "}\n",
       "#T_ee0e8_row1_col2 {\n",
       "  background-color: #df634e;\n",
       "  color: #f1f1f1;\n",
       "}\n",
       "#T_ee0e8_row1_col3 {\n",
       "  background-color: #f7af91;\n",
       "  color: #000000;\n",
       "}\n",
       "#T_ee0e8_row2_col0 {\n",
       "  background-color: #5470de;\n",
       "  color: #f1f1f1;\n",
       "}\n",
       "#T_ee0e8_row2_col1 {\n",
       "  background-color: #b8122a;\n",
       "  color: #f1f1f1;\n",
       "}\n",
       "#T_ee0e8_row2_col3 {\n",
       "  background-color: #f59d7e;\n",
       "  color: #000000;\n",
       "}\n",
       "#T_ee0e8_row2_col4 {\n",
       "  background-color: #3d50c3;\n",
       "  color: #f1f1f1;\n",
       "}\n",
       "#T_ee0e8_row2_col5 {\n",
       "  background-color: #82a6fb;\n",
       "  color: #f1f1f1;\n",
       "}\n",
       "#T_ee0e8_row3_col0 {\n",
       "  background-color: #5572df;\n",
       "  color: #f1f1f1;\n",
       "}\n",
       "#T_ee0e8_row3_col1, #T_ee0e8_row6_col0 {\n",
       "  background-color: #de614d;\n",
       "  color: #f1f1f1;\n",
       "}\n",
       "#T_ee0e8_row3_col2 {\n",
       "  background-color: #f39577;\n",
       "  color: #000000;\n",
       "}\n",
       "#T_ee0e8_row3_col4 {\n",
       "  background-color: #465ecf;\n",
       "  color: #f1f1f1;\n",
       "}\n",
       "#T_ee0e8_row3_col5 {\n",
       "  background-color: #7295f4;\n",
       "  color: #f1f1f1;\n",
       "}\n",
       "#T_ee0e8_row4_col0 {\n",
       "  background-color: #485fd1;\n",
       "  color: #f1f1f1;\n",
       "}\n",
       "#T_ee0e8_row4_col5 {\n",
       "  background-color: #f4c6af;\n",
       "  color: #000000;\n",
       "}\n",
       "#T_ee0e8_row5_col0 {\n",
       "  background-color: #f29072;\n",
       "  color: #f1f1f1;\n",
       "}\n",
       "#T_ee0e8_row5_col1 {\n",
       "  background-color: #b3cdfb;\n",
       "  color: #000000;\n",
       "}\n",
       "#T_ee0e8_row5_col2 {\n",
       "  background-color: #cedaeb;\n",
       "  color: #000000;\n",
       "}\n",
       "#T_ee0e8_row5_col3 {\n",
       "  background-color: #c3d5f4;\n",
       "  color: #000000;\n",
       "}\n",
       "#T_ee0e8_row5_col4 {\n",
       "  background-color: #ebd3c6;\n",
       "  color: #000000;\n",
       "}\n",
       "#T_ee0e8_row6_col1 {\n",
       "  background-color: #d7dce3;\n",
       "  color: #000000;\n",
       "}\n",
       "#T_ee0e8_row6_col2 {\n",
       "  background-color: #f0cdbb;\n",
       "  color: #000000;\n",
       "}\n",
       "#T_ee0e8_row6_col3 {\n",
       "  background-color: #e1dad6;\n",
       "  color: #000000;\n",
       "}\n",
       "#T_ee0e8_row6_col4 {\n",
       "  background-color: #f7ba9f;\n",
       "  color: #000000;\n",
       "}\n",
       "</style>\n",
       "<table id=\"T_ee0e8\">\n",
       "  <thead>\n",
       "    <tr>\n",
       "      <th class=\"index_name level0\" >offers</th>\n",
       "      <th id=\"T_ee0e8_level0_col0\" class=\"col_heading level0 col0\" >brand</th>\n",
       "      <th id=\"T_ee0e8_level0_col1\" class=\"col_heading level0 col1\" >category1</th>\n",
       "      <th id=\"T_ee0e8_level0_col2\" class=\"col_heading level0 col2\" >category2</th>\n",
       "      <th id=\"T_ee0e8_level0_col3\" class=\"col_heading level0 col3\" >category3</th>\n",
       "      <th id=\"T_ee0e8_level0_col4\" class=\"col_heading level0 col4\" >price</th>\n",
       "      <th id=\"T_ee0e8_level0_col5\" class=\"col_heading level0 col5\" >product_id</th>\n",
       "    </tr>\n",
       "    <tr>\n",
       "      <th class=\"index_name level0\" >model</th>\n",
       "      <th class=\"blank col0\" >&nbsp;</th>\n",
       "      <th class=\"blank col1\" >&nbsp;</th>\n",
       "      <th class=\"blank col2\" >&nbsp;</th>\n",
       "      <th class=\"blank col3\" >&nbsp;</th>\n",
       "      <th class=\"blank col4\" >&nbsp;</th>\n",
       "      <th class=\"blank col5\" >&nbsp;</th>\n",
       "    </tr>\n",
       "  </thead>\n",
       "  <tbody>\n",
       "    <tr>\n",
       "      <th id=\"T_ee0e8_level0_row0\" class=\"row_heading level0 row0\" >MONO:brand</th>\n",
       "      <td id=\"T_ee0e8_row0_col0\" class=\"data row0 col0\" >0.759</td>\n",
       "      <td id=\"T_ee0e8_row0_col1\" class=\"data row0 col1\" >0.637</td>\n",
       "      <td id=\"T_ee0e8_row0_col2\" class=\"data row0 col2\" >0.662</td>\n",
       "      <td id=\"T_ee0e8_row0_col3\" class=\"data row0 col3\" >0.650</td>\n",
       "      <td id=\"T_ee0e8_row0_col4\" class=\"data row0 col4\" >0.610</td>\n",
       "      <td id=\"T_ee0e8_row0_col5\" class=\"data row0 col5\" >0.732</td>\n",
       "    </tr>\n",
       "    <tr>\n",
       "      <th id=\"T_ee0e8_level0_row1\" class=\"row_heading level0 row1\" >MONO:category1</th>\n",
       "      <td id=\"T_ee0e8_row1_col0\" class=\"data row1 col0\" >0.652</td>\n",
       "      <td id=\"T_ee0e8_row1_col1\" class=\"data row1 col1\" >0.723</td>\n",
       "      <td id=\"T_ee0e8_row1_col2\" class=\"data row1 col2\" >0.724</td>\n",
       "      <td id=\"T_ee0e8_row1_col3\" class=\"data row1 col3\" >0.704</td>\n",
       "      <td id=\"T_ee0e8_row1_col4\" class=\"data row1 col4\" >0.575</td>\n",
       "      <td id=\"T_ee0e8_row1_col5\" class=\"data row1 col5\" >0.648</td>\n",
       "    </tr>\n",
       "    <tr>\n",
       "      <th id=\"T_ee0e8_level0_row2\" class=\"row_heading level0 row2\" >MONO:category2</th>\n",
       "      <td id=\"T_ee0e8_row2_col0\" class=\"data row2 col0\" >0.661</td>\n",
       "      <td id=\"T_ee0e8_row2_col1\" class=\"data row2 col1\" >0.721</td>\n",
       "      <td id=\"T_ee0e8_row2_col2\" class=\"data row2 col2\" >0.744</td>\n",
       "      <td id=\"T_ee0e8_row2_col3\" class=\"data row2 col3\" >0.711</td>\n",
       "      <td id=\"T_ee0e8_row2_col4\" class=\"data row2 col4\" >0.576</td>\n",
       "      <td id=\"T_ee0e8_row2_col5\" class=\"data row2 col5\" >0.674</td>\n",
       "    </tr>\n",
       "    <tr>\n",
       "      <th id=\"T_ee0e8_level0_row3\" class=\"row_heading level0 row3\" >MONO:category3</th>\n",
       "      <td id=\"T_ee0e8_row3_col0\" class=\"data row3 col0\" >0.661</td>\n",
       "      <td id=\"T_ee0e8_row3_col1\" class=\"data row3 col1\" >0.706</td>\n",
       "      <td id=\"T_ee0e8_row3_col2\" class=\"data row3 col2\" >0.708</td>\n",
       "      <td id=\"T_ee0e8_row3_col3\" class=\"data row3 col3\" >0.749</td>\n",
       "      <td id=\"T_ee0e8_row3_col4\" class=\"data row3 col4\" >0.580</td>\n",
       "      <td id=\"T_ee0e8_row3_col5\" class=\"data row3 col5\" >0.669</td>\n",
       "    </tr>\n",
       "    <tr>\n",
       "      <th id=\"T_ee0e8_level0_row4\" class=\"row_heading level0 row4\" >MONO:price</th>\n",
       "      <td id=\"T_ee0e8_row4_col0\" class=\"data row4 col0\" >0.657</td>\n",
       "      <td id=\"T_ee0e8_row4_col1\" class=\"data row4 col1\" >0.592</td>\n",
       "      <td id=\"T_ee0e8_row4_col2\" class=\"data row4 col2\" >0.592</td>\n",
       "      <td id=\"T_ee0e8_row4_col3\" class=\"data row4 col3\" >0.603</td>\n",
       "      <td id=\"T_ee0e8_row4_col4\" class=\"data row4 col4\" >0.699</td>\n",
       "      <td id=\"T_ee0e8_row4_col5\" class=\"data row4 col5\" >0.721</td>\n",
       "    </tr>\n",
       "    <tr>\n",
       "      <th id=\"T_ee0e8_level0_row5\" class=\"row_heading level0 row5\" >MONO:product_id</th>\n",
       "      <td id=\"T_ee0e8_row5_col0\" class=\"data row5 col0\" >0.734</td>\n",
       "      <td id=\"T_ee0e8_row5_col1\" class=\"data row5 col1\" >0.639</td>\n",
       "      <td id=\"T_ee0e8_row5_col2\" class=\"data row5 col2\" >0.660</td>\n",
       "      <td id=\"T_ee0e8_row5_col3\" class=\"data row5 col3\" >0.662</td>\n",
       "      <td id=\"T_ee0e8_row5_col4\" class=\"data row5 col4\" >0.644</td>\n",
       "      <td id=\"T_ee0e8_row5_col5\" class=\"data row5 col5\" >0.766</td>\n",
       "    </tr>\n",
       "    <tr>\n",
       "      <th id=\"T_ee0e8_level0_row6\" class=\"row_heading level0 row6\" >simple model</th>\n",
       "      <td id=\"T_ee0e8_row6_col0\" class=\"data row6 col0\" >0.745</td>\n",
       "      <td id=\"T_ee0e8_row6_col1\" class=\"data row6 col1\" >0.655</td>\n",
       "      <td id=\"T_ee0e8_row6_col2\" class=\"data row6 col2\" >0.682</td>\n",
       "      <td id=\"T_ee0e8_row6_col3\" class=\"data row6 col3\" >0.678</td>\n",
       "      <td id=\"T_ee0e8_row6_col4\" class=\"data row6 col4\" >0.657</td>\n",
       "      <td id=\"T_ee0e8_row6_col5\" class=\"data row6 col5\" >0.766</td>\n",
       "    </tr>\n",
       "  </tbody>\n",
       "</table>\n"
      ],
      "text/plain": [
       "<pandas.io.formats.style.Styler at 0x7fdbdbd8c070>"
      ]
     },
     "execution_count": 22,
     "metadata": {},
     "output_type": "execute_result"
    }
   ],
   "source": [
    "pd.pivot_table(results, 'wAUC', 'model', 'offers')\\\n",
    "    .rename(columns={'priceCluster': 'price'}, index={'MONO:priceCluster': 'MONO:price'})\\\n",
    "    .style.background_gradient(cmap='coolwarm').format(precision=3)"
   ]
  }
 ],
 "metadata": {
  "kernelspec": {
   "display_name": "Custom [moksha-tf2-cpu.2-7] (Local)",
   "language": "python",
   "name": "local-eu.gcr.io_tinyclues-experiments_tinyclues_moksha-tf2-cpu.2-7_latest__moksha"
  },
  "language_info": {
   "codemirror_mode": {
    "name": "ipython",
    "version": 3
   },
   "file_extension": ".py",
   "mimetype": "text/x-python",
   "name": "python",
   "nbconvert_exporter": "python",
   "pygments_lexer": "ipython3",
   "version": "3.9.16"
  }
 },
 "nbformat": 4,
 "nbformat_minor": 5
}
