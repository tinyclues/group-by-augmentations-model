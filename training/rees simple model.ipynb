{
 "cells": [
  {
   "cell_type": "markdown",
   "id": "edef15d4-49a3-40e3-82f1-2f1fd17c820d",
   "metadata": {},
   "source": [
    "# Training simple model and evalualing its predictions on different tasks"
   ]
  },
  {
   "cell_type": "markdown",
   "id": "9113fe5b-43bd-4872-b416-86ef0ee54a02",
   "metadata": {},
   "source": [
    "## Prepare dataset for training"
   ]
  },
  {
   "cell_type": "markdown",
   "id": "ac87ae1e-3893-4a7c-9bd7-5c84bbcc5259",
   "metadata": {},
   "source": [
    "Following the same steps as in [the training for Movielens/IMDB dataset](https://github.com/tinyclues/recsys-multi-atrribute-benchmark/blob/master/training/movielens%20simple%20model.ipynb), we first load splitted dataset generated in [notebook](https://github.com/tinyclues/recsys-multi-atrribute-benchmark/blob/master/dataset_preprocessing/rees_ecommerce.ipynb)"
   ]
  },
  {
   "cell_type": "code",
   "execution_count": 1,
   "id": "807a30be-3b5c-4ab5-9b83-877fadbc4528",
   "metadata": {},
   "outputs": [],
   "source": [
    "DATASET = 'rees_ecommerce'"
   ]
  },
  {
   "cell_type": "code",
   "execution_count": 2,
   "id": "ffcb1cef-b1d7-4f13-8c07-68b7cfdc8bb8",
   "metadata": {},
   "outputs": [],
   "source": [
    "from utils import load_dataset\n",
    "\n",
    "datasets = {}\n",
    "for split_name in ['train', 'val', 'test']:\n",
    "    datasets[split_name] = load_dataset(DATASET, split_name)"
   ]
  },
  {
   "cell_type": "markdown",
   "id": "529c9be2-9c71-4bfc-ba64-931c0b4294ec",
   "metadata": {},
   "source": [
    "We can parse features' names, they were chosen to easily distinguish between offer features and user features (aggregated history up to chosen date)."
   ]
  },
  {
   "cell_type": "code",
   "execution_count": 3,
   "id": "4bacd6ec-088e-43f7-8741-f817389aeaf9",
   "metadata": {},
   "outputs": [],
   "source": [
    "from utils import AGG_PREFIX\n",
    "\n",
    "all_columns = list(datasets['train'].element_spec.keys())\n",
    "technical_columns = ['user_id', 'date']\n",
    "user_features = list(filter(lambda x: x.startswith(AGG_PREFIX), all_columns))\n",
    "offer_features = list(filter(lambda x: x not in user_features + technical_columns, all_columns))"
   ]
  },
  {
   "cell_type": "code",
   "execution_count": 4,
   "id": "e749c7c8-ccce-4996-9dbb-ddd4b30535f3",
   "metadata": {},
   "outputs": [
    {
     "data": {
      "text/plain": [
       "['aggregated_cart_category1',\n",
       " 'aggregated_purchase_category2',\n",
       " 'aggregated_cart_priceCluster',\n",
       " 'aggregated_purchase_category3',\n",
       " 'aggregated_cart_product_id',\n",
       " 'aggregated_purchase_priceCluster',\n",
       " 'aggregated_cart_category3',\n",
       " 'aggregated_cart_brand',\n",
       " 'aggregated_cart_category2',\n",
       " 'aggregated_purchase_category1',\n",
       " 'aggregated_purchase_product_id',\n",
       " 'aggregated_purchase_brand']"
      ]
     },
     "execution_count": 4,
     "metadata": {},
     "output_type": "execute_result"
    }
   ],
   "source": [
    "user_features"
   ]
  },
  {
   "cell_type": "code",
   "execution_count": 5,
   "id": "8fc16225-1bf0-42cd-96cc-dde804d0f8cf",
   "metadata": {},
   "outputs": [
    {
     "data": {
      "text/plain": [
       "['priceCluster', 'category3', 'category2', 'category1', 'product_id', 'brand']"
      ]
     },
     "execution_count": 5,
     "metadata": {},
     "output_type": "execute_result"
    }
   ],
   "source": [
    "offer_features"
   ]
  },
  {
   "cell_type": "markdown",
   "id": "9cb38696-3ad7-4edc-9331-663f031c11a9",
   "metadata": {},
   "source": [
    "### Rebatching datasets"
   ]
  },
  {
   "cell_type": "markdown",
   "id": "993d1d8c-60a7-4e91-8507-a4d63aafff4e",
   "metadata": {},
   "source": [
    "Splitting dataset into smaller batches in the same way as described in [the training for Movielens/IMDB dataset](https://github.com/tinyclues/recsys-multi-atrribute-benchmark/blob/master/training/movielens%20simple%20model.ipynb)"
   ]
  },
  {
   "cell_type": "code",
   "execution_count": 6,
   "id": "ea02c22b-3128-4312-ac7e-eba7ba312b41",
   "metadata": {},
   "outputs": [
    {
     "name": "stdout",
     "output_type": "stream",
     "text": [
      "CPU times: user 26.2 s, sys: 1.26 s, total: 27.4 s\n",
      "Wall time: 15.1 s\n"
     ]
    }
   ],
   "source": [
    "%%time\n",
    "\n",
    "from functools import partial\n",
    "from uuid import uuid4\n",
    "\n",
    "from utils import rebatch_by_events, add_equal_weights\n",
    "\n",
    "datasets['train'] = rebatch_by_events(datasets['train'], batch_size=5040, date_column='date', nb_events_by_user_by_day=8)\n",
    "for key in ['val', 'test']:\n",
    "    datasets[key] = rebatch_by_events(datasets[key], batch_size=5040, date_column='date', nb_events_by_user_by_day=8,\n",
    "                                      seed=1729).cache(f'/tmp/{uuid4()}.tf')\n",
    "\n",
    "for key in datasets:\n",
    "    datasets[key] = datasets[key].map(partial(add_equal_weights, features=offer_features))"
   ]
  },
  {
   "cell_type": "markdown",
   "id": "e6267056-b152-448e-a905-515cf6780d4f",
   "metadata": {},
   "source": [
    "## Define simple model"
   ]
  },
  {
   "cell_type": "code",
   "execution_count": 7,
   "id": "2d690110-f133-4702-8533-8eb10e41b686",
   "metadata": {},
   "outputs": [],
   "source": [
    "from utils import load_inverse_lookups\n",
    "inverse_lookups = load_inverse_lookups(DATASET)"
   ]
  },
  {
   "cell_type": "code",
   "execution_count": 8,
   "id": "488d715b-2447-4235-93ee-4297dc5954a9",
   "metadata": {},
   "outputs": [],
   "source": [
    "import re\n",
    "\n",
    "vocabulary_sizes = {}\n",
    "\n",
    "for feature in offer_features:\n",
    "    vocabulary_sizes[feature] = inverse_lookups[feature].vocabulary_size()\n",
    "\n",
    "for feature in user_features:\n",
    "    for key in inverse_lookups:\n",
    "        pattern = re.compile(r\"{}(\\w+)_{}\".format(AGG_PREFIX, key))\n",
    "        if pattern.match(feature):\n",
    "            vocabulary_sizes[feature] = vocabulary_sizes[key]"
   ]
  },
  {
   "cell_type": "markdown",
   "id": "31a273a2-67d6-4bae-9c3b-282b64346329",
   "metadata": {},
   "source": [
    "### Model architecture"
   ]
  },
  {
   "cell_type": "code",
   "execution_count": 9,
   "id": "6daef22a-1292-45d2-959f-02289d7450cf",
   "metadata": {},
   "outputs": [],
   "source": [
    "import tensorflow as tf"
   ]
  },
  {
   "cell_type": "markdown",
   "id": "692a7645-1ab1-441b-bb20-b4d2b0d42e20",
   "metadata": {},
   "source": [
    "<img src=\"resources/two_towers_model.png\" alt=\"two tower model\" width=\"800\" />"
   ]
  },
  {
   "cell_type": "markdown",
   "id": "f3f2bac6-852a-4c0a-ba11-e8984ae67ac9",
   "metadata": {},
   "source": [
    "### Model parameters"
   ]
  },
  {
   "cell_type": "markdown",
   "id": "028e0008-74ee-4c60-810c-39f4baa6c710",
   "metadata": {},
   "source": [
    "To choose model's parameters we did some manual tuning using validation set to maximize train and validation AUC while keeping mismatch between them small."
   ]
  },
  {
   "cell_type": "code",
   "execution_count": 10,
   "id": "f01a2a62-06e6-4758-94a5-5ba3ec5d4452",
   "metadata": {},
   "outputs": [],
   "source": [
    "# model parameters\n",
    "EMBEDDING_DIM = 100\n",
    "L1_COEFF = 2e-7\n",
    "DROPOUT = 0.1\n",
    "\n",
    "\n",
    "def REGULARIZER():\n",
    "    return {'class_name': 'L1L2', 'config': {'l1': L1_COEFF, 'l2': 0.}}\n",
    "\n",
    "def USER_TOWER():\n",
    "    return tf.keras.Sequential([\n",
    "        tf.keras.layers.BatchNormalization(),\n",
    "        tf.keras.layers.Dense(100,\n",
    "                              kernel_regularizer=REGULARIZER(),\n",
    "                              bias_regularizer=REGULARIZER()),\n",
    "        tf.keras.layers.Dropout(DROPOUT),\n",
    "        tf.keras.layers.Activation('tanh'),\n",
    "        tf.keras.layers.Dense(50,\n",
    "                              kernel_regularizer=REGULARIZER(),\n",
    "                              bias_regularizer=REGULARIZER()),\n",
    "        tf.keras.layers.Dropout(DROPOUT),\n",
    "        tf.keras.layers.Activation('tanh'),\n",
    "    ], name='user_tower')\n",
    "\n",
    "def OFFER_TOWER():\n",
    "    return tf.keras.Sequential([\n",
    "        tf.keras.layers.BatchNormalization(),\n",
    "        tf.keras.layers.Dense(100,\n",
    "                              kernel_regularizer=REGULARIZER(),\n",
    "                              bias_regularizer=REGULARIZER()),\n",
    "        tf.keras.layers.Dropout(DROPOUT),\n",
    "        tf.keras.layers.Activation('tanh'),\n",
    "        tf.keras.layers.Dense(50,\n",
    "                              kernel_regularizer=REGULARIZER(),\n",
    "                              bias_regularizer=REGULARIZER()),\n",
    "        tf.keras.layers.Dropout(DROPOUT),\n",
    "        tf.keras.layers.Activation('tanh'),\n",
    "    ], name='offer_tower')\n",
    "\n",
    "EPOCHS = 8\n",
    "\n",
    "NUMBER_OF_NEGATIVES = 4\n",
    "LOSS = tf.keras.losses.BinaryCrossentropy(from_logits=True)\n",
    "AUC_METRIC = tf.keras.metrics.AUC(from_logits=True)\n",
    "\n",
    "import tensorflow_addons as tfa\n",
    "OPTIMIZER = tfa.optimizers.AdamW(weight_decay=4e-8, learning_rate=0.0008)"
   ]
  },
  {
   "cell_type": "code",
   "execution_count": 11,
   "id": "07957c19-2b1b-457b-b17d-c9d21e37316f",
   "metadata": {},
   "outputs": [],
   "source": [
    "from layers import get_input_layer, WeightedEmbeddings\n",
    "from utils import WEIGHT_SUFFIX\n",
    "\n",
    "embeddings, inputs = {}, {}\n",
    "for feature in user_features + offer_features:\n",
    "    if feature in offer_features:\n",
    "        # for offer features we need weights:\n",
    "        # with dummy weights during training, and the ones used for a feature's averaging at inference time\n",
    "        inputs[f'{feature}{WEIGHT_SUFFIX}'] = get_input_layer(f'{feature}{WEIGHT_SUFFIX}', tf.float32)\n",
    "    inputs[feature] = get_input_layer(feature)\n",
    "    # here we use input feature modality from `vocabulary_sizes` to know embeddings matrix dimensions\n",
    "    emb_layer = WeightedEmbeddings(vocabulary_sizes[feature],\n",
    "                                   EMBEDDING_DIM, name=f'{feature}_embedding',\n",
    "                                   embeddings_regularizer=REGULARIZER())\n",
    "    embeddings[feature] = emb_layer(inputs[feature], inputs.get(f'{feature}{WEIGHT_SUFFIX}'))"
   ]
  },
  {
   "cell_type": "code",
   "execution_count": 12,
   "id": "69ab9aa4-9e45-4cbb-a659-7d6688546d6c",
   "metadata": {},
   "outputs": [],
   "source": [
    "embedded_user_features = [embeddings[feature] for feature in user_features]\n",
    "embedded_offer_features = [embeddings[feature] for feature in offer_features]\n",
    "user_tower = USER_TOWER()(tf.keras.layers.Concatenate(name='concat_user')(embedded_user_features))\n",
    "offer_tower = OFFER_TOWER()(tf.keras.layers.Concatenate(name='concat_offer')(embedded_offer_features))"
   ]
  },
  {
   "cell_type": "code",
   "execution_count": 13,
   "id": "c5cee96b-5095-4635-863c-bb6be416a8d5",
   "metadata": {},
   "outputs": [],
   "source": [
    "from layers import DotWithNegatives\n",
    "\n",
    "# we don't apply sigmoid on the output and will have from_logits=True in both loss and metrics\n",
    "output = DotWithNegatives(NUMBER_OF_NEGATIVES, name='prediction')([user_tower, offer_tower],\n",
    "                                                                  generate_negatives=True)"
   ]
  },
  {
   "cell_type": "code",
   "execution_count": 14,
   "id": "53c2d19a-acd9-4fd8-9bcf-a9865f65bace",
   "metadata": {},
   "outputs": [],
   "source": [
    "from utils import BroadcastLoss, BroadcastMetric\n",
    "\n",
    "model = tf.keras.Model(inputs, output, name='two_tower_model')\n",
    "model.compile(optimizer=OPTIMIZER,\n",
    "              loss=BroadcastLoss(LOSS, NUMBER_OF_NEGATIVES),\n",
    "              metrics=[BroadcastMetric(AUC_METRIC, NUMBER_OF_NEGATIVES)])"
   ]
  },
  {
   "cell_type": "markdown",
   "id": "237702cb-fa87-45dc-8966-020cf9bf2515",
   "metadata": {},
   "source": [
    "### Training"
   ]
  },
  {
   "cell_type": "code",
   "execution_count": 15,
   "id": "f3876f19-e017-405b-b6e0-be58b7d83cfa",
   "metadata": {},
   "outputs": [
    {
     "name": "stdout",
     "output_type": "stream",
     "text": [
      "Epoch 1/8\n"
     ]
    },
    {
     "name": "stderr",
     "output_type": "stream",
     "text": [
      "/home/jupyter/.local/lib/python3.9/site-packages/keras/engine/functional.py:566: UserWarning: Input dict contained keys ['user_id', 'date'] which did not match any model input. They will be ignored by the model.\n",
      "  inputs = self._flatten_to_reference_inputs(inputs)\n"
     ]
    },
    {
     "name": "stdout",
     "output_type": "stream",
     "text": [
      "679/679 [==============================] - 163s 183ms/step - loss: 0.4887 - auc: 0.7038 - val_loss: 0.4534 - val_auc: 0.7511\n",
      "Epoch 2/8\n",
      "679/679 [==============================] - 102s 150ms/step - loss: 0.4425 - auc: 0.7450 - val_loss: 0.4305 - val_auc: 0.7594\n",
      "Epoch 3/8\n",
      "679/679 [==============================] - 99s 145ms/step - loss: 0.4339 - auc: 0.7538 - val_loss: 0.4277 - val_auc: 0.7610\n",
      "Epoch 4/8\n",
      "679/679 [==============================] - 97s 143ms/step - loss: 0.4306 - auc: 0.7583 - val_loss: 0.4274 - val_auc: 0.7619\n",
      "Epoch 5/8\n",
      "679/679 [==============================] - 83s 122ms/step - loss: 0.4291 - auc: 0.7612 - val_loss: 0.4284 - val_auc: 0.7620\n",
      "Epoch 6/8\n",
      "679/679 [==============================] - 68s 100ms/step - loss: 0.4282 - auc: 0.7637 - val_loss: 0.4284 - val_auc: 0.7625\n",
      "Epoch 7/8\n",
      "679/679 [==============================] - 68s 99ms/step - loss: 0.4273 - auc: 0.7658 - val_loss: 0.4294 - val_auc: 0.7619\n",
      "Epoch 8/8\n",
      "679/679 [==============================] - 68s 100ms/step - loss: 0.4266 - auc: 0.7677 - val_loss: 0.4305 - val_auc: 0.7618\n"
     ]
    },
    {
     "data": {
      "text/plain": [
       "<keras.callbacks.History at 0x7f6dd4711df0>"
      ]
     },
     "execution_count": 15,
     "metadata": {},
     "output_type": "execute_result"
    }
   ],
   "source": [
    "model.fit(datasets['train'], epochs=EPOCHS, validation_data=datasets['val'])"
   ]
  },
  {
   "cell_type": "markdown",
   "id": "b7595399-bced-44ae-bbf6-05f2534141fd",
   "metadata": {},
   "source": [
    "## Single task models benchmark"
   ]
  },
  {
   "cell_type": "markdown",
   "id": "910110b3-f9b1-4663-80b9-d303ebc97359",
   "metadata": {},
   "source": [
    "As described in [notebook for Movielens](https://github.com/tinyclues/group-by-augmentations-model/blob/master/training/movielens%20simple%20model.ipynb) we can consider predictions on one chosen offer column as a single task and the whole setup as a multi-task problem. Let's now evaluate performance of a common model on a subset of tasks. We will compare its results against single task models sharing the same architecture, but using only one offer feature at time."
   ]
  },
  {
   "cell_type": "code",
   "execution_count": 16,
   "id": "6669fc5c-fa01-4e50-95e9-c4bbd66eb10b",
   "metadata": {},
   "outputs": [],
   "source": [
    "# offer columns we want to evaluate, specific to dataset we test\n",
    "TASKS = ['product_id', 'category1', 'category2', 'category3', 'brand', 'priceCluster']"
   ]
  },
  {
   "cell_type": "markdown",
   "id": "e05482dc-6ce3-47f0-8c5f-d9d25a0ecb3c",
   "metadata": {},
   "source": [
    "For simplicity of further code, let's wrap whole model definition into a function:"
   ]
  },
  {
   "cell_type": "code",
   "execution_count": 17,
   "id": "9a45e96a-b5fe-4ad2-a20b-a3aad3773571",
   "metadata": {},
   "outputs": [],
   "source": [
    "def two_tower_model(offer_features, name='two_tower_model'):\n",
    "    # user_features, vocabulary_sizes, EMBEDDING_DIM, REGULARIZER, USER_TOWER, OFFER_TOWER,\n",
    "    # OPTIMIZER, LOSS, NUMBER_OF_NEGATIVES\n",
    "    # come from global scope, but can be passed as params instead\n",
    "    embeddings, inputs = {}, {}\n",
    "    for feature in user_features + offer_features:\n",
    "        if feature in offer_features:\n",
    "            # for offer features we need weights:\n",
    "            # with dummy weights during training, and the ones used for a feature's averaging at inference time\n",
    "            inputs[f'{feature}{WEIGHT_SUFFIX}'] = get_input_layer(f'{feature}{WEIGHT_SUFFIX}', tf.float32)\n",
    "        inputs[feature] = get_input_layer(feature)\n",
    "        # here we use input feature modality from `vocabulary_sizes` to know embeddings matrix dimensions\n",
    "        emb_layer = WeightedEmbeddings(vocabulary_sizes[feature],\n",
    "                                       EMBEDDING_DIM, name=f'{feature}_embedding',\n",
    "                                       embeddings_regularizer=REGULARIZER())\n",
    "        embeddings[feature] = emb_layer(inputs[feature], inputs.get(f'{feature}{WEIGHT_SUFFIX}'))\n",
    "    \n",
    "    embedded_user_features = [embeddings[feature] for feature in user_features]\n",
    "    embedded_offer_features = [embeddings[feature] for feature in offer_features]\n",
    "    user_tower = USER_TOWER()(tf.keras.layers.Concatenate(name='concat_user')(embedded_user_features))\n",
    "    offer_tower = OFFER_TOWER()(tf.keras.layers.Concatenate(name='concat_offer')(embedded_offer_features))\n",
    "    \n",
    "    output = DotWithNegatives(NUMBER_OF_NEGATIVES, name='prediction')([user_tower, offer_tower], generate_negatives=True)\n",
    "    model = tf.keras.Model(inputs, output, name=name)\n",
    "    model.compile(optimizer=OPTIMIZER,\n",
    "                  loss=BroadcastLoss(LOSS, NUMBER_OF_NEGATIVES),\n",
    "                  metrics=[BroadcastMetric(AUC_METRIC, NUMBER_OF_NEGATIVES)])\n",
    "    \n",
    "    return model"
   ]
  },
  {
   "cell_type": "markdown",
   "id": "191a9dca-20e1-4bda-9f32-0fe31f1cca5b",
   "metadata": {},
   "source": [
    "We train models that use only one offer feature with same hyperparameters as the initial model."
   ]
  },
  {
   "cell_type": "code",
   "execution_count": 18,
   "id": "984349ef-6d9a-4e99-9711-5c0a33bc3a7e",
   "metadata": {
    "tags": []
   },
   "outputs": [
    {
     "name": "stdout",
     "output_type": "stream",
     "text": [
      "Epoch 1/8\n"
     ]
    },
    {
     "name": "stderr",
     "output_type": "stream",
     "text": [
      "/home/jupyter/.local/lib/python3.9/site-packages/keras/engine/functional.py:566: UserWarning: Input dict contained keys ['priceCluster', 'category3', 'category2', 'category1', 'user_id', 'brand', 'date', 'priceCluster_weight', 'category3_weight', 'category2_weight', 'category1_weight', 'brand_weight'] which did not match any model input. They will be ignored by the model.\n",
      "  inputs = self._flatten_to_reference_inputs(inputs)\n"
     ]
    },
    {
     "name": "stdout",
     "output_type": "stream",
     "text": [
      "679/679 [==============================] - 92s 107ms/step - loss: 0.4850 - auc: 0.7070 - val_loss: 0.4562 - val_auc: 0.7398\n",
      "Epoch 2/8\n",
      "679/679 [==============================] - 62s 91ms/step - loss: 0.4487 - auc: 0.7428 - val_loss: 0.4421 - val_auc: 0.7504\n",
      "Epoch 3/8\n",
      "679/679 [==============================] - 62s 91ms/step - loss: 0.4419 - auc: 0.7513 - val_loss: 0.4406 - val_auc: 0.7509\n",
      "Epoch 4/8\n",
      "679/679 [==============================] - 62s 90ms/step - loss: 0.4387 - auc: 0.7557 - val_loss: 0.4398 - val_auc: 0.7527\n",
      "Epoch 5/8\n",
      "679/679 [==============================] - 62s 91ms/step - loss: 0.4363 - auc: 0.7593 - val_loss: 0.4400 - val_auc: 0.7526\n",
      "Epoch 6/8\n",
      "679/679 [==============================] - 62s 91ms/step - loss: 0.4346 - auc: 0.7620 - val_loss: 0.4406 - val_auc: 0.7519\n",
      "Epoch 7/8\n",
      "679/679 [==============================] - 62s 91ms/step - loss: 0.4330 - auc: 0.7643 - val_loss: 0.4403 - val_auc: 0.7525\n",
      "Epoch 8/8\n",
      "679/679 [==============================] - 65s 96ms/step - loss: 0.4316 - auc: 0.7663 - val_loss: 0.4405 - val_auc: 0.7525\n",
      "Epoch 1/8\n"
     ]
    },
    {
     "name": "stderr",
     "output_type": "stream",
     "text": [
      "/home/jupyter/.local/lib/python3.9/site-packages/keras/engine/functional.py:566: UserWarning: Input dict contained keys ['priceCluster', 'category3', 'category2', 'user_id', 'product_id', 'brand', 'date', 'priceCluster_weight', 'category3_weight', 'category2_weight', 'product_id_weight', 'brand_weight'] which did not match any model input. They will be ignored by the model.\n",
      "  inputs = self._flatten_to_reference_inputs(inputs)\n"
     ]
    },
    {
     "name": "stdout",
     "output_type": "stream",
     "text": [
      "679/679 [==============================] - 110s 128ms/step - loss: 0.5061 - auc: 0.6536 - val_loss: 0.4850 - val_auc: 0.6687\n",
      "Epoch 2/8\n",
      "679/679 [==============================] - 72s 106ms/step - loss: 0.4789 - auc: 0.6600 - val_loss: 0.4741 - val_auc: 0.6706\n",
      "Epoch 3/8\n",
      "679/679 [==============================] - 81s 119ms/step - loss: 0.4766 - auc: 0.6630 - val_loss: 0.4735 - val_auc: 0.6704\n",
      "Epoch 4/8\n",
      "679/679 [==============================] - 75s 109ms/step - loss: 0.4755 - auc: 0.6651 - val_loss: 0.4727 - val_auc: 0.6707\n",
      "Epoch 5/8\n",
      "679/679 [==============================] - 91s 133ms/step - loss: 0.4746 - auc: 0.6668 - val_loss: 0.4730 - val_auc: 0.6707\n",
      "Epoch 6/8\n",
      "679/679 [==============================] - 93s 137ms/step - loss: 0.4736 - auc: 0.6688 - val_loss: 0.4729 - val_auc: 0.6703\n",
      "Epoch 7/8\n",
      "679/679 [==============================] - 85s 124ms/step - loss: 0.4728 - auc: 0.6706 - val_loss: 0.4728 - val_auc: 0.6696\n",
      "Epoch 8/8\n",
      "679/679 [==============================] - 79s 117ms/step - loss: 0.4719 - auc: 0.6727 - val_loss: 0.4728 - val_auc: 0.6699\n",
      "Epoch 1/8\n"
     ]
    },
    {
     "name": "stderr",
     "output_type": "stream",
     "text": [
      "/home/jupyter/.local/lib/python3.9/site-packages/keras/engine/functional.py:566: UserWarning: Input dict contained keys ['priceCluster', 'category3', 'category1', 'user_id', 'product_id', 'brand', 'date', 'priceCluster_weight', 'category3_weight', 'category1_weight', 'product_id_weight', 'brand_weight'] which did not match any model input. They will be ignored by the model.\n",
      "  inputs = self._flatten_to_reference_inputs(inputs)\n"
     ]
    },
    {
     "name": "stdout",
     "output_type": "stream",
     "text": [
      "679/679 [==============================] - 126s 150ms/step - loss: 0.5032 - auc: 0.6487 - val_loss: 0.4793 - val_auc: 0.6804\n",
      "Epoch 2/8\n",
      "679/679 [==============================] - 91s 133ms/step - loss: 0.4733 - auc: 0.6714 - val_loss: 0.4665 - val_auc: 0.6838\n",
      "Epoch 3/8\n",
      "679/679 [==============================] - 92s 135ms/step - loss: 0.4702 - auc: 0.6756 - val_loss: 0.4659 - val_auc: 0.6844\n",
      "Epoch 4/8\n",
      "679/679 [==============================] - 88s 129ms/step - loss: 0.4687 - auc: 0.6781 - val_loss: 0.4651 - val_auc: 0.6851\n",
      "Epoch 5/8\n",
      "679/679 [==============================] - 88s 130ms/step - loss: 0.4677 - auc: 0.6800 - val_loss: 0.4652 - val_auc: 0.6855\n",
      "Epoch 6/8\n",
      "679/679 [==============================] - 87s 128ms/step - loss: 0.4668 - auc: 0.6820 - val_loss: 0.4648 - val_auc: 0.6860\n",
      "Epoch 7/8\n",
      "679/679 [==============================] - 80s 118ms/step - loss: 0.4660 - auc: 0.6839 - val_loss: 0.4652 - val_auc: 0.6855\n",
      "Epoch 8/8\n",
      "679/679 [==============================] - 85s 125ms/step - loss: 0.4653 - auc: 0.6856 - val_loss: 0.4655 - val_auc: 0.6850\n",
      "Epoch 1/8\n"
     ]
    },
    {
     "name": "stderr",
     "output_type": "stream",
     "text": [
      "/home/jupyter/.local/lib/python3.9/site-packages/keras/engine/functional.py:566: UserWarning: Input dict contained keys ['priceCluster', 'category2', 'category1', 'user_id', 'product_id', 'brand', 'date', 'priceCluster_weight', 'category2_weight', 'category1_weight', 'product_id_weight', 'brand_weight'] which did not match any model input. They will be ignored by the model.\n",
      "  inputs = self._flatten_to_reference_inputs(inputs)\n"
     ]
    },
    {
     "name": "stdout",
     "output_type": "stream",
     "text": [
      "679/679 [==============================] - 103s 115ms/step - loss: 0.5061 - auc: 0.6465 - val_loss: 0.4838 - val_auc: 0.6736\n",
      "Epoch 2/8\n",
      "679/679 [==============================] - 60s 88ms/step - loss: 0.4761 - auc: 0.6656 - val_loss: 0.4689 - val_auc: 0.6790\n",
      "Epoch 3/8\n",
      "679/679 [==============================] - 60s 88ms/step - loss: 0.4723 - auc: 0.6702 - val_loss: 0.4675 - val_auc: 0.6799\n",
      "Epoch 4/8\n",
      "679/679 [==============================] - 60s 87ms/step - loss: 0.4705 - auc: 0.6730 - val_loss: 0.4670 - val_auc: 0.6809\n",
      "Epoch 5/8\n",
      "679/679 [==============================] - 60s 87ms/step - loss: 0.4693 - auc: 0.6751 - val_loss: 0.4666 - val_auc: 0.6811\n",
      "Epoch 6/8\n",
      "679/679 [==============================] - 59s 86ms/step - loss: 0.4684 - auc: 0.6767 - val_loss: 0.4663 - val_auc: 0.6809\n",
      "Epoch 7/8\n",
      "679/679 [==============================] - 59s 86ms/step - loss: 0.4675 - auc: 0.6785 - val_loss: 0.4664 - val_auc: 0.6810\n",
      "Epoch 8/8\n",
      "679/679 [==============================] - 59s 87ms/step - loss: 0.4670 - auc: 0.6800 - val_loss: 0.4667 - val_auc: 0.6808\n",
      "Epoch 1/8\n"
     ]
    },
    {
     "name": "stderr",
     "output_type": "stream",
     "text": [
      "/home/jupyter/.local/lib/python3.9/site-packages/keras/engine/functional.py:566: UserWarning: Input dict contained keys ['priceCluster', 'category3', 'category2', 'category1', 'user_id', 'product_id', 'date', 'priceCluster_weight', 'category3_weight', 'category2_weight', 'category1_weight', 'product_id_weight'] which did not match any model input. They will be ignored by the model.\n",
      "  inputs = self._flatten_to_reference_inputs(inputs)\n"
     ]
    },
    {
     "name": "stdout",
     "output_type": "stream",
     "text": [
      "679/679 [==============================] - 88s 102ms/step - loss: 0.4934 - auc: 0.6818 - val_loss: 0.4607 - val_auc: 0.7243\n",
      "Epoch 2/8\n",
      "679/679 [==============================] - 60s 88ms/step - loss: 0.4573 - auc: 0.7159 - val_loss: 0.4477 - val_auc: 0.7292\n",
      "Epoch 3/8\n",
      "679/679 [==============================] - 60s 88ms/step - loss: 0.4520 - auc: 0.7219 - val_loss: 0.4461 - val_auc: 0.7306\n",
      "Epoch 4/8\n",
      "679/679 [==============================] - 60s 88ms/step - loss: 0.4498 - auc: 0.7247 - val_loss: 0.4457 - val_auc: 0.7309\n",
      "Epoch 5/8\n",
      "679/679 [==============================] - 60s 88ms/step - loss: 0.4483 - auc: 0.7270 - val_loss: 0.4457 - val_auc: 0.7307\n",
      "Epoch 6/8\n",
      "679/679 [==============================] - 60s 88ms/step - loss: 0.4473 - auc: 0.7286 - val_loss: 0.4454 - val_auc: 0.7309\n",
      "Epoch 7/8\n",
      "679/679 [==============================] - 61s 89ms/step - loss: 0.4464 - auc: 0.7304 - val_loss: 0.4455 - val_auc: 0.7310\n",
      "Epoch 8/8\n",
      "679/679 [==============================] - 60s 88ms/step - loss: 0.4457 - auc: 0.7318 - val_loss: 0.4462 - val_auc: 0.7306\n",
      "Epoch 1/8\n"
     ]
    },
    {
     "name": "stderr",
     "output_type": "stream",
     "text": [
      "/home/jupyter/.local/lib/python3.9/site-packages/keras/engine/functional.py:566: UserWarning: Input dict contained keys ['category3', 'category2', 'category1', 'user_id', 'product_id', 'brand', 'date', 'category3_weight', 'category2_weight', 'category1_weight', 'product_id_weight', 'brand_weight'] which did not match any model input. They will be ignored by the model.\n",
      "  inputs = self._flatten_to_reference_inputs(inputs)\n"
     ]
    },
    {
     "name": "stdout",
     "output_type": "stream",
     "text": [
      "679/679 [==============================] - 92s 105ms/step - loss: 0.4890 - auc: 0.6686 - val_loss: 0.4681 - val_auc: 0.6899\n",
      "Epoch 2/8\n",
      "679/679 [==============================] - 61s 89ms/step - loss: 0.4664 - auc: 0.6822 - val_loss: 0.4593 - val_auc: 0.6953\n",
      "Epoch 3/8\n",
      "679/679 [==============================] - 61s 89ms/step - loss: 0.4639 - auc: 0.6859 - val_loss: 0.4584 - val_auc: 0.6963\n",
      "Epoch 4/8\n",
      "679/679 [==============================] - 61s 89ms/step - loss: 0.4629 - auc: 0.6879 - val_loss: 0.4584 - val_auc: 0.6966\n",
      "Epoch 5/8\n",
      "679/679 [==============================] - 61s 89ms/step - loss: 0.4624 - auc: 0.6894 - val_loss: 0.4587 - val_auc: 0.6968\n",
      "Epoch 6/8\n",
      "679/679 [==============================] - 61s 89ms/step - loss: 0.4621 - auc: 0.6909 - val_loss: 0.4591 - val_auc: 0.6966\n",
      "Epoch 7/8\n",
      "679/679 [==============================] - 61s 89ms/step - loss: 0.4617 - auc: 0.6925 - val_loss: 0.4595 - val_auc: 0.6962\n",
      "Epoch 8/8\n",
      "679/679 [==============================] - 61s 89ms/step - loss: 0.4612 - auc: 0.6942 - val_loss: 0.4598 - val_auc: 0.6959\n"
     ]
    }
   ],
   "source": [
    "mono_feature_models = {}\n",
    "for task_offer_feature in TASKS:\n",
    "    mono_feature_models[task_offer_feature] = two_tower_model([task_offer_feature],\n",
    "                                                              name=f'{task_offer_feature}_model')\n",
    "    mono_feature_models[task_offer_feature].fit(datasets['train'],\n",
    "                                                epochs=EPOCHS,\n",
    "                                                validation_data=datasets['val'])"
   ]
  },
  {
   "cell_type": "markdown",
   "id": "e416a20a-7564-44a1-812d-6c9b1ca29b02",
   "metadata": {},
   "source": [
    "## Evaluation"
   ]
  },
  {
   "cell_type": "markdown",
   "id": "95506c1c-1d7e-41b2-b4d9-7e46d9c59e79",
   "metadata": {},
   "source": [
    "Now let's load test dataset and generate some offers from it:\n",
    "* we will consider all batches from test dataset\n",
    "* we perform a group by using each feature from `TASKS` as a group by key\n",
    "* for all offer features except the one we are using as key we generate ragged tensors with bag of values it can take\n",
    "* we remove least popular values in each list\n",
    "* so now each line of dataset corresponds to an offer of type `task_offer_feature = 'value'`"
   ]
  },
  {
   "cell_type": "code",
   "execution_count": 19,
   "id": "1aa2ddd9-efcc-4d32-9ff7-81eb033a9faf",
   "metadata": {},
   "outputs": [
    {
     "name": "stdout",
     "output_type": "stream",
     "text": [
      "CPU times: user 3min 33s, sys: 16.9 s, total: 3min 50s\n",
      "Wall time: 3min 18s\n"
     ]
    }
   ],
   "source": [
    "%%time\n",
    "from utils import prepare_single_task_dataset\n",
    "test_datasets = {}\n",
    "for task_offer_feature in TASKS:\n",
    "    test_datasets[task_offer_feature] = \\\n",
    "        prepare_single_task_dataset(datasets['test'], task_offer_feature, offer_features)"
   ]
  },
  {
   "cell_type": "markdown",
   "id": "0eb43883-2574-41a2-8b3f-287800b250aa",
   "metadata": {},
   "source": [
    "Now we can apply model on grouped features for each task and calculate AUC for each offer of type `task_offer_feature = 'value'`. Note, that negatives are generated in the same way as for training."
   ]
  },
  {
   "cell_type": "code",
   "execution_count": 20,
   "id": "d0966f43-5ea6-4291-9fc8-5b48375da541",
   "metadata": {},
   "outputs": [
    {
     "name": "stderr",
     "output_type": "stream",
     "text": [
      "/home/jupyter/.local/lib/python3.9/site-packages/keras/engine/functional.py:566: UserWarning: Input dict contained keys ['priceCluster', 'category3', 'category2', 'user_id', 'product_id', 'brand', 'date', 'priceCluster_weight', 'category3_weight', 'category2_weight', 'product_id_weight', 'brand_weight'] which did not match any model input. They will be ignored by the model.\n",
      "  inputs = self._flatten_to_reference_inputs(inputs)\n",
      "/home/jupyter/.local/lib/python3.9/site-packages/keras/engine/functional.py:566: UserWarning: Input dict contained keys ['priceCluster', 'category3', 'category1', 'user_id', 'product_id', 'brand', 'date', 'priceCluster_weight', 'category3_weight', 'category1_weight', 'product_id_weight', 'brand_weight'] which did not match any model input. They will be ignored by the model.\n",
      "  inputs = self._flatten_to_reference_inputs(inputs)\n",
      "/home/jupyter/.local/lib/python3.9/site-packages/keras/engine/functional.py:566: UserWarning: Input dict contained keys ['priceCluster', 'category2', 'category1', 'user_id', 'product_id', 'brand', 'date', 'priceCluster_weight', 'category2_weight', 'category1_weight', 'product_id_weight', 'brand_weight'] which did not match any model input. They will be ignored by the model.\n",
      "  inputs = self._flatten_to_reference_inputs(inputs)\n",
      "/home/jupyter/.local/lib/python3.9/site-packages/keras/engine/functional.py:566: UserWarning: Input dict contained keys ['priceCluster', 'category3', 'category2', 'category1', 'user_id', 'product_id', 'date', 'priceCluster_weight', 'category3_weight', 'category2_weight', 'category1_weight', 'product_id_weight'] which did not match any model input. They will be ignored by the model.\n",
      "  inputs = self._flatten_to_reference_inputs(inputs)\n",
      "/home/jupyter/.local/lib/python3.9/site-packages/keras/engine/functional.py:566: UserWarning: Input dict contained keys ['category3', 'category2', 'category1', 'user_id', 'product_id', 'brand', 'date', 'category3_weight', 'category2_weight', 'category1_weight', 'product_id_weight', 'brand_weight'] which did not match any model input. They will be ignored by the model.\n",
      "  inputs = self._flatten_to_reference_inputs(inputs)\n",
      "/home/jupyter/.local/lib/python3.9/site-packages/keras/engine/functional.py:566: UserWarning: Input dict contained keys ['user_id', 'date'] which did not match any model input. They will be ignored by the model.\n",
      "  inputs = self._flatten_to_reference_inputs(inputs)\n",
      "/home/jupyter/.local/lib/python3.9/site-packages/keras/engine/functional.py:566: UserWarning: Input dict contained keys ['priceCluster', 'category3', 'category2', 'category1', 'user_id', 'brand', 'date', 'priceCluster_weight', 'category3_weight', 'category2_weight', 'category1_weight', 'brand_weight'] which did not match any model input. They will be ignored by the model.\n",
      "  inputs = self._flatten_to_reference_inputs(inputs)\n",
      "/home/jupyter/.local/lib/python3.9/site-packages/keras/engine/functional.py:566: UserWarning: Input dict contained keys ['priceCluster', 'category3', 'category2', 'user_id', 'product_id', 'brand', 'date', 'priceCluster_weight', 'category3_weight', 'category2_weight', 'product_id_weight', 'brand_weight'] which did not match any model input. They will be ignored by the model.\n",
      "  inputs = self._flatten_to_reference_inputs(inputs)\n",
      "/home/jupyter/.local/lib/python3.9/site-packages/keras/engine/functional.py:566: UserWarning: Input dict contained keys ['priceCluster', 'category3', 'category1', 'user_id', 'product_id', 'brand', 'date', 'priceCluster_weight', 'category3_weight', 'category1_weight', 'product_id_weight', 'brand_weight'] which did not match any model input. They will be ignored by the model.\n",
      "  inputs = self._flatten_to_reference_inputs(inputs)\n",
      "/home/jupyter/.local/lib/python3.9/site-packages/keras/engine/functional.py:566: UserWarning: Input dict contained keys ['priceCluster', 'category2', 'category1', 'user_id', 'product_id', 'brand', 'date', 'priceCluster_weight', 'category2_weight', 'category1_weight', 'product_id_weight', 'brand_weight'] which did not match any model input. They will be ignored by the model.\n",
      "  inputs = self._flatten_to_reference_inputs(inputs)\n",
      "/home/jupyter/.local/lib/python3.9/site-packages/keras/engine/functional.py:566: UserWarning: Input dict contained keys ['priceCluster', 'category3', 'category2', 'category1', 'user_id', 'product_id', 'date', 'priceCluster_weight', 'category3_weight', 'category2_weight', 'category1_weight', 'product_id_weight'] which did not match any model input. They will be ignored by the model.\n",
      "  inputs = self._flatten_to_reference_inputs(inputs)\n",
      "/home/jupyter/.local/lib/python3.9/site-packages/keras/engine/functional.py:566: UserWarning: Input dict contained keys ['category3', 'category2', 'category1', 'user_id', 'product_id', 'brand', 'date', 'category3_weight', 'category2_weight', 'category1_weight', 'product_id_weight', 'brand_weight'] which did not match any model input. They will be ignored by the model.\n",
      "  inputs = self._flatten_to_reference_inputs(inputs)\n",
      "/home/jupyter/.local/lib/python3.9/site-packages/keras/engine/functional.py:566: UserWarning: Input dict contained keys ['user_id', 'date'] which did not match any model input. They will be ignored by the model.\n",
      "  inputs = self._flatten_to_reference_inputs(inputs)\n",
      "/home/jupyter/.local/lib/python3.9/site-packages/keras/engine/functional.py:566: UserWarning: Input dict contained keys ['priceCluster', 'category3', 'category2', 'category1', 'user_id', 'brand', 'date', 'priceCluster_weight', 'category3_weight', 'category2_weight', 'category1_weight', 'brand_weight'] which did not match any model input. They will be ignored by the model.\n",
      "  inputs = self._flatten_to_reference_inputs(inputs)\n",
      "/home/jupyter/.local/lib/python3.9/site-packages/keras/engine/functional.py:566: UserWarning: Input dict contained keys ['priceCluster', 'category3', 'category2', 'user_id', 'product_id', 'brand', 'date', 'priceCluster_weight', 'category3_weight', 'category2_weight', 'product_id_weight', 'brand_weight'] which did not match any model input. They will be ignored by the model.\n",
      "  inputs = self._flatten_to_reference_inputs(inputs)\n",
      "/home/jupyter/.local/lib/python3.9/site-packages/keras/engine/functional.py:566: UserWarning: Input dict contained keys ['priceCluster', 'category3', 'category1', 'user_id', 'product_id', 'brand', 'date', 'priceCluster_weight', 'category3_weight', 'category1_weight', 'product_id_weight', 'brand_weight'] which did not match any model input. They will be ignored by the model.\n",
      "  inputs = self._flatten_to_reference_inputs(inputs)\n",
      "/home/jupyter/.local/lib/python3.9/site-packages/keras/engine/functional.py:566: UserWarning: Input dict contained keys ['priceCluster', 'category2', 'category1', 'user_id', 'product_id', 'brand', 'date', 'priceCluster_weight', 'category2_weight', 'category1_weight', 'product_id_weight', 'brand_weight'] which did not match any model input. They will be ignored by the model.\n",
      "  inputs = self._flatten_to_reference_inputs(inputs)\n",
      "/home/jupyter/.local/lib/python3.9/site-packages/keras/engine/functional.py:566: UserWarning: Input dict contained keys ['priceCluster', 'category3', 'category2', 'category1', 'user_id', 'product_id', 'date', 'priceCluster_weight', 'category3_weight', 'category2_weight', 'category1_weight', 'product_id_weight'] which did not match any model input. They will be ignored by the model.\n",
      "  inputs = self._flatten_to_reference_inputs(inputs)\n",
      "/home/jupyter/.local/lib/python3.9/site-packages/keras/engine/functional.py:566: UserWarning: Input dict contained keys ['category3', 'category2', 'category1', 'user_id', 'product_id', 'brand', 'date', 'category3_weight', 'category2_weight', 'category1_weight', 'product_id_weight', 'brand_weight'] which did not match any model input. They will be ignored by the model.\n",
      "  inputs = self._flatten_to_reference_inputs(inputs)\n",
      "/home/jupyter/.local/lib/python3.9/site-packages/keras/engine/functional.py:566: UserWarning: Input dict contained keys ['user_id', 'date'] which did not match any model input. They will be ignored by the model.\n",
      "  inputs = self._flatten_to_reference_inputs(inputs)\n",
      "/home/jupyter/.local/lib/python3.9/site-packages/keras/engine/functional.py:566: UserWarning: Input dict contained keys ['priceCluster', 'category3', 'category2', 'category1', 'user_id', 'brand', 'date', 'priceCluster_weight', 'category3_weight', 'category2_weight', 'category1_weight', 'brand_weight'] which did not match any model input. They will be ignored by the model.\n",
      "  inputs = self._flatten_to_reference_inputs(inputs)\n",
      "/home/jupyter/.local/lib/python3.9/site-packages/keras/engine/functional.py:566: UserWarning: Input dict contained keys ['priceCluster', 'category3', 'category2', 'user_id', 'product_id', 'brand', 'date', 'priceCluster_weight', 'category3_weight', 'category2_weight', 'product_id_weight', 'brand_weight'] which did not match any model input. They will be ignored by the model.\n",
      "  inputs = self._flatten_to_reference_inputs(inputs)\n",
      "/home/jupyter/.local/lib/python3.9/site-packages/keras/engine/functional.py:566: UserWarning: Input dict contained keys ['priceCluster', 'category3', 'category1', 'user_id', 'product_id', 'brand', 'date', 'priceCluster_weight', 'category3_weight', 'category1_weight', 'product_id_weight', 'brand_weight'] which did not match any model input. They will be ignored by the model.\n",
      "  inputs = self._flatten_to_reference_inputs(inputs)\n",
      "/home/jupyter/.local/lib/python3.9/site-packages/keras/engine/functional.py:566: UserWarning: Input dict contained keys ['priceCluster', 'category2', 'category1', 'user_id', 'product_id', 'brand', 'date', 'priceCluster_weight', 'category2_weight', 'category1_weight', 'product_id_weight', 'brand_weight'] which did not match any model input. They will be ignored by the model.\n",
      "  inputs = self._flatten_to_reference_inputs(inputs)\n",
      "/home/jupyter/.local/lib/python3.9/site-packages/keras/engine/functional.py:566: UserWarning: Input dict contained keys ['priceCluster', 'category3', 'category2', 'category1', 'user_id', 'product_id', 'date', 'priceCluster_weight', 'category3_weight', 'category2_weight', 'category1_weight', 'product_id_weight'] which did not match any model input. They will be ignored by the model.\n",
      "  inputs = self._flatten_to_reference_inputs(inputs)\n",
      "/home/jupyter/.local/lib/python3.9/site-packages/keras/engine/functional.py:566: UserWarning: Input dict contained keys ['category3', 'category2', 'category1', 'user_id', 'product_id', 'brand', 'date', 'category3_weight', 'category2_weight', 'category1_weight', 'product_id_weight', 'brand_weight'] which did not match any model input. They will be ignored by the model.\n",
      "  inputs = self._flatten_to_reference_inputs(inputs)\n",
      "/home/jupyter/.local/lib/python3.9/site-packages/keras/engine/functional.py:566: UserWarning: Input dict contained keys ['user_id', 'date'] which did not match any model input. They will be ignored by the model.\n",
      "  inputs = self._flatten_to_reference_inputs(inputs)\n",
      "/home/jupyter/.local/lib/python3.9/site-packages/keras/engine/functional.py:566: UserWarning: Input dict contained keys ['priceCluster', 'category3', 'category2', 'category1', 'user_id', 'brand', 'date', 'priceCluster_weight', 'category3_weight', 'category2_weight', 'category1_weight', 'brand_weight'] which did not match any model input. They will be ignored by the model.\n",
      "  inputs = self._flatten_to_reference_inputs(inputs)\n",
      "/home/jupyter/.local/lib/python3.9/site-packages/keras/engine/functional.py:566: UserWarning: Input dict contained keys ['priceCluster', 'category3', 'category2', 'user_id', 'product_id', 'brand', 'date', 'priceCluster_weight', 'category3_weight', 'category2_weight', 'product_id_weight', 'brand_weight'] which did not match any model input. They will be ignored by the model.\n",
      "  inputs = self._flatten_to_reference_inputs(inputs)\n",
      "/home/jupyter/.local/lib/python3.9/site-packages/keras/engine/functional.py:566: UserWarning: Input dict contained keys ['priceCluster', 'category3', 'category1', 'user_id', 'product_id', 'brand', 'date', 'priceCluster_weight', 'category3_weight', 'category1_weight', 'product_id_weight', 'brand_weight'] which did not match any model input. They will be ignored by the model.\n",
      "  inputs = self._flatten_to_reference_inputs(inputs)\n",
      "/home/jupyter/.local/lib/python3.9/site-packages/keras/engine/functional.py:566: UserWarning: Input dict contained keys ['priceCluster', 'category2', 'category1', 'user_id', 'product_id', 'brand', 'date', 'priceCluster_weight', 'category2_weight', 'category1_weight', 'product_id_weight', 'brand_weight'] which did not match any model input. They will be ignored by the model.\n",
      "  inputs = self._flatten_to_reference_inputs(inputs)\n",
      "/home/jupyter/.local/lib/python3.9/site-packages/keras/engine/functional.py:566: UserWarning: Input dict contained keys ['priceCluster', 'category3', 'category2', 'category1', 'user_id', 'product_id', 'date', 'priceCluster_weight', 'category3_weight', 'category2_weight', 'category1_weight', 'product_id_weight'] which did not match any model input. They will be ignored by the model.\n",
      "  inputs = self._flatten_to_reference_inputs(inputs)\n",
      "/home/jupyter/.local/lib/python3.9/site-packages/keras/engine/functional.py:566: UserWarning: Input dict contained keys ['category3', 'category2', 'category1', 'user_id', 'product_id', 'brand', 'date', 'category3_weight', 'category2_weight', 'category1_weight', 'product_id_weight', 'brand_weight'] which did not match any model input. They will be ignored by the model.\n",
      "  inputs = self._flatten_to_reference_inputs(inputs)\n",
      "/home/jupyter/.local/lib/python3.9/site-packages/keras/engine/functional.py:566: UserWarning: Input dict contained keys ['user_id', 'date'] which did not match any model input. They will be ignored by the model.\n",
      "  inputs = self._flatten_to_reference_inputs(inputs)\n",
      "/home/jupyter/.local/lib/python3.9/site-packages/keras/engine/functional.py:566: UserWarning: Input dict contained keys ['priceCluster', 'category3', 'category2', 'category1', 'user_id', 'brand', 'date', 'priceCluster_weight', 'category3_weight', 'category2_weight', 'category1_weight', 'brand_weight'] which did not match any model input. They will be ignored by the model.\n",
      "  inputs = self._flatten_to_reference_inputs(inputs)\n",
      "/home/jupyter/.local/lib/python3.9/site-packages/keras/engine/functional.py:566: UserWarning: Input dict contained keys ['priceCluster', 'category3', 'category2', 'user_id', 'product_id', 'brand', 'date', 'priceCluster_weight', 'category3_weight', 'category2_weight', 'product_id_weight', 'brand_weight'] which did not match any model input. They will be ignored by the model.\n",
      "  inputs = self._flatten_to_reference_inputs(inputs)\n",
      "/home/jupyter/.local/lib/python3.9/site-packages/keras/engine/functional.py:566: UserWarning: Input dict contained keys ['priceCluster', 'category3', 'category1', 'user_id', 'product_id', 'brand', 'date', 'priceCluster_weight', 'category3_weight', 'category1_weight', 'product_id_weight', 'brand_weight'] which did not match any model input. They will be ignored by the model.\n",
      "  inputs = self._flatten_to_reference_inputs(inputs)\n",
      "/home/jupyter/.local/lib/python3.9/site-packages/keras/engine/functional.py:566: UserWarning: Input dict contained keys ['priceCluster', 'category2', 'category1', 'user_id', 'product_id', 'brand', 'date', 'priceCluster_weight', 'category2_weight', 'category1_weight', 'product_id_weight', 'brand_weight'] which did not match any model input. They will be ignored by the model.\n",
      "  inputs = self._flatten_to_reference_inputs(inputs)\n",
      "/home/jupyter/.local/lib/python3.9/site-packages/keras/engine/functional.py:566: UserWarning: Input dict contained keys ['priceCluster', 'category3', 'category2', 'category1', 'user_id', 'product_id', 'date', 'priceCluster_weight', 'category3_weight', 'category2_weight', 'category1_weight', 'product_id_weight'] which did not match any model input. They will be ignored by the model.\n",
      "  inputs = self._flatten_to_reference_inputs(inputs)\n",
      "/home/jupyter/.local/lib/python3.9/site-packages/keras/engine/functional.py:566: UserWarning: Input dict contained keys ['category3', 'category2', 'category1', 'user_id', 'product_id', 'brand', 'date', 'category3_weight', 'category2_weight', 'category1_weight', 'product_id_weight', 'brand_weight'] which did not match any model input. They will be ignored by the model.\n",
      "  inputs = self._flatten_to_reference_inputs(inputs)\n",
      "/home/jupyter/.local/lib/python3.9/site-packages/keras/engine/functional.py:566: UserWarning: Input dict contained keys ['user_id', 'date'] which did not match any model input. They will be ignored by the model.\n",
      "  inputs = self._flatten_to_reference_inputs(inputs)\n"
     ]
    },
    {
     "name": "stdout",
     "output_type": "stream",
     "text": [
      "CPU times: user 1h 43min 38s, sys: 6min 28s, total: 1h 50min 7s\n",
      "Wall time: 46min 40s\n"
     ]
    }
   ],
   "source": [
    "%%time\n",
    "from collections import defaultdict\n",
    "from utils import evaluate_model, wAUC\n",
    "\n",
    "aucs = defaultdict(dict)\n",
    "for task_offer_feature in TASKS:\n",
    "    for model_name in TASKS:\n",
    "        aucs[task_offer_feature][f'MONO:{model_name}'] = \\\n",
    "            evaluate_model(mono_feature_models[model_name],\n",
    "                           task_offer_feature, test_datasets, NUMBER_OF_NEGATIVES, inverse_lookups)\n",
    "    aucs[task_offer_feature]['simple model'] = \\\n",
    "            evaluate_model(model, task_offer_feature, test_datasets, NUMBER_OF_NEGATIVES, inverse_lookups)"
   ]
  },
  {
   "cell_type": "code",
   "execution_count": null,
   "id": "608df431-e828-41d9-894b-f2e2ec2fe8ca",
   "metadata": {},
   "outputs": [],
   "source": [
    "from utils import save_metrics\n",
    "save_metrics(aucs, DATASET, 'simple_model')"
   ]
  },
  {
   "cell_type": "markdown",
   "id": "ed44450d-a1da-4415-a947-94a884bae89b",
   "metadata": {},
   "source": [
    "## Aggregating results"
   ]
  },
  {
   "cell_type": "markdown",
   "id": "39ad6836-fe4f-42dc-a2a6-cbaaa39eb33a",
   "metadata": {},
   "source": [
    "### Popular offers"
   ]
  },
  {
   "cell_type": "markdown",
   "id": "a374dd80-b0dc-4905-903c-84b72735777c",
   "metadata": {},
   "source": [
    "We can aggregate AUCs from individual offers to have one value we can compare among models: weighted macro AUC. We will keep only offers with more than 200 positive events and weight their AUCs by number of events:"
   ]
  },
  {
   "cell_type": "code",
   "execution_count": 21,
   "id": "dbdf4194-a2fc-4c89-a524-4dda2905ce57",
   "metadata": {},
   "outputs": [],
   "source": [
    "import numpy as np\n",
    "import pandas as pd\n",
    "\n",
    "results = pd.DataFrame()\n",
    "for task_name in aucs:\n",
    "    for model_name in aucs[task_name]:\n",
    "        w_auc = wAUC(aucs[task_name][model_name])\n",
    "        results = pd.concat([results,\n",
    "                             pd.Series({'wAUC': w_auc, 'offers': task_name, 'model': model_name}).to_frame().T],\n",
    "                            ignore_index=True)"
   ]
  },
  {
   "cell_type": "code",
   "execution_count": 27,
   "id": "869761a6-12d2-4364-9962-c0fa902e18f5",
   "metadata": {},
   "outputs": [
    {
     "data": {
      "text/html": [
       "<style type=\"text/css\">\n",
       "#T_9a204_row0_col0, #T_9a204_row2_col1, #T_9a204_row3_col2, #T_9a204_row4_col3, #T_9a204_row5_col4, #T_9a204_row6_col5 {\n",
       "  background-color: #b40426;\n",
       "  color: #f1f1f1;\n",
       "}\n",
       "#T_9a204_row0_col1 {\n",
       "  background-color: #edd1c2;\n",
       "  color: #000000;\n",
       "}\n",
       "#T_9a204_row0_col2 {\n",
       "  background-color: #dd5f4b;\n",
       "  color: #f1f1f1;\n",
       "}\n",
       "#T_9a204_row0_col3 {\n",
       "  background-color: #f0cdbb;\n",
       "  color: #000000;\n",
       "}\n",
       "#T_9a204_row0_col4 {\n",
       "  background-color: #dadce0;\n",
       "  color: #000000;\n",
       "}\n",
       "#T_9a204_row0_col5 {\n",
       "  background-color: #f6bda2;\n",
       "  color: #000000;\n",
       "}\n",
       "#T_9a204_row1_col0 {\n",
       "  background-color: #cb3e38;\n",
       "  color: #f1f1f1;\n",
       "}\n",
       "#T_9a204_row1_col1 {\n",
       "  background-color: #d2dbe8;\n",
       "  color: #000000;\n",
       "}\n",
       "#T_9a204_row1_col2 {\n",
       "  background-color: #e36b54;\n",
       "  color: #f1f1f1;\n",
       "}\n",
       "#T_9a204_row1_col3 {\n",
       "  background-color: #dfdbd9;\n",
       "  color: #000000;\n",
       "}\n",
       "#T_9a204_row1_col4 {\n",
       "  background-color: #cbd8ee;\n",
       "  color: #000000;\n",
       "}\n",
       "#T_9a204_row1_col5 {\n",
       "  background-color: #ead4c8;\n",
       "  color: #000000;\n",
       "}\n",
       "#T_9a204_row2_col0, #T_9a204_row5_col5, #T_9a204_row6_col1, #T_9a204_row6_col2, #T_9a204_row6_col3, #T_9a204_row6_col4 {\n",
       "  background-color: #3b4cc0;\n",
       "  color: #f1f1f1;\n",
       "}\n",
       "#T_9a204_row2_col2 {\n",
       "  background-color: #6282ea;\n",
       "  color: #f1f1f1;\n",
       "}\n",
       "#T_9a204_row2_col3 {\n",
       "  background-color: #e0654f;\n",
       "  color: #f1f1f1;\n",
       "}\n",
       "#T_9a204_row2_col4 {\n",
       "  background-color: #f08b6e;\n",
       "  color: #f1f1f1;\n",
       "}\n",
       "#T_9a204_row2_col5 {\n",
       "  background-color: #4a63d3;\n",
       "  color: #f1f1f1;\n",
       "}\n",
       "#T_9a204_row3_col0 {\n",
       "  background-color: #f5c4ac;\n",
       "  color: #000000;\n",
       "}\n",
       "#T_9a204_row3_col1 {\n",
       "  background-color: #a6c4fe;\n",
       "  color: #000000;\n",
       "}\n",
       "#T_9a204_row3_col3 {\n",
       "  background-color: #bcd2f7;\n",
       "  color: #000000;\n",
       "}\n",
       "#T_9a204_row3_col4 {\n",
       "  background-color: #9fbfff;\n",
       "  color: #000000;\n",
       "}\n",
       "#T_9a204_row3_col5 {\n",
       "  background-color: #8db0fe;\n",
       "  color: #000000;\n",
       "}\n",
       "#T_9a204_row4_col0 {\n",
       "  background-color: #536edd;\n",
       "  color: #f1f1f1;\n",
       "}\n",
       "#T_9a204_row4_col1 {\n",
       "  background-color: #ef886b;\n",
       "  color: #f1f1f1;\n",
       "}\n",
       "#T_9a204_row4_col2 {\n",
       "  background-color: #6788ee;\n",
       "  color: #f1f1f1;\n",
       "}\n",
       "#T_9a204_row4_col4, #T_9a204_row5_col3 {\n",
       "  background-color: #d44e41;\n",
       "  color: #f1f1f1;\n",
       "}\n",
       "#T_9a204_row4_col5 {\n",
       "  background-color: #3c4ec2;\n",
       "  color: #f1f1f1;\n",
       "}\n",
       "#T_9a204_row5_col0 {\n",
       "  background-color: #3d50c3;\n",
       "  color: #f1f1f1;\n",
       "}\n",
       "#T_9a204_row5_col1 {\n",
       "  background-color: #f59c7d;\n",
       "  color: #000000;\n",
       "}\n",
       "#T_9a204_row5_col2 {\n",
       "  background-color: #3f53c6;\n",
       "  color: #f1f1f1;\n",
       "}\n",
       "#T_9a204_row6_col0 {\n",
       "  background-color: #a9c6fd;\n",
       "  color: #000000;\n",
       "}\n",
       "</style>\n",
       "<table id=\"T_9a204_\">\n",
       "  <thead>\n",
       "    <tr>\n",
       "      <th class=\"index_name level0\" >offers</th>\n",
       "      <th class=\"col_heading level0 col0\" >product_id</th>\n",
       "      <th class=\"col_heading level0 col1\" >category3</th>\n",
       "      <th class=\"col_heading level0 col2\" >brand</th>\n",
       "      <th class=\"col_heading level0 col3\" >category2</th>\n",
       "      <th class=\"col_heading level0 col4\" >category1</th>\n",
       "      <th class=\"col_heading level0 col5\" >price</th>\n",
       "    </tr>\n",
       "    <tr>\n",
       "      <th class=\"index_name level0\" >model</th>\n",
       "      <th class=\"blank col0\" >&nbsp;</th>\n",
       "      <th class=\"blank col1\" >&nbsp;</th>\n",
       "      <th class=\"blank col2\" >&nbsp;</th>\n",
       "      <th class=\"blank col3\" >&nbsp;</th>\n",
       "      <th class=\"blank col4\" >&nbsp;</th>\n",
       "      <th class=\"blank col5\" >&nbsp;</th>\n",
       "    </tr>\n",
       "  </thead>\n",
       "  <tbody>\n",
       "    <tr>\n",
       "      <th id=\"T_9a204_level0_row0\" class=\"row_heading level0 row0\" >simple model</th>\n",
       "      <td id=\"T_9a204_row0_col0\" class=\"data row0 col0\" >0.762</td>\n",
       "      <td id=\"T_9a204_row0_col1\" class=\"data row0 col1\" >0.679</td>\n",
       "      <td id=\"T_9a204_row0_col2\" class=\"data row0 col2\" >0.743</td>\n",
       "      <td id=\"T_9a204_row0_col3\" class=\"data row0 col3\" >0.675</td>\n",
       "      <td id=\"T_9a204_row0_col4\" class=\"data row0 col4\" >0.656</td>\n",
       "      <td id=\"T_9a204_row0_col5\" class=\"data row0 col5\" >0.654</td>\n",
       "    </tr>\n",
       "    <tr>\n",
       "      <th id=\"T_9a204_level0_row1\" class=\"row_heading level0 row1\" >MONO:product_id</th>\n",
       "      <td id=\"T_9a204_row1_col0\" class=\"data row1 col0\" >0.756</td>\n",
       "      <td id=\"T_9a204_row1_col1\" class=\"data row1 col1\" >0.663</td>\n",
       "      <td id=\"T_9a204_row1_col2\" class=\"data row1 col2\" >0.741</td>\n",
       "      <td id=\"T_9a204_row1_col3\" class=\"data row1 col3\" >0.662</td>\n",
       "      <td id=\"T_9a204_row1_col4\" class=\"data row1 col4\" >0.648</td>\n",
       "      <td id=\"T_9a204_row1_col5\" class=\"data row1 col5\" >0.642</td>\n",
       "    </tr>\n",
       "    <tr>\n",
       "      <th id=\"T_9a204_level0_row2\" class=\"row_heading level0 row2\" >MONO:category3</th>\n",
       "      <td id=\"T_9a204_row2_col0\" class=\"data row2 col0\" >0.671</td>\n",
       "      <td id=\"T_9a204_row2_col1\" class=\"data row2 col1\" >0.740</td>\n",
       "      <td id=\"T_9a204_row2_col2\" class=\"data row2 col2\" >0.666</td>\n",
       "      <td id=\"T_9a204_row2_col3\" class=\"data row2 col3\" >0.717</td>\n",
       "      <td id=\"T_9a204_row2_col4\" class=\"data row2 col4\" >0.703</td>\n",
       "      <td id=\"T_9a204_row2_col5\" class=\"data row2 col5\" >0.579</td>\n",
       "    </tr>\n",
       "    <tr>\n",
       "      <th id=\"T_9a204_level0_row3\" class=\"row_heading level0 row3\" >MONO:brand</th>\n",
       "      <td id=\"T_9a204_row3_col0\" class=\"data row3 col0\" >0.728</td>\n",
       "      <td id=\"T_9a204_row3_col1\" class=\"data row3 col1\" >0.643</td>\n",
       "      <td id=\"T_9a204_row3_col2\" class=\"data row3 col2\" >0.756</td>\n",
       "      <td id=\"T_9a204_row3_col3\" class=\"data row3 col3\" >0.643</td>\n",
       "      <td id=\"T_9a204_row3_col4\" class=\"data row3 col4\" >0.627</td>\n",
       "      <td id=\"T_9a204_row3_col5\" class=\"data row3 col5\" >0.604</td>\n",
       "    </tr>\n",
       "    <tr>\n",
       "      <th id=\"T_9a204_level0_row4\" class=\"row_heading level0 row4\" >MONO:category2</th>\n",
       "      <td id=\"T_9a204_row4_col0\" class=\"data row4 col0\" >0.678</td>\n",
       "      <td id=\"T_9a204_row4_col1\" class=\"data row4 col1\" >0.710</td>\n",
       "      <td id=\"T_9a204_row4_col2\" class=\"data row4 col2\" >0.668</td>\n",
       "      <td id=\"T_9a204_row4_col3\" class=\"data row4 col3\" >0.739</td>\n",
       "      <td id=\"T_9a204_row4_col4\" class=\"data row4 col4\" >0.722</td>\n",
       "      <td id=\"T_9a204_row4_col5\" class=\"data row4 col5\" >0.573</td>\n",
       "    </tr>\n",
       "    <tr>\n",
       "      <th id=\"T_9a204_level0_row5\" class=\"row_heading level0 row5\" >MONO:category1</th>\n",
       "      <td id=\"T_9a204_row5_col0\" class=\"data row5 col0\" >0.672</td>\n",
       "      <td id=\"T_9a204_row5_col1\" class=\"data row5 col1\" >0.703</td>\n",
       "      <td id=\"T_9a204_row5_col2\" class=\"data row5 col2\" >0.655</td>\n",
       "      <td id=\"T_9a204_row5_col3\" class=\"data row5 col3\" >0.725</td>\n",
       "      <td id=\"T_9a204_row5_col4\" class=\"data row5 col4\" >0.737</td>\n",
       "      <td id=\"T_9a204_row5_col5\" class=\"data row5 col5\" >0.572</td>\n",
       "    </tr>\n",
       "    <tr>\n",
       "      <th id=\"T_9a204_level0_row6\" class=\"row_heading level0 row6\" >MONO:price</th>\n",
       "      <td id=\"T_9a204_row6_col0\" class=\"data row6 col0\" >0.701</td>\n",
       "      <td id=\"T_9a204_row6_col1\" class=\"data row6 col1\" >0.596</td>\n",
       "      <td id=\"T_9a204_row6_col2\" class=\"data row6 col2\" >0.653</td>\n",
       "      <td id=\"T_9a204_row6_col3\" class=\"data row6 col3\" >0.582</td>\n",
       "      <td id=\"T_9a204_row6_col4\" class=\"data row6 col4\" >0.579</td>\n",
       "      <td id=\"T_9a204_row6_col5\" class=\"data row6 col5\" >0.698</td>\n",
       "    </tr>\n",
       "  </tbody>\n",
       "</table>\n"
      ],
      "text/plain": [
       "<pandas.io.formats.style.Styler at 0x7f6c9871af70>"
      ]
     },
     "execution_count": 27,
     "metadata": {},
     "output_type": "execute_result"
    }
   ],
   "source": [
    "pd.pivot_table(results, 'wAUC', 'model', 'offers')\\\n",
    "    .rename(columns={'priceCluster': 'price'}, index={'MONO:priceCluster': 'MONO:price'})\\\n",
    "    .iloc[[6, 5, 3, 0, 2, 1, 4]][['product_id', 'category3', 'brand', 'category2', 'category1', 'price']]\\\n",
    "    .style.background_gradient(cmap='coolwarm').format(precision=3)"
   ]
  },
  {
   "cell_type": "markdown",
   "id": "c4633883-28eb-47b6-9334-34607554aa02",
   "metadata": {},
   "source": [
    "### Cold-start"
   ]
  },
  {
   "cell_type": "code",
   "execution_count": 28,
   "id": "b03cdb77-d2fb-4844-b833-c6677e6ca3c7",
   "metadata": {},
   "outputs": [],
   "source": [
    "results = pd.DataFrame()\n",
    "for task_name in ['product_id', 'brand', 'category3']:\n",
    "    for model_name in aucs[task_name]:\n",
    "        w_auc = wAUC(aucs[task_name][model_name], cutoff_low=10, cutoff_high=200)\n",
    "        results = pd.concat([results,\n",
    "                             pd.Series({'wAUC': w_auc, 'offers': task_name, 'model': model_name}).to_frame().T],\n",
    "                            ignore_index=True)"
   ]
  },
  {
   "cell_type": "code",
   "execution_count": 29,
   "id": "42cd138f-08de-4384-aa56-810d79aef0aa",
   "metadata": {},
   "outputs": [
    {
     "data": {
      "text/html": [
       "<style type=\"text/css\">\n",
       "#T_c15f4_row0_col0, #T_c15f4_row0_col1, #T_c15f4_row3_col2 {\n",
       "  background-color: #b40426;\n",
       "  color: #f1f1f1;\n",
       "}\n",
       "#T_c15f4_row0_col2 {\n",
       "  background-color: #b70d28;\n",
       "  color: #f1f1f1;\n",
       "}\n",
       "#T_c15f4_row1_col0 {\n",
       "  background-color: #dc5d4a;\n",
       "  color: #f1f1f1;\n",
       "}\n",
       "#T_c15f4_row1_col1 {\n",
       "  background-color: #4257c9;\n",
       "  color: #f1f1f1;\n",
       "}\n",
       "#T_c15f4_row1_col2 {\n",
       "  background-color: #f49a7b;\n",
       "  color: #000000;\n",
       "}\n",
       "#T_c15f4_row2_col0, #T_c15f4_row2_col1, #T_c15f4_row2_col2 {\n",
       "  background-color: #3b4cc0;\n",
       "  color: #f1f1f1;\n",
       "}\n",
       "#T_c15f4_row3_col0 {\n",
       "  background-color: #dddcdc;\n",
       "  color: #000000;\n",
       "}\n",
       "#T_c15f4_row3_col1 {\n",
       "  background-color: #c5d6f2;\n",
       "  color: #000000;\n",
       "}\n",
       "</style>\n",
       "<table id=\"T_c15f4_\">\n",
       "  <thead>\n",
       "    <tr>\n",
       "      <th class=\"index_name level0\" >offers</th>\n",
       "      <th class=\"col_heading level0 col0\" >product_id</th>\n",
       "      <th class=\"col_heading level0 col1\" >category3</th>\n",
       "      <th class=\"col_heading level0 col2\" >brand</th>\n",
       "    </tr>\n",
       "    <tr>\n",
       "      <th class=\"index_name level0\" >model</th>\n",
       "      <th class=\"blank col0\" >&nbsp;</th>\n",
       "      <th class=\"blank col1\" >&nbsp;</th>\n",
       "      <th class=\"blank col2\" >&nbsp;</th>\n",
       "    </tr>\n",
       "  </thead>\n",
       "  <tbody>\n",
       "    <tr>\n",
       "      <th id=\"T_c15f4_level0_row0\" class=\"row_heading level0 row0\" >simple model</th>\n",
       "      <td id=\"T_c15f4_row0_col0\" class=\"data row0 col0\" >0.760</td>\n",
       "      <td id=\"T_c15f4_row0_col1\" class=\"data row0 col1\" >0.760</td>\n",
       "      <td id=\"T_c15f4_row0_col2\" class=\"data row0 col2\" >0.769</td>\n",
       "    </tr>\n",
       "    <tr>\n",
       "      <th id=\"T_c15f4_level0_row1\" class=\"row_heading level0 row1\" >MONO:product_id</th>\n",
       "      <td id=\"T_c15f4_row1_col0\" class=\"data row1 col0\" >0.752</td>\n",
       "      <td id=\"T_c15f4_row1_col1\" class=\"data row1 col1\" >0.752</td>\n",
       "      <td id=\"T_c15f4_row1_col2\" class=\"data row1 col2\" >0.754</td>\n",
       "    </tr>\n",
       "    <tr>\n",
       "      <th id=\"T_c15f4_level0_row2\" class=\"row_heading level0 row2\" >MONO:category3</th>\n",
       "      <td id=\"T_c15f4_row2_col0\" class=\"data row2 col0\" >0.697</td>\n",
       "      <td id=\"T_c15f4_row2_col1\" class=\"data row2 col1\" >0.751</td>\n",
       "      <td id=\"T_c15f4_row2_col2\" class=\"data row2 col2\" >0.709</td>\n",
       "    </tr>\n",
       "    <tr>\n",
       "      <th id=\"T_c15f4_level0_row3\" class=\"row_heading level0 row3\" >MONO:brand</th>\n",
       "      <td id=\"T_c15f4_row3_col0\" class=\"data row3 col0\" >0.728</td>\n",
       "      <td id=\"T_c15f4_row3_col1\" class=\"data row3 col1\" >0.755</td>\n",
       "      <td id=\"T_c15f4_row3_col2\" class=\"data row3 col2\" >0.769</td>\n",
       "    </tr>\n",
       "  </tbody>\n",
       "</table>\n"
      ],
      "text/plain": [
       "<pandas.io.formats.style.Styler at 0x7f6c10df9700>"
      ]
     },
     "execution_count": 29,
     "metadata": {},
     "output_type": "execute_result"
    }
   ],
   "source": [
    "pd.pivot_table(results, 'wAUC', 'model', 'offers')\\\n",
    "    .rename(columns={'priceCluster': 'price'}, index={'MONO:priceCluster': 'MONO:price'})\\\n",
    "    .iloc[[6, 5, 3, 0]][['product_id', 'category3', 'brand']]\\\n",
    "    .style.background_gradient(cmap='coolwarm').format(precision=3)"
   ]
  }
 ],
 "metadata": {
  "kernelspec": {
   "display_name": "Custom [moksha-tf2-cpu.2-7] (Local)",
   "language": "python",
   "name": "local-eu.gcr.io_tinyclues-experiments_tinyclues_moksha-tf2-cpu.2-7_latest__moksha"
  },
  "language_info": {
   "codemirror_mode": {
    "name": "ipython",
    "version": 3
   },
   "file_extension": ".py",
   "mimetype": "text/x-python",
   "name": "python",
   "nbconvert_exporter": "python",
   "pygments_lexer": "ipython3",
   "version": "3.9.16"
  }
 },
 "nbformat": 4,
 "nbformat_minor": 5
}
